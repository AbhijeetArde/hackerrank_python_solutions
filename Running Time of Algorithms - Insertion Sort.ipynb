{
 "cells": [
  {
   "cell_type": "markdown",
   "metadata": {},
   "source": [
    "# Running Time of Algorithms - Insertion Sort"
   ]
  },
  {
   "cell_type": "markdown",
   "metadata": {},
   "source": [
    "In a previous challenge you implemented the Insertion Sort algorithm. It is a simple sorting algorithm that works well with small or mostly sorted data. However, it takes a long time to sort large unsorted data. To see why, we will analyze its running time.\n",
    "\n",
    "Running Time of Algorithms\n",
    "The running time of an algorithm for a specific input depends on the number of operations executed. The greater the number of operations, the longer the running time of an algorithm. We usually want to know how many operations an algorithm will execute in proportion to the size of its input, which we will call .\n",
    "\n",
    "What is the ratio of the running time of Insertion Sort to the size of the input? To answer this question, we need to examine the algorithm.\n",
    "\n",
    "Analysis of Insertion Sort\n",
    "For each element  in an array of  numbers, Insertion Sort compares the number to those to its left until it reaches a lower value element or the start. At that point it shifts everything to the right up one and inserts  into the array.\n",
    "\n",
    "How long does all that shifting take?\n",
    "\n",
    "In the best case, where the array was already sorted, no element will need to be moved, so the algorithm will just run through the array once and return the sorted array. The running time would be directly proportional to the size of the input, so we can say it will take  time.\n",
    "\n",
    "However, we usually focus on the worst-case running time (computer scientists are pretty pessimistic). The worst case for Insertion Sort occurs when the array is in reverse order. To insert each number, the algorithm will have to shift over that number to the beginning of the array. Sorting the entire array of  numbers will therefore take  operations, which is  (almost ). Computer scientists just round that up (pick the dominant term) to  and say that Insertion Sort is an \" time\" algorithm.\n",
    "\n",
    "running-time-picture\n",
    "\n",
    "What this means\n",
    "The running time of the algorithm against an array of  elements is . For  elements, it will be . Insertion Sort can work well for small inputs or if you know the data is likely to be nearly sorted, like check numbers as they are received by a bank. The running time becomes unreasonable for larger inputs."
   ]
  },
  {
   "cell_type": "markdown",
   "metadata": {},
   "source": [
    "Challenge\n",
    "Can you modify your previous Insertion Sort implementation to keep track of the number of shifts it makes while sorting? The only thing you should print is the number of shifts made by the algorithm to completely sort the array. A shift occurs when an element's position changes in the array. Do not shift an element if it is not necessary.\n",
    "\n",
    "Function Description\n",
    "\n",
    "Complete the runningTime function in the editor below. It should return an integer representing the number of shifts it will take to sort the given array.\n",
    "\n",
    "runningTime has the following parameter(s):\n",
    "\n",
    "arr: an array of integers\n",
    "Input Format\n",
    "\n",
    "The first line contains the integer , the number of elements to be sorted.\n",
    "The next line contains  integers of .\n",
    "\n",
    "Constraints\n",
    "\n",
    "\n",
    "\n",
    "Output Format\n",
    "\n",
    "Output the number of shifts it takes to sort the array.\n",
    "\n",
    "Sample Input\n",
    "\n",
    "5\n",
    "2 1 3 1 2\n",
    "Sample Output\n",
    "\n",
    "4\n",
    "Explanation\n",
    "\n",
    "Iteration   Array      Shifts\n",
    "0           2 1 3 1 2\n",
    "1           1 2 3 1 2     1\n",
    "2           1 2 3 1 2     0\n",
    "3           1 1 2 3 2     2\n",
    "4           1 1 2 2 3     1\n",
    "\n",
    "Total                     4"
   ]
  },
  {
   "cell_type": "code",
   "execution_count": 2,
   "metadata": {},
   "outputs": [
    {
     "name": "stdout",
     "output_type": "stream",
     "text": [
      "5\n",
      "2 1 3 1 2\n",
      "1 2 3 1 2\n",
      "[1, 2, 3, 1, 2]\n",
      "1\n",
      "1 2 3 1 2\n",
      "[1, 2, 3, 1, 2]\n",
      "1\n",
      "1 1 2 3 2\n",
      "[1, 1, 2, 3, 2]\n",
      "3\n",
      "1 1 2 2 3\n",
      "[1, 1, 2, 2, 3]\n",
      "4\n"
     ]
    }
   ],
   "source": [
    "import math\n",
    "import os\n",
    "import random\n",
    "import re\n",
    "import sys\n",
    "\n",
    "# Complete the runningTime function below.\n",
    "def runningTime(arr):\n",
    "    cnt = 0\n",
    "    for i in range(2, n+1):\n",
    "        tmp = arr[:i]\n",
    "        for j in range(len(tmp)-1, 0, -1):\n",
    "            if arr[j] < arr[j-1]:\n",
    "                arr[j], arr[j-1] = arr[j-1], arr[j]\n",
    "                cnt += 1\n",
    "        print(' '.join(str(k) for k in arr) )\n",
    "        print(arr)\n",
    "        print(cnt)\n",
    "\n",
    "if __name__ == '__main__':\n",
    "    #fptr = open(os.environ['OUTPUT_PATH'], 'w')\n",
    "\n",
    "    n = int(input())\n",
    "\n",
    "    arr = list(map(int, input().rstrip().split()))\n",
    "\n",
    "    result = runningTime(arr)\n",
    "\n",
    "    #fptr.write(str(result) + '\\n')\n",
    "\n",
    "    #fptr.close()\n"
   ]
  },
  {
   "cell_type": "code",
   "execution_count": null,
   "metadata": {},
   "outputs": [],
   "source": []
  }
 ],
 "metadata": {
  "kernelspec": {
   "display_name": "Python 3",
   "language": "python",
   "name": "python3"
  },
  "language_info": {
   "codemirror_mode": {
    "name": "ipython",
    "version": 3
   },
   "file_extension": ".py",
   "mimetype": "text/x-python",
   "name": "python",
   "nbconvert_exporter": "python",
   "pygments_lexer": "ipython3",
   "version": "3.6.5"
  }
 },
 "nbformat": 4,
 "nbformat_minor": 2
}
