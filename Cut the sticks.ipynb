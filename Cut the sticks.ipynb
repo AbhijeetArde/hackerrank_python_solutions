{
 "cells": [
  {
   "cell_type": "markdown",
   "metadata": {},
   "source": [
    "# Cut the sticks\n",
    "\n"
   ]
  },
  {
   "cell_type": "markdown",
   "metadata": {},
   "source": [
    "You are given a number of sticks of varying lengths. You will iteratively cut the sticks into smaller sticks, discarding the shortest pieces until there are none left. At each iteration you will determine the length of the shortest stick remaining, cut that length from each of the longer sticks and then discard all the pieces of that shortest length. When all the remaining sticks are the same length, they cannot be shortened so discard them.\n",
    "\n",
    "Given the lengths of  sticks, print the number of sticks that are left before each iteration until there are none left.\n",
    "\n",
    "For example, there are  sticks of lengths . The shortest stick length is , so we cut that length from the longer two and discard the pieces of length . Now our lengths are . Again, the shortest stick is of length , so we cut that amount from the longer stick and discard those pieces. There is only one stick left, , so we discard that stick. Our lengths are .\n",
    "\n",
    "Function Description\n",
    "\n",
    "Complete the cutTheSticks function in the editor below. It should return an array of integers representing the number of sticks before each cut operation is performed.\n",
    "\n",
    "cutTheSticks has the following parameter(s):\n",
    "\n",
    "arr: an array of integers representing the length of each stick\n",
    "Input Format\n",
    "\n",
    "The first line contains a single integer , the size of . \n",
    "The next line contains  space-separated integers, each an  where each value represents the length of the  stick.\n",
    "\n",
    "Output Format\n",
    "\n",
    "For each operation, print the number of sticks that are present before the operation on separate lines.\n",
    "\n",
    "Constraints\n",
    "\n",
    "Sample Input 0\n",
    "\n",
    "6\n",
    "5 4 4 2 2 8\n",
    "Sample Output 0\n",
    "\n",
    "6\n",
    "4\n",
    "2\n",
    "1\n",
    "Explanation 0\n",
    "\n",
    "sticks-length        length-of-cut   sticks-cut\n",
    "5 4 4 2 2 8             2               6\n",
    "3 2 2 _ _ 6             2               4\n",
    "1 _ _ _ _ 4             1               2\n",
    "_ _ _ _ _ 3             3               1\n",
    "_ _ _ _ _ _           DONE            DONE\n",
    "Sample Input 1\n",
    "\n",
    "8\n",
    "1 2 3 4 3 3 2 1\n",
    "Sample Output 1\n",
    "\n",
    "8\n",
    "6\n",
    "4\n",
    "1\n",
    "Explanation 1\n",
    "\n",
    "sticks-length         length-of-cut   sticks-cut\n",
    "1 2 3 4 3 3 2 1         1               8\n",
    "_ 1 2 3 2 2 1 _         1               6\n",
    "_ _ 1 2 1 1 _ _         1               4\n",
    "_ _ _ 1 _ _ _ _         1               1\n",
    "_ _ _ _ _ _ _ _       DONE            DONE"
   ]
  },
  {
   "cell_type": "code",
   "execution_count": 17,
   "metadata": {},
   "outputs": [
    {
     "name": "stdout",
     "output_type": "stream",
     "text": [
      "8\n",
      "1 2 3 4 3 3 2 1\n",
      "[8, 6, 4, 1]\n"
     ]
    }
   ],
   "source": [
    "import math\n",
    "import os\n",
    "import random\n",
    "import re\n",
    "import sys\n",
    "\n",
    "# Complete the cutTheSticks function below.\n",
    "def cutTheSticks(arr):\n",
    "    cut_length = 0\n",
    "    final = []\n",
    "    final.append(len(arr))\n",
    "    while sum(arr) > 0:\n",
    "        cut_length = min(arr)\n",
    "        arr[:] = [x - cut_length for x in arr]\n",
    "        arr[:] = [x for x in arr if x > 0]\n",
    "        final.append(len(arr))\n",
    "    final = final[:-1]\n",
    "    print(final)\n",
    "\n",
    "if __name__ == '__main__':\n",
    "    #fptr = open(os.environ['OUTPUT_PATH'], 'w')\n",
    "\n",
    "    n = int(input())\n",
    "\n",
    "    arr = list(map(int, input().rstrip().split()))\n",
    "\n",
    "    result = cutTheSticks(arr)\n",
    "\n",
    "    #fptr.write('\\n'.join(map(str, result)))\n",
    "    #fptr.write('\\n')\n",
    "\n",
    "    #fptr.close()"
   ]
  },
  {
   "cell_type": "markdown",
   "metadata": {},
   "source": [
    "Above my code is O(n^2)... But we can solve this in O(n)"
   ]
  },
  {
   "cell_type": "code",
   "execution_count": 19,
   "metadata": {},
   "outputs": [
    {
     "name": "stdout",
     "output_type": "stream",
     "text": [
      "6\n",
      "5 4 4 2 2 8\n",
      "6\n",
      "4\n",
      "2\n",
      "1\n"
     ]
    }
   ],
   "source": [
    "import math\n",
    "import os\n",
    "import random\n",
    "import re\n",
    "import sys\n",
    "\n",
    "# Complete the cutTheSticks function below.\n",
    "def cutTheSticks(arr):\n",
    "    while len(arr)!=0:\n",
    "        print(len(arr))\n",
    "        arr = [x for x in arr if x != min(arr)]\n",
    "\n",
    "if __name__ == '__main__':\n",
    "    #fptr = open(os.environ['OUTPUT_PATH'], 'w')\n",
    "\n",
    "    n = int(input())\n",
    "\n",
    "    arr = list(map(int, input().rstrip().split()))\n",
    "\n",
    "    result = cutTheSticks(arr)\n",
    "\n",
    "    #fptr.write('\\n'.join(map(str, result)))\n",
    "    #fptr.write('\\n')\n",
    "\n",
    "    #fptr.close()"
   ]
  },
  {
   "cell_type": "markdown",
   "metadata": {},
   "source": [
    "# a nice thing about python is that you can just do: while arr: ...\n",
    "\n",
    "an empty array will evaluate to False in a conditional statement.\n",
    "\n",
    "while arr:\n",
    "    print(len(arr))\n",
    "    arr = [x for x in arr if x != min(arr)]"
   ]
  },
  {
   "cell_type": "code",
   "execution_count": null,
   "metadata": {},
   "outputs": [],
   "source": []
  }
 ],
 "metadata": {
  "kernelspec": {
   "display_name": "Python 3",
   "language": "python",
   "name": "python3"
  },
  "language_info": {
   "codemirror_mode": {
    "name": "ipython",
    "version": 3
   },
   "file_extension": ".py",
   "mimetype": "text/x-python",
   "name": "python",
   "nbconvert_exporter": "python",
   "pygments_lexer": "ipython3",
   "version": "3.6.5"
  }
 },
 "nbformat": 4,
 "nbformat_minor": 2
}
