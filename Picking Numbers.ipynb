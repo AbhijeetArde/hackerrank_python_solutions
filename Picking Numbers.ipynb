{
 "cells": [
  {
   "cell_type": "markdown",
   "metadata": {},
   "source": [
    "# Picking Numbers"
   ]
  },
  {
   "cell_type": "markdown",
   "metadata": {},
   "source": [
    "Given an array of integers, find and print the maximum number of integers you can select from the array such that the absolute difference between any two of the chosen integers is less than or equal to 1.\n",
    "For example, if your array is [1,1,2,2,4,4,5,5,5], you can create two subarrays meeting the criterion: [1,1,2,2] and [4,4,5,5,5]. The maximum length subarray has 5 elements.\n",
    "Function Description\n",
    "\n",
    "Complete the pickingNumbers function in the editor below. It should return an integer that represents the length of the longest array that can be created.\n",
    "\n",
    "pickingNumbers has the following parameter(s):\n",
    "\n",
    "a: an array of integers\n",
    "Input Format\n",
    "\n",
    "The first line contains a single integer , the size of the array . \n",
    "The second line contains  space-separated integers .\n",
    "\n",
    "Constraints\n",
    "\n",
    "The answer will be .\n",
    "Output Format\n",
    "\n",
    "A single integer denoting the maximum number of integers you can choose from the array such that the absolute difference between any two of the chosen integers is .\n",
    "\n",
    "Sample Input 0\n",
    "\n",
    "6\n",
    "4 6 5 3 3 1\n",
    "Sample Output 0\n",
    "\n",
    "3\n",
    "Explanation 0\n",
    "\n",
    "We choose the following multiset of integers from the array: . Each pair in the multiset has an absolute difference (i.e.,  and ), so we print the number of chosen integers, , as our answer.\n",
    "\n",
    "Sample Input 1\n",
    "\n",
    "6\n",
    "1 2 2 3 1 2\n",
    "Sample Output 1\n",
    "\n",
    "5\n",
    "Explanation 1\n",
    "\n",
    "We choose the following multiset of integers from the array: . Each pair in the multiset has an absolute difference  (i.e., , , and ), so we print the number of chosen integers, , as our answer."
   ]
  },
  {
   "cell_type": "code",
   "execution_count": 6,
   "metadata": {},
   "outputs": [
    {
     "name": "stdout",
     "output_type": "stream",
     "text": [
      "6\n",
      "4 6 5 3 3 1\n",
      "k 4\n",
      "n1 1\n",
      "n2 2\n",
      "maximum 3\n",
      "k 6\n",
      "n1 1\n",
      "n2 1\n",
      "maximum 3\n",
      "k 5\n",
      "n1 1\n",
      "n2 1\n",
      "maximum 3\n",
      "k 3\n",
      "n1 2\n",
      "n2 0\n",
      "maximum 3\n",
      "k 3\n",
      "n1 2\n",
      "n2 0\n",
      "maximum 3\n",
      "k 1\n",
      "n1 1\n",
      "n2 0\n",
      "maximum 3\n"
     ]
    }
   ],
   "source": [
    "import math\n",
    "import os\n",
    "import random\n",
    "import re\n",
    "import sys\n",
    "\n",
    "#\n",
    "# Complete the 'pickingNumbers' function below.\n",
    "#\n",
    "# The function is expected to return an INTEGER.\n",
    "# The function accepts INTEGER_ARRAY a as parameter.\n",
    "#\n",
    "\n",
    "def pickingNumbers(a):\n",
    "    maximum = 0\n",
    "    diff = 1\n",
    "    for k in a:\n",
    "        print(\"k\", k)\n",
    "        n1 = a.count(k)\n",
    "        print(\"n1\", n1)\n",
    "        n2 = a.count(k-diff) #find number of respective values with given difference.\n",
    "        print(\"n2\", n2)\n",
    "        maximum = max(maximum, n1+n2)\n",
    "        print(\"maximum\", maximum)\n",
    "    return( maximum )\n",
    "\n",
    "        \n",
    "\n",
    "if __name__ == '__main__':\n",
    "    #fptr = open(os.environ['OUTPUT_PATH'], 'w')\n",
    "\n",
    "    n = int(input().strip())\n",
    "\n",
    "    a = list(map(int, input().rstrip().split()))\n",
    "\n",
    "    result = pickingNumbers(a)\n",
    "\n",
    "    #fptr.write(str(result) + '\\n')\n",
    "\n",
    "    #fptr.close()\n"
   ]
  },
  {
   "cell_type": "code",
   "execution_count": null,
   "metadata": {},
   "outputs": [],
   "source": []
  }
 ],
 "metadata": {
  "kernelspec": {
   "display_name": "Python 3",
   "language": "python",
   "name": "python3"
  },
  "language_info": {
   "codemirror_mode": {
    "name": "ipython",
    "version": 3
   },
   "file_extension": ".py",
   "mimetype": "text/x-python",
   "name": "python",
   "nbconvert_exporter": "python",
   "pygments_lexer": "ipython3",
   "version": "3.6.5"
  }
 },
 "nbformat": 4,
 "nbformat_minor": 2
}
