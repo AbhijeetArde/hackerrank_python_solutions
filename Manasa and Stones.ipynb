{
 "cells": [
  {
   "cell_type": "markdown",
   "metadata": {},
   "source": [
    "## Manasa and Stones"
   ]
  },
  {
   "cell_type": "markdown",
   "metadata": {},
   "source": [
    "Manasa is out on a hike with friends. She finds a trail of stones with numbers on them. She starts following the trail and notices that any two consecutive stones' numbers differ by one of two values. Legend has it that there is a treasure trove at the end of the trail. If Manasa can guess the value of the last stone, the treasure will be hers.\n",
    "\n",
    "For example, assume she finds  stones and their differences are  or . We know she starts with a  stone not included in her count. The permutations of differences for the two stones would be  or . Looking at each scenario, stones might have  or  on them. The last stone might have any of , or  on its face.\n",
    "\n",
    "Compute all possible numbers that might occur on the last stone given a starting stone with a  on it, a number of additional stones found, and the possible differences between consecutive stones. Order the list ascending.\n",
    "\n",
    "Function Description\n",
    "\n",
    "Complete the stones function in the editor below. It should return an array of integers representing all possible values of the last stone, sorted ascending.\n",
    "\n",
    "stones has the following parameter(s):\n",
    "\n",
    "n: an integer, the number of non-zero stones\n",
    "a: one possible integer difference\n",
    "b: another possible integer difference\n",
    "Input Format\n",
    "\n",
    "The first line contains an integer , the number of test cases.\n",
    "\n",
    "Each test case contains  lines:\n",
    "- The first line contains , the number of non-zero stones found.\n",
    "- The second line contains , one possible difference\n",
    "- The third line contains , the other possible difference.\n",
    "\n",
    "Constraints\n",
    "\n",
    "Output Format\n",
    "\n",
    "Space-separated list of numbers which are the possible values of the last stone in increasing order.\n",
    "\n",
    "Sample Input\n",
    "\n",
    "2\n",
    "3 \n",
    "1\n",
    "2\n",
    "4\n",
    "10\n",
    "100\n",
    "Sample Output\n",
    "\n",
    "2 3 4 \n",
    "30 120 210 300 \n",
    "Explanation\n",
    "\n",
    "With differences 1 and 2, all possible series for the first test case are given below:\n",
    "\n",
    "0,1,2\n",
    "0,1,3\n",
    "0,2,3\n",
    "0,2,4\n",
    "Hence the answer 2 3 4.\n",
    "\n",
    "With differences 10 and 100, all possible series for the second test case are the following:\n",
    "\n",
    "0, 10, 20, 30\n",
    "0, 10, 20, 120\n",
    "0, 10, 110, 120\n",
    "0, 10, 110, 210\n",
    "0, 100, 110, 120\n",
    "0, 100, 110, 210\n",
    "0, 100, 200, 210\n",
    "0, 100, 200, 300\n",
    "Hence the answer 30 120 210 300."
   ]
  },
  {
   "cell_type": "code",
   "execution_count": 6,
   "metadata": {},
   "outputs": [
    {
     "name": "stdout",
     "output_type": "stream",
     "text": [
      "1\n",
      "3\n",
      "1\n",
      "2\n",
      "[2, 3, 4]\n"
     ]
    }
   ],
   "source": [
    "import math\n",
    "import os\n",
    "import random\n",
    "import re\n",
    "import sys\n",
    "\n",
    "# Complete the stones function below.\n",
    "def stones(n, a, b):\n",
    "    print(sorted(set([a*i+b*(n-1-i) for i in range(n)])))\n",
    "\n",
    "if __name__ == '__main__':\n",
    "    #fptr = open(os.environ['OUTPUT_PATH'], 'w')\n",
    "\n",
    "    T = int(input())\n",
    "\n",
    "    for T_itr in range(T):\n",
    "        n = int(input())\n",
    "\n",
    "        a = int(input())\n",
    "\n",
    "        b = int(input())\n",
    "\n",
    "        result = stones(n, a, b)\n",
    "\n",
    "        #fptr.write(' '.join(map(str, result)))\n",
    "        #fptr.write('\\n')\n",
    "\n",
    "    #fptr.close()\n"
   ]
  },
  {
   "cell_type": "code",
   "execution_count": null,
   "metadata": {},
   "outputs": [],
   "source": [
    "#return sorted(set([a*i+b*(n-1-i) for i in range(n)]))"
   ]
  }
 ],
 "metadata": {
  "kernelspec": {
   "display_name": "Python 3",
   "language": "python",
   "name": "python3"
  },
  "language_info": {
   "codemirror_mode": {
    "name": "ipython",
    "version": 3
   },
   "file_extension": ".py",
   "mimetype": "text/x-python",
   "name": "python",
   "nbconvert_exporter": "python",
   "pygments_lexer": "ipython3",
   "version": "3.6.5"
  }
 },
 "nbformat": 4,
 "nbformat_minor": 2
}
