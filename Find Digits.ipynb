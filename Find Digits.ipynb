{
 "cells": [
  {
   "cell_type": "markdown",
   "metadata": {},
   "source": [
    "# Find Digits\n",
    "\n"
   ]
  },
  {
   "cell_type": "markdown",
   "metadata": {},
   "source": [
    "An integer  is a divisor of an integer  if the remainder of .\n",
    "\n",
    "Given an integer, for each digit that makes up the integer determine whether it is a divisor. Count the number of divisors occurring within the integer.\n",
    "\n",
    "Note: Each digit is considered to be unique, so each occurrence of the same digit should be counted (e.g. for ,  is a divisor of  each time it occurs so the answer is ).\n",
    "\n",
    "Function Description\n",
    "\n",
    "Complete the findDigits function in the editor below. It should return an integer representing the number of digits of  that are divisors of .\n",
    "\n",
    "findDigits has the following parameter(s):\n",
    "\n",
    "n: an integer to analyze\n",
    "Input Format\n",
    "\n",
    "The first line is an integer, , indicating the number of test cases. \n",
    "The  subsequent lines each contain an integer, .\n",
    "\n",
    "Constraints\n",
    "\n",
    " \n",
    "\n",
    "Output Format\n",
    "\n",
    "For every test case, count the number of digits in  that are divisors of . Print each answer on a new line.\n",
    "\n",
    "Sample Input\n",
    "\n",
    "2\n",
    "12\n",
    "1012\n",
    "Sample Output\n",
    "\n",
    "2\n",
    "3\n",
    "Explanation\n",
    "\n",
    "The number  is broken into two digits,  and . When  is divided by either of those two digits, the remainder is  so they are both divisors.\n",
    "\n",
    "The number  is broken into four digits, , , , and .  is evenly divisible by its digits , , and , but it is not divisible by  as division by zero is undefined."
   ]
  },
  {
   "cell_type": "code",
   "execution_count": 8,
   "metadata": {},
   "outputs": [
    {
     "name": "stdout",
     "output_type": "stream",
     "text": [
      "2\n",
      "12\n",
      "2\n",
      "1012\n",
      "3\n"
     ]
    }
   ],
   "source": [
    "import math\n",
    "import os\n",
    "import random\n",
    "import re\n",
    "import sys\n",
    "\n",
    "# Complete the findDigits function below.\n",
    "def findDigits(n):\n",
    "    count = 0\n",
    "    digit = str(n)\n",
    "    for i in range(len(digit)):\n",
    "        if int(digit[i]) == 0:\n",
    "            pass\n",
    "        elif int(digit[i]) == 1:\n",
    "            count = count+1\n",
    "        else:\n",
    "            if n % int(digit[i]) == 0:\n",
    "                count = count +1\n",
    "    print(count)\n",
    "        \n",
    "if __name__ == '__main__':\n",
    "    #fptr = open(os.environ['OUTPUT_PATH'], 'w')\n",
    "\n",
    "    t = int(input())\n",
    "\n",
    "    for t_itr in range(t):\n",
    "        n = int(input())\n",
    "\n",
    "        result = findDigits(n)\n",
    "\n",
    "        #fptr.write(str(result) + '\\n')\n",
    "\n",
    "    #fptr.close()"
   ]
  },
  {
   "cell_type": "code",
   "execution_count": 9,
   "metadata": {},
   "outputs": [
    {
     "name": "stdout",
     "output_type": "stream",
     "text": [
      "1\n",
      "12\n",
      "2\n"
     ]
    }
   ],
   "source": [
    "for _ in range(int(input())):\n",
    "    n=int(input())\n",
    "    print(sum([1 for i in str(n).replace('0','')if n%int(i)==0]))"
   ]
  },
  {
   "cell_type": "markdown",
   "metadata": {},
   "source": [
    "sum([not n % i for i in map(int, str(n)) if i != 0])"
   ]
  }
 ],
 "metadata": {
  "kernelspec": {
   "display_name": "Python 3",
   "language": "python",
   "name": "python3"
  },
  "language_info": {
   "codemirror_mode": {
    "name": "ipython",
    "version": 3
   },
   "file_extension": ".py",
   "mimetype": "text/x-python",
   "name": "python",
   "nbconvert_exporter": "python",
   "pygments_lexer": "ipython3",
   "version": "3.6.5"
  }
 },
 "nbformat": 4,
 "nbformat_minor": 2
}
