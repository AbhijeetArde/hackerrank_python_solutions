{
 "cells": [
  {
   "cell_type": "markdown",
   "metadata": {},
   "source": [
    "## Cavity Map"
   ]
  },
  {
   "cell_type": "markdown",
   "metadata": {},
   "source": [
    "You are given a square map as a matrix of integer strings. Each cell of the map has a value denoting its depth. We will call a cell of the map a cavity if and only if this cell is not on the border of the map and each cell adjacent to it has strictly smaller depth. Two cells are adjacent if they have a common side, or edge.\n",
    "\n",
    "Find all the cavities on the map and replace their depths with the uppercase character X.\n",
    "\n",
    "For example, given a matrix:\n",
    "\n",
    "989\n",
    "191\n",
    "111\n",
    "You should return:\n",
    "\n",
    "989\n",
    "1X1\n",
    "111\n",
    "The center cell was deeper than those on its edges: [8,1,1,1]. The deep cells in the top two corners don't share an edge with the center cell.\n",
    "\n",
    "Function Description\n",
    "\n",
    "Complete the cavityMap function in the editor below. It should return an array of strings, each representing a line of the completed map.\n",
    "\n",
    "cavityMap has the following parameter(s):\n",
    "\n",
    "grid: an array of strings, each representing a row of the grid\n",
    "Input Format\n",
    "\n",
    "The first line contains an integer , the number of rows and columns in the map.\n",
    "\n",
    "Each of the following  lines (rows) contains  positive digits without spaces (columns) representing depth at .\n",
    "\n",
    "Constraints\n",
    "\n",
    "\n",
    "Output Format\n",
    "\n",
    "Output  lines, denoting the resulting map. Each cavity should be replaced with the character X.\n",
    "\n",
    "Sample Input\n",
    "\n",
    "4\n",
    "1112\n",
    "1912\n",
    "1892\n",
    "1234\n",
    "Sample Output\n",
    "\n",
    "1112\n",
    "1X12\n",
    "18X2\n",
    "1234\n",
    "Explanation\n",
    "\n",
    "The two cells with the depth of 9 are not on the border and are surrounded on all sides by shallower cells. Their values have been replaced by X."
   ]
  },
  {
   "cell_type": "code",
   "execution_count": 14,
   "metadata": {},
   "outputs": [
    {
     "name": "stdout",
     "output_type": "stream",
     "text": [
      "4\n",
      "1234\n",
      "5678\n",
      "8765\n",
      "4321\n",
      "['1234', '5678', '8765', '4321']\n"
     ]
    }
   ],
   "source": [
    "import math\n",
    "import os\n",
    "import random\n",
    "import re\n",
    "import sys\n",
    "\n",
    "# Complete the cavityMap function below.\n",
    "def cavityMap(grid):\n",
    "    for i in range(1, len(grid)-1):\n",
    "        r = list(grid[i])\n",
    "        for j in range(1, len(r) - 1):\n",
    "            p = r[j+1], grid[i + 1][j], r[j-1], grid[i - 1][j]\n",
    "            if all(map(lambda a: a!='X' and a < r[j], p)):\n",
    "                r[j] = 'X'\n",
    "            grid[i] = ''.join(r)\n",
    "    print(grid)\n",
    "\n",
    "if __name__ == '__main__':\n",
    "    #fptr = open(os.environ['OUTPUT_PG[r + 1][c]TH'], 'w')\n",
    "\n",
    "    \n",
    "    n = int(input())\n",
    "\n",
    "    grid = []\n",
    "\n",
    "    for _ in range(n):\n",
    "        grid_item = input()\n",
    "        grid.append(grid_item)\n",
    "\n",
    "    result = cavityMap(grid)\n",
    "\n",
    "    #fptr.write('\\n'.join(result))\n",
    "    #fptr.write('\\n')\n",
    "\n",
    "    #fptr.close()\n"
   ]
  },
  {
   "cell_type": "code",
   "execution_count": null,
   "metadata": {},
   "outputs": [],
   "source": []
  }
 ],
 "metadata": {
  "kernelspec": {
   "display_name": "Python 3",
   "language": "python",
   "name": "python3"
  },
  "language_info": {
   "codemirror_mode": {
    "name": "ipython",
    "version": 3
   },
   "file_extension": ".py",
   "mimetype": "text/x-python",
   "name": "python",
   "nbconvert_exporter": "python",
   "pygments_lexer": "ipython3",
   "version": "3.6.5"
  }
 },
 "nbformat": 4,
 "nbformat_minor": 2
}
