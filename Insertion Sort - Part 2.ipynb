{
 "cells": [
  {
   "cell_type": "markdown",
   "metadata": {},
   "source": [
    "# Insertion Sort - Part 2"
   ]
  },
  {
   "cell_type": "markdown",
   "metadata": {},
   "source": [
    "In Insertion Sort Part 1, you inserted one element into an array at its correct sorted position. Using the same approach repeatedly, can you sort an entire array?\n",
    "\n",
    "Guideline: You already can place an element into a sorted array. How can you use that code to build up a sorted array, one element at a time? Note that in the first step, when you consider an array with just the first element, it is already sorted since there's nothing to compare it to.\n",
    "\n",
    "In this challenge, print the array after each iteration of the insertion sort, i.e., whenever the next element has been inserted at its correct position. Since the array composed of just the first element is already sorted, begin printing after placing the second element.\n",
    "\n",
    "For example, there are  elements in . Working from left to right, we get the following output:\n",
    "\n",
    "3 4 7 5 6 2 1\n",
    "3 4 7 5 6 2 1\n",
    "3 4 5 7 6 2 1\n",
    "3 4 5 6 7 2 1\n",
    "2 3 4 5 6 7 1\n",
    "1 2 3 4 5 6 7\n",
    "Function Description\n",
    "\n",
    "Complete the insertionSort2 function in the editor below. At each iteration, it should print the array as space-separated integers on a separate line.\n",
    "\n",
    "insertionSort2 has the following parameter(s):\n",
    "\n",
    "n: an integer representing the length of the array \n",
    "arr: an array of integers\n",
    "Input Format\n",
    "\n",
    "The first line contains an integer, , the size of .\n",
    "The next line contains  space-separated integers .\n",
    "\n",
    "Constraints\n",
    "\n",
    "\n",
    "\n",
    "Output Format\n",
    "\n",
    "On each line, output the entire array at every iteration.\n",
    "\n",
    "Sample Input\n",
    "\n",
    "6\n",
    "1 4 3 5 6 2\n",
    "Sample Output\n",
    "\n",
    "1 4 3 5 6 2 \n",
    "1 3 4 5 6 2 \n",
    "1 3 4 5 6 2 \n",
    "1 3 4 5 6 2 \n",
    "1 2 3 4 5 6 \n",
    "Explanation\n",
    "\n",
    "Skip testing  against itself at position . It is sorted.\n",
    "Test position  against position : , no more to check, no change.\n",
    "Print \n",
    "Test position  against positions  and :\n",
    "\n",
    ", new position may be . Keep checking.\n",
    ", so insert  at position  and move others to the right.\n",
    "Print \n",
    "Test position  against positions  (as necessary): no change.\n",
    "Print \n",
    "Test position  against positions : no change.\n",
    "Print \n",
    "Test position  against positions , insert  at position  and move others to the right.\n",
    "Print "
   ]
  },
  {
   "cell_type": "code",
   "execution_count": 21,
   "metadata": {},
   "outputs": [
    {
     "name": "stdout",
     "output_type": "stream",
     "text": [
      "6\n",
      "1 4 3 5 6 2\n",
      "[1, 4, 3, 5, 6, 2]\n",
      "[1, 3, 4, 5, 6, 2]\n",
      "[1, 3, 4, 5, 6, 2]\n",
      "[1, 3, 4, 5, 6, 2]\n",
      "[1, 2, 3, 4, 5, 6]\n"
     ]
    }
   ],
   "source": [
    "import math\n",
    "import os\n",
    "import random\n",
    "import re\n",
    "import sys\n",
    "\n",
    "# Complete the insertionSort2 function below.\n",
    "def insertionSort2(n, arr):\n",
    "    for i in range(2, n+1):\n",
    "        tmp = arr[:i]\n",
    "        for j in range(len(tmp)-1, 0, -1):\n",
    "            if arr[j] < arr[j-1]:\n",
    "                arr[j], arr[j-1] = arr[j-1], arr[j]\n",
    "        print(' '.join(str(k) for k in arr) )\n",
    "        print(arr)\n",
    "            \n",
    "            \n",
    "            #if arr[j] > arr[j-1]:\n",
    "            #    arr[j], arr[j-1] = arr[j-1], arr[j]\n",
    "        #print(arr)\n",
    "            \n",
    "\n",
    "if __name__ == '__main__':\n",
    "    n = int(input())\n",
    "\n",
    "    arr = list(map(int, input().rstrip().split()))\n",
    "\n",
    "    insertionSort2(n, arr)"
   ]
  },
  {
   "cell_type": "code",
   "execution_count": null,
   "metadata": {},
   "outputs": [],
   "source": []
  }
 ],
 "metadata": {
  "kernelspec": {
   "display_name": "Python 3",
   "language": "python",
   "name": "python3"
  },
  "language_info": {
   "codemirror_mode": {
    "name": "ipython",
    "version": 3
   },
   "file_extension": ".py",
   "mimetype": "text/x-python",
   "name": "python",
   "nbconvert_exporter": "python",
   "pygments_lexer": "ipython3",
   "version": "3.6.5"
  }
 },
 "nbformat": 4,
 "nbformat_minor": 2
}
