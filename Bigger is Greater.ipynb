{
 "cells": [
  {
   "cell_type": "markdown",
   "metadata": {},
   "source": [
    "# Bigger is Greater\n",
    "\n"
   ]
  },
  {
   "cell_type": "markdown",
   "metadata": {},
   "source": [
    "Lexicographical order is often known as alphabetical order when dealing with strings. A string is greater than another string if it comes later in a lexicographically sorted list.\n",
    "\n",
    "Given a word, create a new word by swapping some or all of its characters. This new word must meet two criteria:\n",
    "\n",
    "It must be greater than the original word\n",
    "It must be the smallest word that meets the first condition\n",
    "For example, given the word , the next largest word is .\n",
    "\n",
    "Complete the function biggerIsGreater below to create and return the new string meeting the criteria. If it is not possible, return no answer.\n",
    "\n",
    "Function Description\n",
    "\n",
    "Complete the biggerIsGreater function in the editor below. It should return the smallest lexicographically higher string possible from the given string or no answer.\n",
    "\n",
    "biggerIsGreater has the following parameter(s):\n",
    "\n",
    "w: a string\n",
    "Input Format\n",
    "\n",
    "The first line of input contains , the number of test cases. \n",
    "Each of the next  lines contains .\n",
    "\n",
    "Constraints\n",
    "\n",
    " will contain only letters in the range ascii[a..z].\n",
    "Output Format\n",
    "\n",
    "For each test case, output the string meeting the criteria. If no answer exists, print no answer.\n",
    "\n",
    "Sample Input 0\n",
    "\n",
    "5\n",
    "ab\n",
    "bb\n",
    "hefg\n",
    "dhck\n",
    "dkhc\n",
    "Sample Output 0\n",
    "\n",
    "ba\n",
    "no answer\n",
    "hegf\n",
    "dhkc\n",
    "hcdk\n",
    "Explanation 0\n",
    "\n",
    "Test case 1: \n",
    "ba is the only string which can be made by rearranging ab. It is greater.\n",
    "Test case 2: \n",
    "It is not possible to rearrange bb and get a greater string.\n",
    "Test case 3: \n",
    "hegf is the next string greater than hefg.\n",
    "Test case 4: \n",
    "dhkc is the next string greater than dhck.\n",
    "Test case 5: \n",
    "hcdk is the next string greater than dkhc.\n",
    "Sample Input 1\n",
    "\n",
    "6\n",
    "lmno\n",
    "dcba\n",
    "dcbb\n",
    "abdc\n",
    "abcd\n",
    "fedcbabcd\n",
    "Sample Output 1\n",
    "\n",
    "lmon\n",
    "no answer\n",
    "no answer\n",
    "acbd\n",
    "abdc\n",
    "fedcbabdc"
   ]
  },
  {
   "cell_type": "markdown",
   "metadata": {},
   "source": [
    "Ex:\n",
    "\n",
    "Given String 'ecdigf' --> find next immediate lexicographical order\n",
    "\n",
    "1)scan from right to left \n",
    "2)find the character that is lesser than previous character\n",
    "3)to that right of that chararacter, swap with the smallest character --> e c f i g d\n",
    "4)finally, sort the right side in ascendening order --> e c f d g i"
   ]
  },
  {
   "cell_type": "code",
   "execution_count": 48,
   "metadata": {},
   "outputs": [
    {
     "name": "stdout",
     "output_type": "stream",
     "text": [
      "2\n",
      "ab\n",
      "['b', 'a']\n",
      "ba\n",
      "bb\n",
      "no answer\n"
     ]
    }
   ],
   "source": [
    "import math\n",
    "import os\n",
    "import random\n",
    "import re\n",
    "import sys\n",
    "\n",
    "# Complete the biggerIsGreater function below.\n",
    "def biggerIsGreater(w):\n",
    "    first_small_char = ''\n",
    "    next_small_char = ''\n",
    "    position = 0\n",
    "    \n",
    "    charlist = [ord(char) for char in w]\n",
    "    length = len(charlist)\n",
    "    #find the position of smallest charter from right side and get its position\n",
    "    for i in range(length-1,-1, -1):\n",
    "        if charlist[i] > charlist[i-1]:\n",
    "            position = i-1\n",
    "            break\n",
    "    if i == 0:\n",
    "        print('no answer')\n",
    "    else:\n",
    "        first_small_char = position\n",
    "        next_small_char = position+1\n",
    "        for i in range(position+1, length):\n",
    "            if charlist[i] > charlist[first_small_char] and charlist[i] < charlist[next_small_char]:\n",
    "                next_small_char = i\n",
    "            charlist[next_small_char], charlist[position] = charlist[position], charlist[next_small_char]\n",
    "        list1 = charlist[:position+1]\n",
    "        list2 = charlist[position+1:]\n",
    "        list2.sort()\n",
    "        newlist = list1\n",
    "        for i in list2:\n",
    "            newlist.append(i)\n",
    "        final = [chr(char) for char in newlist]\n",
    "        print(final)\n",
    "        print(''.join(final))\n",
    "        \n",
    "        \n",
    "\n",
    "if __name__ == '__main__':\n",
    "    #fptr = open(os.environ['OUTPUT_PATH'], 'w')\n",
    "\n",
    "    T = int(input())\n",
    "\n",
    "    for T_itr in range(T):\n",
    "        w = input()\n",
    "\n",
    "        result = biggerIsGreater(w)\n",
    "\n",
    "        #fptr.write(result + '\\n')\n",
    "\n",
    "    #fptr.close()\n"
   ]
  },
  {
   "cell_type": "markdown",
   "metadata": {},
   "source": [
    "# Another simple soultion from disucssion:"
   ]
  },
  {
   "cell_type": "code",
   "execution_count": 51,
   "metadata": {},
   "outputs": [
    {
     "name": "stdout",
     "output_type": "stream",
     "text": [
      "1\n",
      "lmno\n",
      "lmon\n"
     ]
    }
   ],
   "source": [
    "import math\n",
    "import os\n",
    "import random\n",
    "import re\n",
    "import sys\n",
    "\n",
    "# Complete the biggerIsGreater function below.\n",
    "def biggerIsGreater(w):\n",
    "    s=w\n",
    "    has_greater = False\n",
    "    for i in range(len(s)-1)[::-1]:\n",
    "        if ord(s[i]) < ord(s[i+1]):\n",
    "            for j in range(i+1,len(s))[::-1]:\n",
    "                if ord(s[i]) < ord(s[j]):\n",
    "                    lis = list(s)\n",
    "                    lis[i],lis[j]=lis[j],lis[i]\n",
    "                    print(\"\".join(lis[:i+1]+lis[i+1:][::-1]))\n",
    "                    has_greater = True\n",
    "                if has_greater == True:\n",
    "                    break\n",
    "        if has_greater == True:\n",
    "            break\n",
    "    if has_greater == False:\n",
    "        print(\"no answer\")\n",
    "        \n",
    "        \n",
    "\n",
    "if __name__ == '__main__':\n",
    "    #fptr = open(os.environ['OUTPUT_PATH'], 'w')\n",
    "\n",
    "    T = int(input())\n",
    "\n",
    "    for T_itr in range(T):\n",
    "        w = input()\n",
    "\n",
    "        result = biggerIsGreater(w)\n",
    "\n",
    "        #fptr.write(result + '\\n')\n",
    "\n",
    "    #fptr.close()\n"
   ]
  },
  {
   "cell_type": "code",
   "execution_count": 6,
   "metadata": {},
   "outputs": [
    {
     "name": "stdout",
     "output_type": "stream",
     "text": [
      "lmon\n",
      "3\n",
      "2\n",
      "1\n",
      "0\n"
     ]
    }
   ],
   "source": [
    "w = input()\n",
    "for i in range(len(w))[::-1]:\n",
    "    print(i)\n"
   ]
  },
  {
   "cell_type": "code",
   "execution_count": 5,
   "metadata": {},
   "outputs": [
    {
     "name": "stdout",
     "output_type": "stream",
     "text": [
      "moon\n",
      "4\n"
     ]
    }
   ],
   "source": [
    "w = input()\n",
    "print(len(w))"
   ]
  },
  {
   "cell_type": "code",
   "execution_count": null,
   "metadata": {},
   "outputs": [],
   "source": []
  }
 ],
 "metadata": {
  "kernelspec": {
   "display_name": "Python 3",
   "language": "python",
   "name": "python3"
  },
  "language_info": {
   "codemirror_mode": {
    "name": "ipython",
    "version": 3
   },
   "file_extension": ".py",
   "mimetype": "text/x-python",
   "name": "python",
   "nbconvert_exporter": "python",
   "pygments_lexer": "ipython3",
   "version": "3.6.5"
  }
 },
 "nbformat": 4,
 "nbformat_minor": 2
}
