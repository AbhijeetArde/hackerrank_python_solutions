{
 "cells": [
  {
   "cell_type": "markdown",
   "metadata": {},
   "source": [
    "# Non-Divisible Subset\n",
    "\n"
   ]
  },
  {
   "cell_type": "markdown",
   "metadata": {},
   "source": [
    "Given a set of distinct integers, print the size of a maximal subset of  where the sum of any  numbers in  is not evenly divisible by .\n",
    "\n",
    "For example, the array  and . One of the arrays that can be created is . Another is . After testing all permutations, the maximum length solution array has elements.\n",
    "\n",
    "Function Description\n",
    "\n",
    "Complete the nonDivisibleSubset function in the editor below. It should return an integer representing the length of the longest subset of  meeting the criteria.\n",
    "\n",
    "nonDivisibleSubset has the following parameter(s):\n",
    "\n",
    "S: an array of integers\n",
    "k: an integer\n",
    "Input Format\n",
    "\n",
    "The first line contains  space-separated integers,  and , the number of values in  and the non factor. \n",
    "The second line contains  space-separated integers describing , the unique values of the set.\n",
    "\n",
    "Constraints\n",
    "\n",
    "All of the given numbers are distinct.\n",
    "Output Format\n",
    "\n",
    "Print the size of the largest possible subset ().\n",
    "\n",
    "Sample Input\n",
    "\n",
    "4 3\n",
    "1 7 2 4\n",
    "Sample Output\n",
    "\n",
    "3\n",
    "Explanation\n",
    "\n",
    "The sums of all permutations of two elements from  are:\n",
    "\n",
    "1 + 7 = 8\n",
    "1 + 2 = 3\n",
    "1 + 4 = 5\n",
    "7 + 2 = 9\n",
    "7 + 4 = 11\n",
    "2 + 4 = 6\n",
    "We see that only  will not ever sum to a multiple of ."
   ]
  },
  {
   "cell_type": "code",
   "execution_count": 9,
   "metadata": {},
   "outputs": [
    {
     "name": "stdout",
     "output_type": "stream",
     "text": [
      "15 7\n",
      "278 576 496 727 410 124 338 149 209 702 282 718 771 575 436\n",
      "87\n"
     ]
    }
   ],
   "source": [
    "import math\n",
    "import os\n",
    "import random\n",
    "import re\n",
    "import sys\n",
    "\n",
    "# Complete the nonDivisibleSubset function below.\n",
    "def nonDivisibleSubset(k, S):\n",
    "    lis = 0\n",
    "    for i in range(0, len(S)):\n",
    "        for j in range(i+1, len(S)):\n",
    "            if ((S[i] + S[j]) % k ) != 0:\n",
    "                lis += 1\n",
    "    print(lis)\n",
    "\n",
    "if __name__ == '__main__':\n",
    "    #fptr = open(os.environ['OUTPUT_PATH'], 'w')\n",
    "\n",
    "    nk = input().split()\n",
    "\n",
    "    n = int(nk[0])\n",
    "\n",
    "    k = int(nk[1])\n",
    "\n",
    "    S = list(map(int, input().rstrip().split()))\n",
    "\n",
    "    result = nonDivisibleSubset(k, S)\n",
    "\n",
    "    #fptr.write(str(result) + '\\n')\n",
    "\n",
    "    #fptr.close()\n"
   ]
  },
  {
   "cell_type": "code",
   "execution_count": 11,
   "metadata": {},
   "outputs": [
    {
     "name": "stdout",
     "output_type": "stream",
     "text": [
      "4 3 \n",
      "1 7 2 4\n",
      "counts [0, 0, 0]\n",
      "number 1\n",
      "counts [0, 1, 0]\n",
      "number 7\n",
      "counts [0, 2, 0]\n",
      "number 2\n",
      "counts [0, 2, 1]\n",
      "number 4\n",
      "counts [0, 3, 1]\n",
      "3\n"
     ]
    }
   ],
   "source": [
    "import math\n",
    "import os\n",
    "import random\n",
    "import re\n",
    "import sys\n",
    "\n",
    "def nonDivisibleSubset(k, S):\n",
    "    counts = [0] * k\n",
    "    for number in S:\n",
    "        counts[number % k] += 1\n",
    "        \n",
    "    count = min(counts[0], 1)\n",
    "    for i in range(1, k//2+1):\n",
    "        if i != k - i:\n",
    "            count += max(counts[i], counts[k-i])\n",
    "    if k % 2 == 0: \n",
    "        count += 1\n",
    "\n",
    "    print(count)\n",
    "    \n",
    "\n",
    "if __name__ == '__main__':\n",
    "    #fptr = open(os.environ['OUTPUT_PATH'], 'w')\n",
    "\n",
    "    nk = input().split()\n",
    "\n",
    "    n = int(nk[0])\n",
    "\n",
    "    k = int(nk[1])\n",
    "\n",
    "    S = list(map(int, input().rstrip().split()))\n",
    "\n",
    "    result = nonDivisibleSubset(k, S)\n",
    "\n",
    "    #fptr.write(str(result) + '\\n')\n",
    "\n",
    "    #fptr.close()\n",
    "\n"
   ]
  },
  {
   "cell_type": "code",
   "execution_count": null,
   "metadata": {},
   "outputs": [],
   "source": []
  }
 ],
 "metadata": {
  "kernelspec": {
   "display_name": "Python 3",
   "language": "python",
   "name": "python3"
  },
  "language_info": {
   "codemirror_mode": {
    "name": "ipython",
    "version": 3
   },
   "file_extension": ".py",
   "mimetype": "text/x-python",
   "name": "python",
   "nbconvert_exporter": "python",
   "pygments_lexer": "ipython3",
   "version": "3.6.5"
  }
 },
 "nbformat": 4,
 "nbformat_minor": 2
}
