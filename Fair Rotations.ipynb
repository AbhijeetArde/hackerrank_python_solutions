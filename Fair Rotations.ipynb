{
 "cells": [
  {
   "cell_type": "markdown",
   "metadata": {},
   "source": [
    "# Fair Rations"
   ]
  },
  {
   "cell_type": "markdown",
   "metadata": {},
   "source": [
    "You are the benevolent ruler of Rankhacker Castle, and today you're distributing bread. Your subjects are in a line, and some of them already have some loaves. Times are hard and your castle's food stocks are dwindling, so you must distribute as few loaves as possible according to the following rules:\n",
    "\n",
    "Every time you give a loaf of bread to some person , you must also give a loaf of bread to the person immediately in front of or behind them in the line (i.e., persons i+1 or i-1).\n",
    "\n",
    "After all the bread is distributed, each person must have an even number of loaves.\n",
    "\n",
    "Given the number of loaves already held by each citizen, find and print the minimum number of loaves you must distribute to satisfy the two rules above. If this is not possible, print NO.\n",
    "\n",
    "Given the number of loaves already held by each citizen, find and print the minimum number of loaves you must distribute to satisfy the two rules above. If this is not possible, print NO.\n",
    "\n",
    "For example, the people in line have loaves . We can first give a loaf to  and  so . Next we give a loaf to  and  and have  which satisfies our conditions. We had to distribute  loaves.\n",
    "\n",
    "Function Description\n",
    "\n",
    "Complete the fairRations function in the editor below. It should return an integer that represents the minimum number of loaves required.\n",
    "\n",
    "fairRations has the following parameter(s):\n",
    "\n",
    "B: an array of integers that represent the number of loaves each persons starts with .\n",
    "Input Format\n",
    "\n",
    "The first line contains an integer , the number of subjects in the bread line.\n",
    "\n",
    "The second line contains  space-separated integers .\n",
    "\n",
    "Constraints\n",
    "\n",
    ", where \n",
    "Output Format\n",
    "\n",
    "Print a single integer taht denotes the minimum number of loaves that must be distributed so that every person has an even number of loaves. If it's not possible to do this, print NO.\n",
    "\n",
    "Sample Input 0\n",
    "\n",
    "5\n",
    "2 3 4 5 6\n",
    "Sample Output 0\n",
    "\n",
    "4\n",
    "Explanation 0\n",
    "\n",
    "The initial distribution is . The requirements can be met as follows:\n",
    "\n",
    "Give  loaf of bread each to the second and third people so that the distribution becomes .\n",
    "Give  loaf of bread each to the third and fourth people so that the distribution becomes .\n",
    "Each of the  subjects has an even number of loaves after  loaves were distributed.\n",
    "\n",
    "Sample Input 1\n",
    "\n",
    "2\n",
    "1 2\n",
    "Sample Output 1\n",
    "\n",
    "NO\n",
    "Explanation 1\n",
    "\n",
    "The initial distribution is . As there are only  people in the line, any time you give one person a loaf you must always give the other person a loaf. Because the first person has an odd number of loaves and the second person has an even number of loaves, no amount of distributed loaves will ever result in both subjects having an even number of loaves."
   ]
  },
  {
   "cell_type": "code",
   "execution_count": 4,
   "metadata": {},
   "outputs": [
    {
     "name": "stdout",
     "output_type": "stream",
     "text": [
      "5\n",
      "2 3 4 5 6\n",
      "4\n"
     ]
    }
   ],
   "source": [
    "import math\n",
    "import os\n",
    "import random\n",
    "import re\n",
    "import sys\n",
    "\n",
    "# Complete the fairRations function below.\n",
    "def fairRations(B):\n",
    "    cnt = 0\n",
    "    for i in range(N-1):\n",
    "        if (B[i] % 2 == 1):\n",
    "            B[i] += 1\n",
    "            B[i+1] += 1\n",
    "            cnt += 2\n",
    "    if B[-1] % 2 == 1:\n",
    "        print(\"NO\")\n",
    "    else:\n",
    "        print(cnt)\n",
    "        \n",
    "if __name__ == '__main__':\n",
    "    #fptr = open(os.environ['OUTPUT_PATH'], 'w')\n",
    "\n",
    "    N = int(input())\n",
    "\n",
    "    B = list(map(int, input().rstrip().split()))\n",
    "\n",
    "    result = fairRations(B)\n",
    "\n",
    "    #fptr.write(str(result) + '\\n')\n",
    "\n",
    "    #fptr.close()"
   ]
  },
  {
   "cell_type": "code",
   "execution_count": null,
   "metadata": {},
   "outputs": [],
   "source": []
  }
 ],
 "metadata": {
  "kernelspec": {
   "display_name": "Python 3",
   "language": "python",
   "name": "python3"
  },
  "language_info": {
   "codemirror_mode": {
    "name": "ipython",
    "version": 3
   },
   "file_extension": ".py",
   "mimetype": "text/x-python",
   "name": "python",
   "nbconvert_exporter": "python",
   "pygments_lexer": "ipython3",
   "version": "3.6.5"
  }
 },
 "nbformat": 4,
 "nbformat_minor": 2
}
