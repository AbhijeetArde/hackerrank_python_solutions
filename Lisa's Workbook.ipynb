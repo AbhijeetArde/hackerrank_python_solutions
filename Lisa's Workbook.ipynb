{
 "cells": [
  {
   "cell_type": "markdown",
   "metadata": {},
   "source": [
    "# Lisa's Workbook\n",
    "\n"
   ]
  },
  {
   "cell_type": "markdown",
   "metadata": {},
   "source": [
    "Lisa just got a new math workbook. A workbook contains exercise problems, grouped into chapters. Lisa believes a problem to be special if its index (within a chapter) is the same as the page number where it's located. The format of Lisa's book is as follows:\n",
    "\n",
    "There are  chapters in Lisa's workbook, numbered from  to .\n",
    "The  chapter has  problems, numbered from  to .\n",
    "Each page can hold up to  problems. Only a chapter's last page of exercises may contain fewer than  problems.\n",
    "Each new chapter starts on a new page, so a page will never contain problems from more than one chapter.\n",
    "The page number indexing starts at .\n",
    "Given the details for Lisa's workbook, can you count its number of special problems?\n",
    "\n",
    "For example, Lisa's workbook contains  problems for chapter , and  problems for chapter . Each page can hold  problems. The first page will hold  problems for chapter . Problem  is on page , so it is special. Page contains only Chapter , Problem , so no special problem is on page . Chapter  problems start on page  and there are problems. Since there is no problem  on page , there is no special problem on that page either. There is  special problem in her workbook.\n",
    "\n",
    "Note: See the diagram in the Explanation section for more details.\n",
    "\n",
    "Function Description\n",
    "\n",
    "Complete the workbook function in the editor below. It should return an integer that represents the number of special problems in the workbook.\n",
    "\n",
    "workbook has the following parameter(s):\n",
    "\n",
    "n: an integer that denotes the number of chapters\n",
    "k: an integer that denotes the maximum number of problems per page\n",
    "arr: an array of integers that denote the number of problems in each chapter\n",
    "Input Format\n",
    "\n",
    "The first line contains two integers  and , the number of chapters and the maximum number of problems per page. \n",
    "The second line contains  space-separated integers  where  denotes the number of problems in the  chapter.\n",
    "\n",
    "Constraints\n",
    "\n",
    "Output Format\n",
    "\n",
    "Print the number of special problems in Lisa's workbook.\n",
    "\n",
    "Sample Input\n",
    "\n",
    "5 3  \n",
    "4 2 6 1 10\n",
    "Sample Output\n",
    "\n",
    "4\n",
    "Explanation\n",
    "\n",
    "The diagram below depicts Lisa's workbook with  chapters and a maximum of  problems per page. Special problems are outlined in red, and page numbers are in yellow squares.\n",
    "\n",
    "bear_workbook.png\n",
    "\n",
    "There are  special problems and thus we print the number  on a new line."
   ]
  },
  {
   "cell_type": "code",
   "execution_count": 5,
   "metadata": {},
   "outputs": [
    {
     "name": "stdout",
     "output_type": "stream",
     "text": [
      "5 3\n",
      "4 2 6 1 10\n",
      "2\n",
      "2\n",
      "4\n"
     ]
    }
   ],
   "source": [
    "import math\n",
    "import os\n",
    "import random\n",
    "import re\n",
    "import sys\n",
    "\n",
    "# Complete the workbook function below.\n",
    "def workbook(n, k, arr):\n",
    "    page = 0\n",
    "    special = 0\n",
    "    pagelist = []\n",
    "    for i in range(n):\n",
    "        if arr[i] < k:\n",
    "            pass\n",
    "        else:\n",
    "            pagelen = math.ceil(arr[i]/k))\n",
    "            for i in range(pagelen):\n",
    "                for i in range(1, arr[i]=1,k):\n",
    "                    \n",
    "            \n",
    "\n",
    "if __name__ == '__main__':\n",
    "    #fptr = open(os.environ['OUTPUT_PATH'], 'w')\n",
    "\n",
    "    nk = input().split()\n",
    "\n",
    "    n = int(nk[0])\n",
    "\n",
    "    k = int(nk[1])\n",
    "\n",
    "    arr = list(map(int, input().rstrip().split()))\n",
    "\n",
    "    result = workbook(n, k, arr)\n",
    "\n",
    "    #fptr.write(str(result) + '\\n')\n",
    "\n",
    "    #fptr.close()"
   ]
  },
  {
   "cell_type": "code",
   "execution_count": null,
   "metadata": {},
   "outputs": [],
   "source": [
    "def workbook(n, k, arr):\n",
    "    pg, ct = 0, 0    \n",
    "    for i in arr:\n",
    "        for j in range(math.ceil(i/k)):\n",
    "            pg += 1\n",
    "            if pg in range(j*k+1,min((j+1)*k,i)+1):\n",
    "                ct += 1\n",
    "    return ct"
   ]
  }
 ],
 "metadata": {
  "kernelspec": {
   "display_name": "Python 3",
   "language": "python",
   "name": "python3"
  },
  "language_info": {
   "codemirror_mode": {
    "name": "ipython",
    "version": 3
   },
   "file_extension": ".py",
   "mimetype": "text/x-python",
   "name": "python",
   "nbconvert_exporter": "python",
   "pygments_lexer": "ipython3",
   "version": "3.6.5"
  }
 },
 "nbformat": 4,
 "nbformat_minor": 2
}
