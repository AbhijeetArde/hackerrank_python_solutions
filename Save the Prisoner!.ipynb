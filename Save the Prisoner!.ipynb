{
 "cells": [
  {
   "cell_type": "markdown",
   "metadata": {},
   "source": [
    "# Save the Prisoner!"
   ]
  },
  {
   "cell_type": "markdown",
   "metadata": {},
   "source": [
    "A jail has a number of prisoners and a number of treats to pass out to them. Their jailer decides the fairest way to divide the treats is to seat the prisoners around a circular table in sequentially numbered chairs. A chair number will be drawn from a hat. Beginning with the prisoner in that chair, one candy will be handed to each prisoner sequentially around the table until all have been distributed.\n",
    "\n",
    "The jailer is playing a little joke, though. The last piece of candy looks like all the others, but it tastes awful. Determine the chair number occupied by the prisoner who will receive that candy.\n",
    "\n",
    "For example, there are 4 prisoners and 6 pieces of candy. The prisoners arrange themselves in seats numbered 1 to 4. Let's suppose two is drawn from the hat. Prisoners receive candy at positions 2,3,4,1,2,3. The prisoner to be warned sits in chair number 3.\n",
    "\n",
    "Function Description\n",
    "\n",
    "Complete the saveThePrisoner function in the editor below. It should return an integer representing the chair number of the prisoner to warn.\n",
    "\n",
    "saveThePrisoner has the following parameter(s):\n",
    "\n",
    "n: an integer, the number of prisoners\n",
    "m: an integer, the number of sweets\n",
    "s: an integer, the chair number to begin passing out sweets from\n",
    "Input Format\n",
    "\n",
    "The first line contains an integer, , denoting the number of test cases. \n",
    "The next  lines each contain  space-separated integers: \n",
    "- : the number of prisoners \n",
    "- : the number of sweets \n",
    "- : the chair number to start passing out treats at\n",
    "\n",
    "Constraints\n",
    "\n",
    "Output Format\n",
    "\n",
    "For each test case, print the chair number of the prisoner who receives the awful treat on a new line.\n",
    "\n",
    "Sample Input 0\n",
    "\n",
    "2\n",
    "5 2 1\n",
    "5 2 2\n",
    "\n",
    "Sample Output 0\n",
    "\n",
    "2\n",
    "3\n",
    "Explanation 0\n",
    "In first query, there are  prisoners and  sweets. Distribution starts at seat number . Prisoners in seats numbered  and  get sweets. Warn prisoner . \n",
    "In the second query, distribution starts at seat  so prisoners in seats  and  get sweets. Warn prisoner .\n",
    "\n",
    "Sample Input 1\n",
    "\n",
    "2\n",
    "7 19 2\n",
    "3 7 3\n",
    "Sample Output 1\n",
    "\n",
    "6\n",
    "3\n",
    "Explanation 1\n",
    "\n",
    "In the first test case, there are  prisoners,  sweets and they are passed out starting at chair . The candies go all around twice and there are  more candies passed to each prisoner from seat  to seat .\n",
    "\n",
    "In the second test case, there are  prisoners,  candies and they are passed out starting at seat . They go around twice, and there is one more to pass out to the prisoner at seat .\n"
   ]
  },
  {
   "cell_type": "code",
   "execution_count": 9,
   "metadata": {},
   "outputs": [
    {
     "name": "stdout",
     "output_type": "stream",
     "text": [
      "1\n",
      "7 19 2\n",
      "6\n"
     ]
    }
   ],
   "source": [
    "import math\n",
    "import os\n",
    "import random\n",
    "import re\n",
    "import sys\n",
    "\n",
    "# Complete the saveThePrisoner function below.\n",
    "def saveThePrisoner(n, m, s):\n",
    "    r = m % n\n",
    "    if (r+s-1)%n == 0:\n",
    "        return n\n",
    "    else:\n",
    "        return ((r+s-1)%n)\n",
    "    \n",
    "\n",
    "if __name__ == '__main__':\n",
    "    #fptr = open(os.environ['OUTPUT_PATH'], 'w')\n",
    "\n",
    "    t = int(input())\n",
    "\n",
    "    for t_itr in range(t):\n",
    "        nms = input().split()\n",
    "\n",
    "        n = int(nms[0])\n",
    "\n",
    "        m = int(nms[1])\n",
    "\n",
    "        s = int(nms[2])\n",
    "\n",
    "        result = saveThePrisoner(n, m, s)\n",
    "        print(result)\n",
    "\n",
    "        #fptr.write(str(result) + '\\n')\n",
    "\n",
    "    #fptr.close()"
   ]
  },
  {
   "cell_type": "code",
   "execution_count": null,
   "metadata": {},
   "outputs": [],
   "source": []
  }
 ],
 "metadata": {
  "kernelspec": {
   "display_name": "Python 3",
   "language": "python",
   "name": "python3"
  },
  "language_info": {
   "codemirror_mode": {
    "name": "ipython",
    "version": 3
   },
   "file_extension": ".py",
   "mimetype": "text/x-python",
   "name": "python",
   "nbconvert_exporter": "python",
   "pygments_lexer": "ipython3",
   "version": "3.6.5"
  }
 },
 "nbformat": 4,
 "nbformat_minor": 2
}
