{
 "cells": [
  {
   "cell_type": "markdown",
   "metadata": {},
   "source": [
    "# Birthday Chocolate"
   ]
  },
  {
   "cell_type": "markdown",
   "metadata": {},
   "source": [
    "Lily has a chocolate bar that she wants to share it with Ron for his birthday. Each of the squares has an integer on it. She decides to share a contiguous segment of the bar selected such that the length of the segment matches Ron's birth month and the sum of the integers on the squares is equal to his birth day. You must determine how many ways she can divide the chocolate.\n",
    "\n",
    "Consider the chocolate bar as an array of squares, S = [2,2,1,3,2] . She wants to find segments summing to Ron's birth day, D=4  with a length equalling his birth month, m = 2. In this case, there are two segments meeting her criteria: [2,2]  and [1,3].\n",
    "\n",
    "Function Description\n",
    "\n",
    "Complete the birthday function in the editor below. It should return an integer denoting the number of ways Lily can divide the chocolate bar.\n",
    "\n",
    "birthday has the following parameter(s):\n",
    "\n",
    "s: an array of integers, the numbers on each of the squares of chocolate\n",
    "d: an integer, Ron's birth day\n",
    "m: an integer, Ron's birth month\n",
    "\n",
    "Input Format\n",
    "\n",
    "The first line contains an integer , the number of squares in the chocolate bar. \n",
    "The second line contains  space-separated integers , the numbers on the chocolate squares where . \n",
    "The third line contains two space-separated integers,  and , Ron's birth day and his birth month.\n",
    "\n",
    "Constraints\n",
    "\n",
    ", where ()\n",
    "Output Format\n",
    "\n",
    "Print an integer denoting the total number of ways that Lily can portion her chocolate bar to share with Ron.\n",
    "\n",
    "Sample Input 0\n",
    "\n",
    "5\n",
    "1 2 1 3 2\n",
    "3 2\n",
    "Sample Output 0\n",
    "\n",
    "2\n",
    "\n",
    "Lily wants to give Ron  squares summing to . The following two segments meet the criteria:\n",
    "\n",
    "image\n",
    "\n",
    "Sample Input 1\n",
    "\n",
    "6\n",
    "1 1 1 1 1 1\n",
    "3 2\n",
    "Sample Output 1\n",
    "\n",
    "0\n",
    "Explanation 1\n",
    "\n",
    "Lily only wants to give Ron  consecutive squares of chocolate whose integers sum to . There are no possible pieces satisfying these constraints:\n",
    "\n",
    "image\n",
    "\n",
    "Thus, we print  as our answer.\n",
    "\n",
    "Sample Input 2\n",
    "\n",
    "1\n",
    "4\n",
    "4 1\n",
    "Sample Output 2\n",
    "\n",
    "1\n",
    "Explanation 2\n",
    "\n",
    "Lily only wants to give Ron  square of chocolate with an integer value of . Because the only square of chocolate in the bar satisfies this constraint, we print  as our answer."
   ]
  },
  {
   "cell_type": "code",
   "execution_count": 12,
   "metadata": {},
   "outputs": [
    {
     "name": "stdout",
     "output_type": "stream",
     "text": [
      "6\n",
      "1 1 1 1 1 1\n",
      "3 2\n",
      "0\n"
     ]
    }
   ],
   "source": [
    "import math\n",
    "import os\n",
    "import random\n",
    "import re\n",
    "import sys\n",
    "\n",
    "# Complete the birthday function below.\n",
    "def birthday(s, d, m):\n",
    "    count = 0\n",
    "    for i in range(len(s)):\n",
    "        list = s[i:i+m]\n",
    "        if sum(list) == d:\n",
    "            count += 1\n",
    "    print(count)\n",
    "\n",
    "if __name__ == '__main__':\n",
    "    #fptr = open(os.environ['OUTPUT_PATH'], 'w')\n",
    "\n",
    "    n = int(input().strip())\n",
    "\n",
    "    s = list(map(int, input().rstrip().split()))\n",
    "\n",
    "    dm = input().rstrip().split()\n",
    "\n",
    "    d = int(dm[0])\n",
    "\n",
    "    m = int(dm[1])\n",
    "\n",
    "    result = birthday(s, d, m)\n",
    "\n",
    "    #fptr.write(str(result) + '\\n')\n",
    "\n",
    "    #fptr.close()\n"
   ]
  },
  {
   "cell_type": "code",
   "execution_count": null,
   "metadata": {},
   "outputs": [],
   "source": []
  }
 ],
 "metadata": {
  "kernelspec": {
   "display_name": "Python 3",
   "language": "python",
   "name": "python3"
  },
  "language_info": {
   "codemirror_mode": {
    "name": "ipython",
    "version": 3
   },
   "file_extension": ".py",
   "mimetype": "text/x-python",
   "name": "python",
   "nbconvert_exporter": "python",
   "pygments_lexer": "ipython3",
   "version": "3.6.5"
  }
 },
 "nbformat": 4,
 "nbformat_minor": 2
}
