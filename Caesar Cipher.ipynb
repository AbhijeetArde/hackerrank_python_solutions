{
 "cells": [
  {
   "cell_type": "markdown",
   "metadata": {},
   "source": [
    "# Caesar Cipher"
   ]
  },
  {
   "cell_type": "markdown",
   "metadata": {},
   "source": [
    "Julius Caesar protected his confidential information by encrypting it using a cipher. Caesar's cipher shifts each letter by a number of letters. If the shift takes you past the end of the alphabet, just rotate back to the front of the alphabet. In the case of a rotation by 3, w, x, y and z would map to z, a, b and c.\n",
    "\n",
    "Original alphabet:      abcdefghijklmnopqrstuvwxyz\n",
    "Alphabet rotated +3:    defghijklmnopqrstuvwxyzabc\n",
    "For example, the given cleartext  and the alphabet is rotated by . The encrypted string is .\n",
    "\n",
    "Note: The cipher only encrypts letters; symbols, such as -, remain unencrypted.\n",
    "\n",
    "Function Description\n",
    "\n",
    "Complete the caesarCipher function in the editor below. It should return the encrypted string.\n",
    "\n",
    "caesarCipher has the following parameter(s):\n",
    "\n",
    "s: a string in cleartext\n",
    "k: an integer, the alphabet rotation factor\n",
    "Input Format\n",
    "\n",
    "The first line contains the integer, , the length of the unencrypted string.\n",
    "The second line contains the unencrypted string, .\n",
    "The third line contains , the number of letters to rotate the alphabet by.\n",
    "\n",
    "Constraints\n",
    "\n",
    "\n",
    "\n",
    " is a valid ASCII string without any spaces.\n",
    "\n",
    "Output Format\n",
    "\n",
    "For each test case, print the encoded string.\n",
    "\n",
    "Sample Input\n",
    "\n",
    "11\n",
    "middle-Outz\n",
    "2\n",
    "Sample Output\n",
    "\n",
    "okffng-Qwvb\n",
    "Explanation\n",
    "\n",
    "Original alphabet:      abcdefghijklmnopqrstuvwxyz\n",
    "Alphabet rotated +2:    cdefghijklmnopqrstuvwxyzab\n",
    "\n",
    "m -> o\n",
    "i -> k\n",
    "d -> f\n",
    "d -> f\n",
    "l -> n\n",
    "e -> g\n",
    "-    -\n",
    "O -> Q\n",
    "u -> w\n",
    "t -> v\n",
    "z -> b"
   ]
  },
  {
   "cell_type": "code",
   "execution_count": 12,
   "metadata": {},
   "outputs": [
    {
     "name": "stdout",
     "output_type": "stream",
     "text": [
      "11\n",
      "balajivenky\n",
      "2\n",
      "dcnclkxgpma\n"
     ]
    }
   ],
   "source": [
    "import math\n",
    "import os\n",
    "import random\n",
    "import re\n",
    "import sys\n",
    "\n",
    "# Complete the caesarCipher function below.\n",
    "def caesarCipher(s, k):\n",
    "    #ascii A-Z:65-90 && a-z:97-122\n",
    "    for i in range(len(s)):\n",
    "        if 97 <= ord(s[i]) <= 122:\n",
    "            s = s[:i] + chr(((ord(s[i]) - 97 + k ) %26) + 97) + s[i+1:]\n",
    "        elif 65 <= ord(s[i]) <= 90:\n",
    "            s = s[:i] + chr(((ord(s[i]) - 65 + k ) %26) + 65) + s[i+1:]\n",
    "    print(s)\n",
    "\n",
    "if __name__ == '__main__':\n",
    "    #fptr = open(os.environ['OUTPUT_PATH'], 'w')\n",
    "\n",
    "    n = int(input())\n",
    "\n",
    "    s = input()\n",
    "\n",
    "    k = int(input())\n",
    "\n",
    "    result = caesarCipher(s, k)\n",
    "\n",
    "    #fptr.write(result + '\\n')\n",
    "\n",
    "    #fptr.close()"
   ]
  },
  {
   "cell_type": "code",
   "execution_count": null,
   "metadata": {},
   "outputs": [],
   "source": []
  }
 ],
 "metadata": {
  "kernelspec": {
   "display_name": "Python 3",
   "language": "python",
   "name": "python3"
  },
  "language_info": {
   "codemirror_mode": {
    "name": "ipython",
    "version": 3
   },
   "file_extension": ".py",
   "mimetype": "text/x-python",
   "name": "python",
   "nbconvert_exporter": "python",
   "pygments_lexer": "ipython3",
   "version": "3.6.5"
  }
 },
 "nbformat": 4,
 "nbformat_minor": 2
}
