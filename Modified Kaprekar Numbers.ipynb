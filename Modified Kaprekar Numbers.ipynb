{
 "cells": [
  {
   "cell_type": "markdown",
   "metadata": {},
   "source": [
    "# Modified Kaprekar Numbers"
   ]
  },
  {
   "cell_type": "markdown",
   "metadata": {},
   "source": [
    "A modified Kaprekar number is a positive whole number with a special property. If you square it, then split the number into two integers and sum those integers, you have the same value you started with.\n",
    "\n",
    "Consider a positive whole number  with  digits. We square  to arrive at a number that is either  digits long or  digits long. Split the string representation of the square into two parts,  and . The right hand part,  must be digits long. The left is the remaining substring. Convert those two substrings back to integers, add them and see if you get .\n",
    "\n",
    "For example, if ,  then . We split that into two strings and convert them back to integers  and . We test , so this is not a modified Kaprekar number. If , still , and . This gives us , the original .\n",
    "\n",
    "Note: r may have leading zeros.\n",
    "\n",
    "Here's an explanation from Wikipedia about the ORIGINAL Kaprekar Number (spot the difference!):\n",
    "\n",
    "In mathematics, a Kaprekar number for a given base is a non-negative integer, the representation of whose square in that base can be split into two parts that add up to the original number again. For instance, 45 is a Kaprekar number, because 45² = 2025 and 20+25 = 45.\n",
    "\n",
    "Given two positive integers  and  where  is lower than , write a program to print the modified Kaprekar numbers in the range between  and , inclusive.\n",
    "\n",
    "Function Description\n",
    "\n",
    "Complete the kaprekarNumbers function in the editor below. It should print the list of modified Kaprekar numbers in ascending order.\n",
    "\n",
    "kaprekarNumbers has the following parameter(s):\n",
    "\n",
    "p: an integer\n",
    "q: an integer\n",
    "Input Format\n",
    "\n",
    "The first line contains the lower integer limit . \n",
    "The second line contains the upper integer limit .\n",
    "\n",
    "Note: Your range should be inclusive of the limits.\n",
    "\n",
    "Constraints\n",
    "\n",
    "\n",
    "Output Format\n",
    "\n",
    "Output each modified Kaprekar number in the given range, space-separated on a single line. If no modified Kaprekar numbers exist in the given range, print INVALID RANGE.\n",
    "\n",
    "Sample Input\n",
    "\n",
    "1\n",
    "100\n",
    "Sample Output\n",
    "\n",
    "1 9 45 55 99\n",
    "\n",
    "Explanation\n",
    "\n",
    ", , , , and  are the Kaprekar Numbers in the given range."
   ]
  },
  {
   "cell_type": "code",
   "execution_count": 2,
   "metadata": {},
   "outputs": [
    {
     "name": "stdout",
     "output_type": "stream",
     "text": [
      "1\n",
      "100\n",
      "1 9 45 55 99\n"
     ]
    }
   ],
   "source": [
    "import math\n",
    "import os\n",
    "import random\n",
    "import re\n",
    "import sys\n",
    "\n",
    "# Complete the kaprekarNumbers function below.\n",
    "def kaprekarNumbers(p, q):\n",
    "    kap=[]\n",
    "    for i in range(p, q+1):\n",
    "        if i == 1:\n",
    "            kap.append(1)\n",
    "        elif i > 8:\n",
    "            st = str(i**2)\n",
    "            if i == (int(st[0:len(st)//2]) + int(st[len(st)//2:])):\n",
    "                kap.append(i)\n",
    "    if kap:\n",
    "        print(' '.join(map(lambda x: str(x), kap)))\n",
    "    else:\n",
    "        print('INVALID RANGE')\n",
    "\n",
    "if __name__ == '__main__':\n",
    "    p = int(input())\n",
    "\n",
    "    q = int(input())\n",
    "\n",
    "    kaprekarNumbers(p, q)"
   ]
  },
  {
   "cell_type": "code",
   "execution_count": null,
   "metadata": {},
   "outputs": [],
   "source": []
  }
 ],
 "metadata": {
  "kernelspec": {
   "display_name": "Python 3",
   "language": "python",
   "name": "python3"
  },
  "language_info": {
   "codemirror_mode": {
    "name": "ipython",
    "version": 3
   },
   "file_extension": ".py",
   "mimetype": "text/x-python",
   "name": "python",
   "nbconvert_exporter": "python",
   "pygments_lexer": "ipython3",
   "version": "3.6.5"
  }
 },
 "nbformat": 4,
 "nbformat_minor": 2
}
