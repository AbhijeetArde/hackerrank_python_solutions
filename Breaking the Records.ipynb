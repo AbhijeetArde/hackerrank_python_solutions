{
 "cells": [
  {
   "cell_type": "markdown",
   "metadata": {},
   "source": [
    "# Breaking the Records"
   ]
  },
  {
   "cell_type": "markdown",
   "metadata": {},
   "source": [
    "Maria plays college basketball and wants to go pro. Each season she maintains a record of her play. She tabulates the number of times she breaks her season record for most points and least points in a game. Points scored in the first game establish her record for the season, and she begins counting from there.\n",
    "\n",
    "For example, assume her scores for the season are represented in the array . Scores are in the same order as the games played. She would tabulate her results as follows:\n",
    "\n",
    "                                 Count\n",
    "Game  Score  Minimum  Maximum   Min Max\n",
    " 0      12     12       12       0   0\n",
    " 1      24     12       24       0   1\n",
    " 2      10     10       24       1   1\n",
    " 3      24     10       24       1   1\n",
    " \n",
    " Given Maria's scores for a season, find and print the number of times she breaks her records for most and least points scored during the season.\n",
    " \n",
    "Function Description\n",
    "\n",
    "Complete the breakingRecords function in the editor below. It must return an integer array containing the numbers of times she broke her records. Index 0 is for breaking most points records, and index 1 is for breaking least points records.\n",
    "\n",
    "breakingRecords has the following parameter(s):\n",
    "\n",
    "scores: an array of integers\n",
    "\n",
    "Input Format\n",
    "\n",
    "The first line contains an integer , the number of games. \n",
    "The second line contains  space-separated integers describing the respective values of .\n",
    "\n",
    "Constraints\n",
    "\n",
    "Output Format\n",
    "\n",
    "Print two space-seperated integers describing the respective numbers of times her best (highest) score increased and her worst (lowest) score decreased.\n",
    "\n",
    "Sample Input 0\n",
    "\n",
    "9\n",
    "10 5 20 20 4 5 2 25 1\n",
    "Sample Output 0\n",
    "\n",
    "2 4\n",
    "Explanation 0\n",
    "\n",
    "The diagram below depicts the number of times Maria broke her best and worst records throughout the season:\n",
    "\n",
    "image\n",
    "\n",
    "She broke her best record twice (after games  and ) and her worst record four times (after games , , , and ), so we print 2 4 as our answer. Note that she did not break her record for best score during game , as her score during that game was not strictly greater than her best record at the time.\n",
    "\n",
    "Sample Input 1\n",
    "\n",
    "10\n",
    "3 4 21 36 10 28 35 5 24 42\n",
    "Sample Output 1\n",
    "\n",
    "4 0\n",
    "Explanation 1\n",
    "\n",
    "The diagram below depicts the number of times Maria broke her best and worst records throughout the season:\n",
    "\n",
    "image\n",
    "\n",
    "She broke her best record four times (after games , , , and ) and her worst record zero times (no score during the season was lower than the one she earned during her first game), so we print 4 0 as our answer."
   ]
  },
  {
   "cell_type": "code",
   "execution_count": 8,
   "metadata": {},
   "outputs": [
    {
     "name": "stdout",
     "output_type": "stream",
     "text": [
      "10\n",
      "3 4 21 36 10 28 35 5 24 42\n",
      "4\n",
      "0\n"
     ]
    }
   ],
   "source": [
    "import math\n",
    "import os\n",
    "import random\n",
    "import re\n",
    "import sys\n",
    "\n",
    "# Complete the breakingRecords function below.\n",
    "def breakingRecords(scores):\n",
    "    current_best = 0\n",
    "    current_worst = 0\n",
    "    best = 0\n",
    "    worst = 0\n",
    "    for i in range(len(scores)):\n",
    "        if i == 0:\n",
    "            current_best = scores[i]\n",
    "            current_worst = scores[i]\n",
    "        elif scores[i] > current_best:\n",
    "            current_best = scores[i]\n",
    "            best +=1\n",
    "        elif scores[i] < current_worst :\n",
    "            current_worst = scores[i]\n",
    "            worst += 1\n",
    "    print(best)\n",
    "    print(worst)\n",
    "\n",
    "if __name__ == '__main__':\n",
    "    #fptr = open(os.environ['OUTPUT_PATH'], 'w')\n",
    "\n",
    "    n = int(input())\n",
    "\n",
    "    scores = list(map(int, input().rstrip().split()))\n",
    "\n",
    "    result = breakingRecords(scores)\n",
    "\n",
    "    #fptr.write(' '.join(map(str, result)))\n",
    "    #fptr.write('\\n')\n",
    "\n",
    "    #fptr.close()\n"
   ]
  },
  {
   "cell_type": "code",
   "execution_count": null,
   "metadata": {},
   "outputs": [],
   "source": []
  }
 ],
 "metadata": {
  "kernelspec": {
   "display_name": "Python 3",
   "language": "python",
   "name": "python3"
  },
  "language_info": {
   "codemirror_mode": {
    "name": "ipython",
    "version": 3
   },
   "file_extension": ".py",
   "mimetype": "text/x-python",
   "name": "python",
   "nbconvert_exporter": "python",
   "pygments_lexer": "ipython3",
   "version": "3.6.5"
  }
 },
 "nbformat": 4,
 "nbformat_minor": 2
}
