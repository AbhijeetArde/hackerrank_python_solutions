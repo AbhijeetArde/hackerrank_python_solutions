{
 "cells": [
  {
   "cell_type": "markdown",
   "metadata": {},
   "source": [
    "# Insertion Sort - Part 1"
   ]
  },
  {
   "cell_type": "markdown",
   "metadata": {},
   "source": [
    "Sorting\n",
    "One common task for computers is to sort data. For example, people might want to see all their files on a computer sorted by size. Since sorting is a simple problem with many different possible solutions, it is often used to introduce the study of algorithms.\n",
    "\n",
    "Insertion Sort\n",
    "These challenges will cover Insertion Sort, a simple and intuitive sorting algorithm. We will first start with a nearly sorted list.\n",
    "\n",
    "Insert element into sorted list\n",
    "Given a sorted list with an unsorted number  in the rightmost cell, can you write some simple code to insert  into the array so that it remains sorted?\n",
    "\n",
    "Since this is a learning exercise, it won't be the most efficient way of performing the insertion. It will instead demonstrate the brute-force method in detail.\n",
    "\n",
    "Assume you are given the array  indexed . Store the value of . Now test lower index values successively from  to  until you reach a value that is lower than ,  in this case. Each time your test fails, copy the value at the lower index to the current index and print your array. When the next lower indexed value is smaller than , insert the stored value at the current index and print the entire array.\n",
    "\n",
    "The results of operations on the example array is:\n",
    "\n",
    "Starting array: \n",
    "Store the value of  Do the tests and print interim results:\n",
    "\n",
    "1 2 4 5 5\n",
    "1 2 4 4 5\n",
    "1 2 3 4 5\n",
    "Function Description\n",
    "\n",
    "Complete the insertionSort1 function in the editor below. It should print the interim and final arrays, each on a new line.\n",
    "\n",
    "insertionSort1 has the following parameter(s):\n",
    "\n",
    "n: an integer, the size of \n",
    "arr: an array of integers to sort\n",
    "Input Format\n",
    "\n",
    "The first line contains the integer , the size of the array .\n",
    "The next line contains  space-separated integers .\n",
    "\n",
    "Constraints\n",
    "\n",
    "\n",
    "\n",
    "Output Format\n",
    "\n",
    "Print the array as a row of space-separated integers each time there is a shift or insertion.\n",
    "\n",
    "Sample Input\n",
    "\n",
    "5\n",
    "2 4 6 8 3\n",
    "Sample Output\n",
    "\n",
    "2 4 6 8 8 \n",
    "2 4 6 6 8 \n",
    "2 4 4 6 8 \n",
    "2 3 4 6 8 \n",
    "Explanation\n",
    "\n",
    " is removed from the end of the array.\n",
    "In the st line , so  is shifted one cell to the right.\n",
    "In the nd line , so  is shifted one cell to the right.\n",
    "In the rd line , so  is shifted one cell to the right.\n",
    "In the th line , so  is placed at position .\n",
    "\n",
    "Next Challenge\n",
    "\n",
    "In the next Challenge, we will complete the insertion sort itself!"
   ]
  },
  {
   "cell_type": "code",
   "execution_count": 24,
   "metadata": {
    "scrolled": true
   },
   "outputs": [
    {
     "name": "stdout",
     "output_type": "stream",
     "text": [
      "5\n",
      "2 4 6 8 5\n",
      "2 4 6 8 8\n",
      "2 4 6 6 8\n",
      "2 4 6 6 8\n",
      "2 4 6 6 8\n"
     ]
    }
   ],
   "source": [
    "import math\n",
    "import os\n",
    "import random\n",
    "import re\n",
    "import sys\n",
    "\n",
    "# Complete the insertionSort1 function below.\n",
    "def insertionSort1(n, arr):\n",
    "    val = arr[-1]\n",
    "    for i in range(len(arr) -1 , 0, -1):\n",
    "        if arr[i-1] > val:\n",
    "            arr[i] = arr[i-1]\n",
    "        else:\n",
    "            arr[i] = val\n",
    "            #print(arr)\n",
    "        \n",
    "        new_arr = ' '.join([str(i) for i in arr])\n",
    "        print(new_arr)\n",
    "\n",
    "if __name__ == '__main__':\n",
    "    n = int(input())\n",
    "\n",
    "    arr = list(map(int, input().rstrip().split()))\n",
    "\n",
    "    insertionSort1(n, arr)\n"
   ]
  },
  {
   "cell_type": "code",
   "execution_count": 27,
   "metadata": {
    "scrolled": true
   },
   "outputs": [
    {
     "name": "stdout",
     "output_type": "stream",
     "text": [
      "5\n",
      "2 4 6 8 5\n",
      "2 4 6 8 8\n",
      "2 4 6 6 8\n",
      "2 4 5 6 8\n"
     ]
    }
   ],
   "source": [
    "n=int(input())\n",
    "arr=[int(x) for x in input().split()]\n",
    "\n",
    "def insertion_sort(arr):\n",
    "    e=arr[len(arr)-1]\n",
    "    ar=arr[0:len(arr)-1]\n",
    "    l=len(ar)\n",
    "    last=l-1\n",
    "    parr=[]\n",
    "    while last>-1: # 2 4 6 8\n",
    "        tmp=ar[last]\n",
    "        if tmp<e:\n",
    "            break\n",
    "        parr=ar[0:last]+[tmp]+ar[last:l]     \n",
    "        \n",
    "        print (\" \".join(str(s) for s in parr))\n",
    "        last=last-1\n",
    "    parr[last+1]=e\n",
    "    print (\" \".join(str(s) for s in parr))\n",
    "    \n",
    "insertion_sort(arr)"
   ]
  },
  {
   "cell_type": "code",
   "execution_count": null,
   "metadata": {},
   "outputs": [],
   "source": []
  }
 ],
 "metadata": {
  "kernelspec": {
   "display_name": "Python 3",
   "language": "python",
   "name": "python3"
  },
  "language_info": {
   "codemirror_mode": {
    "name": "ipython",
    "version": 3
   },
   "file_extension": ".py",
   "mimetype": "text/x-python",
   "name": "python",
   "nbconvert_exporter": "python",
   "pygments_lexer": "ipython3",
   "version": "3.6.5"
  }
 },
 "nbformat": 4,
 "nbformat_minor": 2
}
