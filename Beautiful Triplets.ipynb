{
 "cells": [
  {
   "cell_type": "markdown",
   "metadata": {},
   "source": [
    "# Beautiful Triplets"
   ]
  },
  {
   "cell_type": "markdown",
   "metadata": {},
   "source": [
    "Given a sequence of integers , a triplet  is beautiful if:\n",
    "\n",
    "Given an increasing sequenc of integers and the value of , count the number of beautiful triplets in the sequence.\n",
    "\n",
    "For example, the sequence  and . There are three beautiful triplets, by index: . To test the first triplet,  and .\n",
    "\n",
    "Function Description\n",
    "\n",
    "Complete the beautifulTriplets function in the editor below. It must return an integer that represents the number of beautiful triplets in the sequence.\n",
    "\n",
    "beautifulTriplets has the following parameters:\n",
    "\n",
    "d: an integer\n",
    "arr: an array of integers, sorted ascending\n",
    "Input Format\n",
    "\n",
    "The first line contains  space-separated integers  and , the length of the sequence and the beautiful difference. \n",
    "The second line contains  space-separated integers .\n",
    "\n",
    "Constraints\n",
    "\n",
    "Output Format\n",
    "\n",
    "Print a single line denoting the number of beautiful triplets in the sequence.\n",
    "\n",
    "Sample Input\n",
    "\n",
    "7 3\n",
    "1 2 4 5 7 8 10\n",
    "Sample Output\n",
    "\n",
    "3\n",
    "Explanation\n",
    "\n",
    "The input sequence is , and our beautiful difference . There are many possible triplets , but our only beautiful triplets are  ,  and  by value not index. Please see the equations below:\n",
    "\n",
    " \n",
    "\n",
    "\n",
    "\n",
    "Recall that a beautiful triplet satisfies the following equivalence relation:  where ."
   ]
  },
  {
   "cell_type": "code",
   "execution_count": 2,
   "metadata": {},
   "outputs": [
    {
     "name": "stdout",
     "output_type": "stream",
     "text": [
      "7 3\n",
      "1 2 4 5 7 8 10\n",
      "3\n"
     ]
    }
   ],
   "source": [
    "import math\n",
    "import os\n",
    "import random\n",
    "import re\n",
    "import sys\n",
    "\n",
    "# Complete the beautifulTriplets function below.\n",
    "def beautifulTriplets(d, arr):\n",
    "    cnt = 0\n",
    "    for i in range(len(arr)-2):\n",
    "        for j in range(1, len(arr)-1):\n",
    "            if arr[j]-arr[i] == d:\n",
    "                for k in range(2, len(arr)):\n",
    "                    if arr[k]-arr[j] == d:\n",
    "                        cnt+=1\n",
    "    print(cnt)\n",
    "                    \n",
    "\n",
    "if __name__ == '__main__':\n",
    "    #fptr = open(os.environ['OUTPUT_PATH'], 'w')\n",
    "\n",
    "    nd = input().split()\n",
    "\n",
    "    n = int(nd[0])\n",
    "\n",
    "    d = int(nd[1])\n",
    "\n",
    "    arr = list(map(int, input().rstrip().split()))\n",
    "\n",
    "    result = beautifulTriplets(d, arr)\n",
    "\n",
    "    #fptr.write(str(result) + '\\n')\n",
    "\n",
    "    #fptr.close()\n",
    "\n"
   ]
  },
  {
   "cell_type": "markdown",
   "metadata": {},
   "source": [
    "Above method works but fails when no of test input increases..."
   ]
  },
  {
   "cell_type": "code",
   "execution_count": 4,
   "metadata": {},
   "outputs": [
    {
     "name": "stdout",
     "output_type": "stream",
     "text": [
      "7 3\n",
      "1 2 4 5 7 8 10\n",
      "3\n"
     ]
    }
   ],
   "source": [
    "import math\n",
    "import os\n",
    "import random\n",
    "import re\n",
    "import sys\n",
    "\n",
    "# Complete the beautifulTriplets function below.\n",
    "def beautifulTriplets(d, arr):\n",
    "    cnt = 0\n",
    "    for i in range(len(arr)):\n",
    "        if arr[i]+d in arr and arr[i]+2*d in arr:\n",
    "            cnt+=1\n",
    "    print(cnt)\n",
    "                    \n",
    "\n",
    "if __name__ == '__main__':\n",
    "    #fptr = open(os.environ['OUTPUT_PATH'], 'w')\n",
    "\n",
    "    nd = input().split()\n",
    "\n",
    "    n = int(nd[0])\n",
    "\n",
    "    d = int(nd[1])\n",
    "\n",
    "    arr = list(map(int, input().rstrip().split()))\n",
    "\n",
    "    result = beautifulTriplets(d, arr)\n",
    "\n",
    "    #fptr.write(str(result) + '\\n')\n",
    "\n",
    "    #fptr.close()\n",
    "\n"
   ]
  },
  {
   "cell_type": "code",
   "execution_count": null,
   "metadata": {},
   "outputs": [],
   "source": []
  }
 ],
 "metadata": {
  "kernelspec": {
   "display_name": "Python 3",
   "language": "python",
   "name": "python3"
  },
  "language_info": {
   "codemirror_mode": {
    "name": "ipython",
    "version": 3
   },
   "file_extension": ".py",
   "mimetype": "text/x-python",
   "name": "python",
   "nbconvert_exporter": "python",
   "pygments_lexer": "ipython3",
   "version": "3.6.5"
  }
 },
 "nbformat": 4,
 "nbformat_minor": 2
}
