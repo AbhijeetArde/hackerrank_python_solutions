{
 "cells": [
  {
   "cell_type": "markdown",
   "metadata": {},
   "source": [
    "# Strange Counter"
   ]
  },
  {
   "cell_type": "markdown",
   "metadata": {},
   "source": [
    "Bob has a strange counter. At the first second, it displays the number . Each second, the number displayed by the counter decrements by  until it reaches .\n",
    "\n",
    "The counter counts down in cycles. In next second, the timer resets to  and continues counting down. The diagram below shows the counter values for each time  in the first three cycles:\n",
    "\n",
    "strange(1).png\n",
    "\n",
    "Find and print the value displayed by the counter at time .\n",
    "\n",
    "Function Description\n",
    "\n",
    "Complete the strangeCounter function in the editor below. It should return the integer value displayed by the counter at time .\n",
    "\n",
    "strangeCounter has the following parameter(s):\n",
    "\n",
    "t: an integer\n",
    "Input Format\n",
    "\n",
    "A single integer denoting the value of .\n",
    "\n",
    "Constraints\n",
    "\n",
    "Subtask\n",
    "\n",
    " for  of the maximum score.\n",
    "Output Format\n",
    "\n",
    "Print the value displayed by the strange counter at the given time .\n",
    "\n",
    "Sample Input\n",
    "\n",
    "4\n",
    "Sample Output\n",
    "\n",
    "6\n",
    "Explanation\n",
    "\n",
    "Time  marks the beginning of the second cycle. It is double the number displayed at the beginning of the first cycle:. This is also shown in the diagram in the Problem Statement above."
   ]
  },
  {
   "cell_type": "code",
   "execution_count": 6,
   "metadata": {},
   "outputs": [
    {
     "name": "stdout",
     "output_type": "stream",
     "text": [
      "4\n",
      "6\n"
     ]
    }
   ],
   "source": [
    "import math\n",
    "import os\n",
    "import random\n",
    "import re\n",
    "import sys\n",
    "\n",
    "# Complete the strangeCounter function below.\n",
    "def strangeCounter(t):\n",
    "    rem = 3\n",
    "    while t > rem:\n",
    "        t = t-rem\n",
    "        rem *= 2\n",
    "\n",
    "    print(rem-t+1)\n",
    "        \n",
    "\n",
    "if __name__ == '__main__':\n",
    "    #fptr = open(os.environ['OUTPUT_PATH'], 'w')\n",
    "\n",
    "    t = int(input())\n",
    "\n",
    "    result = strangeCounter(t)\n",
    "\n",
    "    #fptr.write(str(result) + '\\n')\n",
    "\n",
    "    #fptr.close()\n"
   ]
  },
  {
   "cell_type": "code",
   "execution_count": null,
   "metadata": {},
   "outputs": [],
   "source": []
  }
 ],
 "metadata": {
  "kernelspec": {
   "display_name": "Python 3",
   "language": "python",
   "name": "python3"
  },
  "language_info": {
   "codemirror_mode": {
    "name": "ipython",
    "version": 3
   },
   "file_extension": ".py",
   "mimetype": "text/x-python",
   "name": "python",
   "nbconvert_exporter": "python",
   "pygments_lexer": "ipython3",
   "version": "3.6.5"
  }
 },
 "nbformat": 4,
 "nbformat_minor": 2
}
