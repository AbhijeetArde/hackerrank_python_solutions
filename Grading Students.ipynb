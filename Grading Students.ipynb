{
 "cells": [
  {
   "cell_type": "markdown",
   "metadata": {},
   "source": [
    "# Grading Students"
   ]
  },
  {
   "cell_type": "markdown",
   "metadata": {},
   "source": [
    "HackerLand University has the following grading policy:\n",
    "\n",
    "Every student receives a  in the inclusive range from  to .\n",
    "Any  less than  is a failing grade.\n",
    "Sam is a professor at the university and likes to round each student's  according to these rules:\n",
    "\n",
    "If the difference between the  and the next multiple of  is less than , round  up to the next multiple of .\n",
    "If the value of  is less than , no rounding occurs as the result will still be a failing grade.\n",
    "For example,  will be rounded to  but  will not be rounded because the rounding would result in a number that is less than .\n",
    "\n",
    "Given the initial value of  for each of Sam's  students, write code to automate the rounding process.\n",
    "\n",
    "Function Description\n",
    "\n",
    "Complete the function gradingStudents in the editor below. It should return an integer array consisting of rounded grades.\n",
    "\n",
    "gradingStudents has the following parameter(s):\n",
    "\n",
    "grades: an array of integers representing grades before rounding\n",
    "Input Format\n",
    "\n",
    "The first line contains a single integer, , the number of students. \n",
    "Each line  of the  subsequent lines contains a single integer, , denoting student 's grade.\n",
    "\n",
    "Constraints\n",
    "\n",
    "Output Format\n",
    "\n",
    "For each , print the rounded grade on a new line.\n",
    "\n",
    "Sample Input 0\n",
    "\n",
    "4\n",
    "73\n",
    "67\n",
    "38\n",
    "33\n",
    "Sample Output 0\n",
    "\n",
    "75\n",
    "67\n",
    "40\n",
    "33\n",
    "Explanation 0\n",
    "\n",
    "image\n",
    "\n",
    "Student  received a , and the next multiple of  from  is . Since , the student's grade is rounded to .\n",
    "Student  received a , and the next multiple of  from  is . Since , the grade will not be modified and the student's final grade is .\n",
    "Student  received a , and the next multiple of  from  is . Since , the student's grade will be rounded to .\n",
    "Student  received a grade below , so the grade will not be modified and the student's final grade is ."
   ]
  },
  {
   "cell_type": "code",
   "execution_count": 27,
   "metadata": {},
   "outputs": [
    {
     "name": "stdout",
     "output_type": "stream",
     "text": [
      "4\n",
      "78\n",
      "36\n",
      "63\n",
      "70\n",
      "80\n",
      "36\n",
      "65\n",
      "70\n"
     ]
    }
   ],
   "source": [
    "import os\n",
    "import sys\n",
    "\n",
    "#\n",
    "# Complete the gradingStudents function below.\n",
    "#\n",
    "def gradingStudents(grades):\n",
    "    new = []\n",
    "    for i in grades:\n",
    "        if i < 38:\n",
    "            print(i)\n",
    "        elif i >= 38:\n",
    "            next = math.ceil(i/5)*5\n",
    "            if (next - i) >= 3:\n",
    "                print(i)\n",
    "            else:\n",
    "                print(next)\n",
    "            \n",
    "            \n",
    "\n",
    "if __name__ == '__main__':\n",
    "    #f = open(os.environ['OUTPUT_PATH'], 'w')\n",
    "\n",
    "    n = int(input())\n",
    "\n",
    "    grades = []\n",
    "\n",
    "    for _ in range(n):\n",
    "        grades_item = int(input())\n",
    "        grades.append(grades_item)\n",
    "\n",
    "    result = gradingStudents(grades)\n",
    "\n",
    "    #f.write('\\n'.join(map(str, result)))\n",
    "    #f.write('\\n')\n",
    "\n",
    "    #f.close()"
   ]
  },
  {
   "cell_type": "code",
   "execution_count": 24,
   "metadata": {},
   "outputs": [
    {
     "name": "stdout",
     "output_type": "stream",
     "text": [
      "12\n",
      "15\n"
     ]
    }
   ],
   "source": [
    "import math\n",
    "x =  int(input())\n",
    "print(math.ceil(x/5)*5)"
   ]
  },
  {
   "cell_type": "code",
   "execution_count": null,
   "metadata": {},
   "outputs": [],
   "source": []
  }
 ],
 "metadata": {
  "kernelspec": {
   "display_name": "Python 3",
   "language": "python",
   "name": "python3"
  },
  "language_info": {
   "codemirror_mode": {
    "name": "ipython",
    "version": 3
   },
   "file_extension": ".py",
   "mimetype": "text/x-python",
   "name": "python",
   "nbconvert_exporter": "python",
   "pygments_lexer": "ipython3",
   "version": "3.6.5"
  }
 },
 "nbformat": 4,
 "nbformat_minor": 2
}
