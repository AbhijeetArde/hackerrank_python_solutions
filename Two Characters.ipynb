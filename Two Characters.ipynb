{
 "cells": [
  {
   "cell_type": "markdown",
   "metadata": {},
   "source": [
    "# Two Characters\n",
    "\n"
   ]
  },
  {
   "cell_type": "markdown",
   "metadata": {},
   "source": [
    "In this challenge, you will be given a string. You must remove characters until the string is made up of any two alternating characters. When you choose a character to remove, all instances of that character must be removed. Your goal is to create the longest string possible that contains just two alternating letters.\n",
    "\n",
    "As an example, consider the string abaacdabd. If you delete the character a, you will be left with the string bcdbd. Now, removing the character c leaves you with a valid string bdbd having a length of 4. Removing either b or d at any point would not result in a valid string.\n",
    "\n",
    "Given a string , convert it to the longest possible string  made up only of alternating characters. Print the length of string  on a new line. If no string  can be formed, print  instead.\n",
    "\n",
    "Function Description\n",
    "\n",
    "Complete the alternate function in the editor below. It should return an integer that denotes the longest string that can be formed, or  if it cannot be done.\n",
    "\n",
    "alternate has the following parameter(s):\n",
    "\n",
    "s: a string\n",
    "Input Format\n",
    "\n",
    "The first line contains a single integer denoting the length of .\n",
    "The second line contains string .\n",
    "\n",
    "Constraints\n",
    "\n",
    "Output Format\n",
    "\n",
    "Print a single integer denoting the maximum length of  for the given ; if it is not possible to form string , print  instead.\n",
    "\n",
    "Sample Input\n",
    "\n",
    "10\n",
    "beabeefeab\n",
    "Sample Output\n",
    "\n",
    "5\n",
    "Explanation\n",
    "\n",
    "The characters present in  are a, b, e, and f. This means that  must consist of two of those characters and we must delete two others. Our choices for characters to leave are [a,b], [a,e], [a, f], [b, e], [b, f] and [e, f].\n",
    "\n",
    "If we delete e and f, the resulting string is babab. This is a valid  as there are only two distinct characters (a and b), and they are alternating within the string.\n",
    "\n",
    "If we delete a and f, the resulting string is bebeeeb. This is not a valid string  because there are consecutive e's present. Removing them would leave consecutive b's, so this fails to produce a valid string .\n",
    "\n",
    "Other cases are solved similarly.\n",
    "\n",
    "babab is the longest string we can create."
   ]
  },
  {
   "cell_type": "code",
   "execution_count": 7,
   "metadata": {},
   "outputs": [
    {
     "name": "stdout",
     "output_type": "stream",
     "text": [
      "10\n",
      "beabeefeab\n",
      "5\n"
     ]
    }
   ],
   "source": [
    "import math\n",
    "import os\n",
    "import random\n",
    "import re\n",
    "import sys\n",
    "from itertools import combinations\n",
    "\n",
    "# Complete the alternate function below.\n",
    "def alternate(s):\n",
    "    results=[]\n",
    "    st=list(set(s))\n",
    "    #print(st)\n",
    "    if len(st)<2:\n",
    "        return 0\n",
    "    else:\n",
    "        combos = list(combinations(st, len(st) - 2))\n",
    "        #print(combos)\n",
    "        for i in combos:\n",
    "            vals=[]\n",
    "            temp = s\n",
    "            for x in i:\n",
    "                temp = temp.replace(x,\"\")\n",
    "            #print(temp)\n",
    "            for y in range(len(temp)-1):\n",
    "                if temp[y] == temp[y+1]:\n",
    "                    vals.append(False)\n",
    "                else:\n",
    "                    vals.append(True)\n",
    "            if all(vals) == True:\n",
    "                results.append(len(temp))\n",
    "            else:\n",
    "                results.append(0)\n",
    "        print(max(results))\n",
    "\n",
    "if __name__ == '__main__':\n",
    "    #fptr = open(os.environ['OUTPUT_PATH'], 'w')\n",
    "\n",
    "    l = int(input().strip())\n",
    "\n",
    "    s = input()\n",
    "\n",
    "    result = alternate(s)\n",
    "\n",
    "    #fptr.write(str(result) + '\\n')\n",
    "\n",
    "    #fptr.close()"
   ]
  },
  {
   "cell_type": "code",
   "execution_count": null,
   "metadata": {},
   "outputs": [],
   "source": []
  }
 ],
 "metadata": {
  "kernelspec": {
   "display_name": "Python 3",
   "language": "python",
   "name": "python3"
  },
  "language_info": {
   "codemirror_mode": {
    "name": "ipython",
    "version": 3
   },
   "file_extension": ".py",
   "mimetype": "text/x-python",
   "name": "python",
   "nbconvert_exporter": "python",
   "pygments_lexer": "ipython3",
   "version": "3.6.5"
  }
 },
 "nbformat": 4,
 "nbformat_minor": 2
}
