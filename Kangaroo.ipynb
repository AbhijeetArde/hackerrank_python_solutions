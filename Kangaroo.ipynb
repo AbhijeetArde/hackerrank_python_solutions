{
 "cells": [
  {
   "cell_type": "markdown",
   "metadata": {},
   "source": [
    "# Kangaroo"
   ]
  },
  {
   "cell_type": "markdown",
   "metadata": {},
   "source": [
    "You are choreographing a circus show with various animals. For one act, you are given two kangaroos on a number line ready to jump in the positive direction (i.e, toward positive infinity).\n",
    "\n",
    "The first kangaroo starts at location  and moves at a rate of  meters per jump.\n",
    "The second kangaroo starts at location  and moves at a rate of  meters per jump.\n",
    "You have to figure out a way to get both kangaroos at the same location at the same time as part of the show. If it is possible, return YES, otherwise return NO.\n",
    "\n",
    "For example, kangaroo  starts at  with a jump distance  and kangaroo  starts at  with a jump distance of . After one jump, they are both at , (, ), so our answer is YES.\n",
    "\n",
    "Function Description\n",
    "\n",
    "Complete the function kangaroo in the editor below. It should return YES if they reach the same position at the same time, or NO if they don't.\n",
    "\n",
    "kangaroo has the following parameter(s):\n",
    "\n",
    "x1, v1: integers, starting position and jump distance for kangaroo 1\n",
    "x2, v2: integers, starting position and jump distance for kangaroo 2\n",
    "Input Format\n",
    "\n",
    "A single line of four space-separated integers denoting the respective values of , , , and .\n",
    "\n",
    "Constraints\n",
    "\n",
    "Output Format\n",
    "\n",
    "Print YES if they can land on the same location at the same time; otherwise, print NO.\n",
    "\n",
    "Note: The two kangaroos must land at the same location after making the same number of jumps.\n",
    "\n",
    "Sample Input 0\n",
    "\n",
    "0 3 4 2\n",
    "Sample Output 0\n",
    "\n",
    "YES\n",
    "Explanation 0\n",
    "\n",
    "The two kangaroos jump through the following sequence of locations:\n",
    "\n",
    "image\n",
    "\n",
    "From the image, it is clear that the kangaroos meet at the same location (number  on the number line) after same number of jumps ( jumps), and we print YES.\n",
    "\n",
    "Sample Input 1\n",
    "\n",
    "0 2 5 3\n",
    "Sample Output 1\n",
    "\n",
    "NO\n",
    "Explanation 1\n",
    "\n",
    "The second kangaroo has a starting location that is ahead (further to the right) of the first kangaroo's starting location (i.e., ). Because the second kangaroo moves at a faster rate (meaning ) and is already ahead of the first kangaroo, the first kangaroo will never be able to catch up. Thus, we print NO."
   ]
  },
  {
   "cell_type": "code",
   "execution_count": 3,
   "metadata": {},
   "outputs": [
    {
     "name": "stdout",
     "output_type": "stream",
     "text": [
      "0 2 5 3\n",
      "NO\n"
     ]
    }
   ],
   "source": [
    "import math\n",
    "import os\n",
    "import random\n",
    "import re\n",
    "import sys\n",
    "\n",
    "# Complete the kangaroo function below.\n",
    "def kangaroo(x1, v1, x2, v2):\n",
    "    if x1 == x2 and v1 == v2:\n",
    "        print('YES')\n",
    "    elif x1 == x2 and v1 > v2:\n",
    "        print('NO')\n",
    "    elif x1 <= x2 and v1 <= v2:\n",
    "        print('NO')\n",
    "    elif (x2-x1) % (v1-v2) == 0:\n",
    "        print('YES')\n",
    "    else:\n",
    "        print('NO')\n",
    "\n",
    "if __name__ == '__main__':\n",
    "    #fptr = open(os.environ['OUTPUT_PATH'], 'w')\n",
    "\n",
    "    x1V1X2V2 = input().split()\n",
    "\n",
    "    x1 = int(x1V1X2V2[0])\n",
    "\n",
    "    v1 = int(x1V1X2V2[1])\n",
    "\n",
    "    x2 = int(x1V1X2V2[2])\n",
    "\n",
    "    v2 = int(x1V1X2V2[3])\n",
    "\n",
    "    result = kangaroo(x1, v1, x2, v2)\n",
    "\n",
    "    #fptr.write(result + '\\n')\n",
    "\n",
    "    #fptr.close()\n"
   ]
  },
  {
   "cell_type": "code",
   "execution_count": null,
   "metadata": {},
   "outputs": [],
   "source": []
  }
 ],
 "metadata": {
  "kernelspec": {
   "display_name": "Python 3",
   "language": "python",
   "name": "python3"
  },
  "language_info": {
   "codemirror_mode": {
    "name": "ipython",
    "version": 3
   },
   "file_extension": ".py",
   "mimetype": "text/x-python",
   "name": "python",
   "nbconvert_exporter": "python",
   "pygments_lexer": "ipython3",
   "version": "3.6.5"
  }
 },
 "nbformat": 4,
 "nbformat_minor": 2
}
