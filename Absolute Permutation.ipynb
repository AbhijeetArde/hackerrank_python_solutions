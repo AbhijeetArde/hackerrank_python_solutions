{
 "cells": [
  {
   "cell_type": "markdown",
   "metadata": {},
   "source": [
    "# Absolute Permutation"
   ]
  },
  {
   "cell_type": "markdown",
   "metadata": {},
   "source": [
    "We define  to be a permutation of the first  natural numbers in the range . Let  denote the value at position  in permutation  using -based indexing.\n",
    "\n",
    " is considered to be an absolute permutation if  holds true for every .\n",
    "\n",
    "Given  and , print the lexicographically smallest absolute permutation . If no absolute permutation exists, print -1.\n",
    "\n",
    "For example, let  giving us an array . If we use  based indexing, create a permutation where every . If , we could rearrange them to :\n",
    "\n",
    "pos[i]\ti\t|Difference|\n",
    "3\t1\t2\n",
    "4\t2\t2\n",
    "1\t3\t2\n",
    "2\t4\t2\n",
    "Function Description\n",
    "\n",
    "Complete the absolutePermutation function in the editor below. It should return an integer that represents the smallest lexicographically smallest permutation, or  if there is none.\n",
    "\n",
    "absolutePermutation has the following parameter(s):\n",
    "\n",
    "n: the upper bound of natural numbers to consider, inclusive\n",
    "k: the integer difference between each element and its index\n",
    "Input Format\n",
    "\n",
    "The first line contains an integer , the number of test cases.\n",
    "Each of the next  lines contains  space-separated integers,  and .\n",
    "\n",
    "Constraints\n",
    "\n",
    "Output Format\n",
    "\n",
    "On a new line for each test case, print the lexicographically smallest absolute permutation. If no absolute permutation exists, print -1.\n",
    "\n",
    "Sample Input\n",
    "\n",
    "3\n",
    "2 1\n",
    "3 0\n",
    "3 2\n",
    "Sample Output\n",
    "\n",
    "2 1\n",
    "1 2 3\n",
    "-1\n",
    "Explanation\n",
    "\n",
    "Test Case 0:\n",
    "\n",
    "perm.png\n",
    "\n",
    "Test Case 1:\n",
    "\n",
    "perm(1).png\n",
    "\n",
    "Test Case 2:\n",
    "No absolute permutation exists, so we print -1 on a new line."
   ]
  },
  {
   "cell_type": "code",
   "execution_count": 8,
   "metadata": {},
   "outputs": [
    {
     "name": "stdout",
     "output_type": "stream",
     "text": [
      "1\n",
      "2 1\n"
     ]
    }
   ],
   "source": [
    "import math\n",
    "import os\n",
    "import random\n",
    "import re\n",
    "import sys\n",
    "\n",
    "# Complete the absolutePermutation function below.\n",
    "def absolutePermutation(n, k):\n",
    "    solution = []\n",
    "    s = set(range(1,n+1))\n",
    "     \n",
    "    for pos in range(1, n+1):\n",
    "        if pos-k in s:\n",
    "            solution.append(pos-k)\n",
    "            s.remove(pos-k)\n",
    "        elif pos+k in s:\n",
    "            solution.append(pos+k)\n",
    "            s.remove(pos+k)\n",
    "        else:\n",
    "            return [-1]\n",
    "     \n",
    "    return solution\n",
    "\n",
    "if __name__ == '__main__':\n",
    "    #fptr = open(os.environ['OUTPUT_PATH'], 'w')\n",
    "\n",
    "    t = int(input())\n",
    "\n",
    "    for t_itr in range(t):\n",
    "        nk = input().split()\n",
    "\n",
    "        n = int(nk[0])\n",
    "\n",
    "        k = int(nk[1])\n",
    "\n",
    "        result = absolutePermutation(n, k)\n",
    "\n",
    "        #fptr.write(' '.join(map(str, result)))\n",
    "        #fptr.write('\\n')\n",
    "\n",
    "    #fptr.close()\n"
   ]
  },
  {
   "cell_type": "code",
   "execution_count": null,
   "metadata": {},
   "outputs": [],
   "source": []
  }
 ],
 "metadata": {
  "kernelspec": {
   "display_name": "Python 3",
   "language": "python",
   "name": "python3"
  },
  "language_info": {
   "codemirror_mode": {
    "name": "ipython",
    "version": 3
   },
   "file_extension": ".py",
   "mimetype": "text/x-python",
   "name": "python",
   "nbconvert_exporter": "python",
   "pygments_lexer": "ipython3",
   "version": "3.6.5"
  }
 },
 "nbformat": 4,
 "nbformat_minor": 2
}
