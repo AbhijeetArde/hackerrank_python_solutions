{
 "cells": [
  {
   "cell_type": "code",
   "execution_count": 6,
   "metadata": {},
   "outputs": [
    {
     "data": {
      "text/plain": [
       "'aabb'"
      ]
     },
     "execution_count": 6,
     "metadata": {},
     "output_type": "execute_result"
    }
   ],
   "source": [
    "s = 'aa bb'\n",
    "''.join(s.split())"
   ]
  },
  {
   "cell_type": "code",
   "execution_count": 11,
   "metadata": {},
   "outputs": [
    {
     "data": {
      "text/plain": [
       "<filter at 0x22fe811c978>"
      ]
     },
     "execution_count": 11,
     "metadata": {},
     "output_type": "execute_result"
    }
   ],
   "source": [
    "filter(lambda x: x!=' ', s)"
   ]
  },
  {
   "cell_type": "code",
   "execution_count": 13,
   "metadata": {},
   "outputs": [
    {
     "name": "stdout",
     "output_type": "stream",
     "text": [
      "[4, 5, 6, 3, 3]\n"
     ]
    }
   ],
   "source": [
    "mylist = [3,4,5,6,3]\n",
    "for i in range(len(mylist)):\n",
    "    mylist[i-1] = mylist[i]\n",
    "print(mylist)\n",
    "\n",
    "for i in range(-len(mylist)):\n",
    "    print(mylist[i])"
   ]
  },
  {
   "cell_type": "markdown",
   "metadata": {},
   "source": [
    "# Collection of Books"
   ]
  },
  {
   "cell_type": "code",
   "execution_count": 7,
   "metadata": {},
   "outputs": [
    {
     "name": "stdout",
     "output_type": "stream",
     "text": [
      "1\n",
      "8 4 3\n",
      "1 2 3 4 5 6 7 8\n",
      "4\n",
      "4\n",
      "16\n",
      "6\n",
      "3\n",
      "-1\n"
     ]
    }
   ],
   "source": [
    "'''\n",
    "# Sample code to perform I/O:\n",
    "\n",
    "name = input()                  # Reading input from STDIN\n",
    "print('Hi, %s.' % name)         # Writing output to STDOUT\n",
    "\n",
    "# Warning: Printing unwanted or ill-formatted data to output will cause the test cases to fail\n",
    "'''\n",
    "\n",
    "def solve (nArr, N, I, Q):\n",
    "    balance = 0\n",
    "    for i in range(Q):\n",
    "        index = 0\n",
    "        M = int(input())\n",
    "        balance = M\n",
    "        for i in range(I-1, len(nArr)):\n",
    "            if balance > 0 and balance >= nArr[i]:\n",
    "                balance = balance - nArr[i]\n",
    "                index = i\n",
    "        if index == 0:\n",
    "            print(-1)\n",
    "        else:\n",
    "            print(index+1)\n",
    "\n",
    "\n",
    "T = int(input()) #Total Testcases\n",
    "while(T > 0):\n",
    "    temp = [int(x) for x in input().split()]\n",
    "    N, I, Q = temp[0], temp[1], temp[2]\n",
    "    nArr = [int(x) for x in input().split()]\n",
    "    solve(nArr, N, I, Q)\n",
    "    T = T - 1"
   ]
  },
  {
   "cell_type": "code",
   "execution_count": null,
   "metadata": {},
   "outputs": [],
   "source": []
  }
 ],
 "metadata": {
  "kernelspec": {
   "display_name": "Python 3",
   "language": "python",
   "name": "python3"
  },
  "language_info": {
   "codemirror_mode": {
    "name": "ipython",
    "version": 3
   },
   "file_extension": ".py",
   "mimetype": "text/x-python",
   "name": "python",
   "nbconvert_exporter": "python",
   "pygments_lexer": "ipython3",
   "version": "3.6.5"
  }
 },
 "nbformat": 4,
 "nbformat_minor": 2
}
