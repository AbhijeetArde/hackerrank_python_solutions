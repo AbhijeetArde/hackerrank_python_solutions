{
 "cells": [
  {
   "cell_type": "markdown",
   "metadata": {},
   "source": [
    "# Minimum Distances\n",
    "\n"
   ]
  },
  {
   "cell_type": "markdown",
   "metadata": {},
   "source": [
    "We define the distance between two array values as the number of indices between the two values. Given , find the minimum distance between any pair of equal elements in the array. If no such value exists, print .\n",
    "\n",
    "For example, if , there are two matching pairs of values: . The indices of the 's are  and , so their distance is . The indices of the 's are  and , so their distance is .\n",
    "\n",
    "Function Description\n",
    "\n",
    "Complete the minimumDistances function in the editor below. It should return the minimum distance between any two matching elements.\n",
    "\n",
    "minimumDistances has the following parameter(s):\n",
    "\n",
    "a: an array of integers\n",
    "Input Format\n",
    "\n",
    "The first line contains an integer , the size of array . \n",
    "The second line contains  space-separated integers .\n",
    "\n",
    "Constraints\n",
    "\n",
    "Output Format\n",
    "\n",
    "Print a single integer denoting the minimum  in . If no such value exists, print .\n",
    "\n",
    "Sample Input\n",
    "\n",
    "6\n",
    "7 1 3 4 1 7\n",
    "Sample Output\n",
    "\n",
    "3\n",
    "Explanation \n",
    "Here, we have two options:\n",
    "\n",
    " and  are both , so .\n",
    " and  are both , so .\n",
    "The answer is ."
   ]
  },
  {
   "cell_type": "code",
   "execution_count": 20,
   "metadata": {},
   "outputs": [
    {
     "name": "stdout",
     "output_type": "stream",
     "text": [
      "6\n",
      "7 1 3 4 1 7\n",
      "3\n"
     ]
    }
   ],
   "source": [
    "import math\n",
    "import os\n",
    "import random\n",
    "import re\n",
    "import sys\n",
    "\n",
    "# Complete the minimumDistances function below.\n",
    "def minimumDistances(a):\n",
    "    mydict = {}\n",
    "    final = []\n",
    "    for i in range(len(a)):\n",
    "        if a[i] not in mydict:\n",
    "            mydict[a[i]] = []\n",
    "            mydict[a[i]].append(i)\n",
    "        else:\n",
    "            mydict[a[i]].append(i) \n",
    "            final.append(mydict[a[i]][1] - mydict[a[i]][0])\n",
    "    if len(final) > 0:\n",
    "        print(min(final))\n",
    "    else:\n",
    "        print(-1)\n",
    "\n",
    "if __name__ == '__main__':\n",
    "    #fptr = open(os.environ['OUTPUT_PATH'], 'w')\n",
    "\n",
    "    n = int(input())\n",
    "\n",
    "    a = list(map(int, input().rstrip().split()))\n",
    "\n",
    "    result = minimumDistances(a)\n",
    "\n",
    "    #fptr.write(str(result) + '\\n')\n",
    "\n",
    "    #fptr.close()"
   ]
  },
  {
   "cell_type": "markdown",
   "metadata": {},
   "source": [
    "My solution passed all test cases... we can still achieve this in different logic"
   ]
  },
  {
   "cell_type": "code",
   "execution_count": null,
   "metadata": {},
   "outputs": [],
   "source": []
  }
 ],
 "metadata": {
  "kernelspec": {
   "display_name": "Python 3",
   "language": "python",
   "name": "python3"
  },
  "language_info": {
   "codemirror_mode": {
    "name": "ipython",
    "version": 3
   },
   "file_extension": ".py",
   "mimetype": "text/x-python",
   "name": "python",
   "nbconvert_exporter": "python",
   "pygments_lexer": "ipython3",
   "version": "3.6.5"
  }
 },
 "nbformat": 4,
 "nbformat_minor": 2
}
