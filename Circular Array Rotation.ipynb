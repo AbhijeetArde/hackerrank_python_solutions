{
 "cells": [
  {
   "cell_type": "markdown",
   "metadata": {},
   "source": [
    "# Circular Array Rotation"
   ]
  },
  {
   "cell_type": "markdown",
   "metadata": {},
   "source": [
    "John Watson knows of an operation called a right circular rotation on an array of integers. One rotation operation moves the last array element to the first position and shifts all remaining elements right one. To test Sherlock's abilities, Watson provides Sherlock with an array of integers. Sherlock is to perform the rotation operation a number of times then determine the value of the element at a given position.\n",
    "\n",
    "For each array, perform a number of right circular rotations and return the value of the element at a given index.\n",
    "\n",
    "For example, array a = [3,4,5] , number of rotations, k = 2 and indices to check, m =[1,2]. \n",
    "First we perform the two rotations: \n",
    "[3,4,5] --> [5,3,4] --> [4,5,3] \n",
    "Now return the values from the zero-based indices 1 and 2 as indicated in the m array. \n",
    " a[1] = 5\n",
    "a[2] = 3\n",
    "\n",
    "Function Description\n",
    "Complete the circularArrayRotation function in the editor below. It should return an array of integers representing the values at the specified indices.\n",
    "\n",
    "circularArrayRotation has the following parameter(s):\n",
    "\n",
    "a: an array of integers to rotate\n",
    "k: an integer, the rotation count\n",
    "queries: an array of integers, the indices to report\n",
    "Input Format\n",
    "\n",
    "The first line contains  space-separated integers, , , and , the number of elements in the integer array, the rotation count and the number of queries. \n",
    "The second line contains  space-separated integers, where each integer  describes array element  (where ). \n",
    "Each of the  subsequent lines contains a single integer denoting , the index of the element to return from .\n",
    "\n",
    "Constraints\n",
    "\n",
    "Output Format\n",
    "\n",
    "For each query, print the value of the element at index  of the rotated array on a new line.\n",
    "\n",
    "Sample Input 0\n",
    "\n",
    "3 2 3\n",
    "1 2 3\n",
    "0\n",
    "1\n",
    "2\n",
    "Sample Output 0\n",
    "\n",
    "2\n",
    "3\n",
    "1\n",
    "Explanation 0\n",
    "\n",
    "After the first rotation, the array becomes . \n",
    "After the second (and final) rotation, the array becomes .\n",
    "\n",
    "Let's refer to the array's final state as array . For each query, we just have to print the value of  on a new line:\n",
    "\n",
    ", .\n",
    ", .\n",
    ", .\n"
   ]
  },
  {
   "cell_type": "code",
   "execution_count": 5,
   "metadata": {},
   "outputs": [
    {
     "name": "stdout",
     "output_type": "stream",
     "text": [
      "3 2 3\n",
      "1 2 3\n",
      "0\n",
      "1\n",
      "2\n",
      "2\n",
      "3\n",
      "1\n"
     ]
    }
   ],
   "source": [
    "import math\n",
    "import os\n",
    "import random\n",
    "import re\n",
    "import sys\n",
    "\n",
    "# Complete the circularArrayRotation function below.\n",
    "def circularArrayRotation(a, k, queries):\n",
    "    for _ in range(k):\n",
    "       a =  [a[-1]] + a[0:-1]\n",
    "    for i in queries:\n",
    "        print(a[i])\n",
    "if __name__ == '__main__':\n",
    "    #fptr = open(os.environ['OUTPUT_PATH'], 'w')\n",
    "\n",
    "    nkq = input().split()\n",
    "\n",
    "    n = int(nkq[0])\n",
    "\n",
    "    k = int(nkq[1])\n",
    "\n",
    "    q = int(nkq[2])\n",
    "\n",
    "    a = list(map(int, input().rstrip().split()))\n",
    "\n",
    "    queries = []\n",
    "\n",
    "    for _ in range(q):\n",
    "        queries_item = int(input())\n",
    "        queries.append(queries_item)\n",
    "\n",
    "    result = circularArrayRotation(a, k, queries)\n",
    "\n",
    "    #fptr.write('\\n'.join(map(str, result)))\n",
    "    #fptr.write('\\n')\n",
    "\n",
    "    #fptr.close()\n"
   ]
  },
  {
   "cell_type": "markdown",
   "metadata": {},
   "source": [
    "Above my method failed in certain test cases due to time out...\n",
    "Below new soultion"
   ]
  },
  {
   "cell_type": "code",
   "execution_count": 7,
   "metadata": {},
   "outputs": [
    {
     "name": "stdout",
     "output_type": "stream",
     "text": [
      "3 2 3\n",
      "1 2 3\n",
      "0\n",
      "1\n",
      "2\n",
      "a [1, 2, 3]\n",
      "-k%len(a 1\n",
      "[2, 3, 1]\n"
     ]
    }
   ],
   "source": [
    "def circularArrayRotation(a, k, queries):\n",
    "    print(\"a\", a)\n",
    "    print(\"-k%len(a\",-k%len(a))\n",
    "    new_arr = a[-k%len(a):] + a[:-k%len(a)]\n",
    "    # list slicing is done here.  it will get the right rotated array \n",
    "\n",
    "    result = []\n",
    "    for i in queries:\n",
    "        result.append(new_arr[i])\n",
    "        # running queries on rotated array\n",
    "    return result\n",
    "if __name__ == '__main__':\n",
    "    #fptr = open(os.environ['OUTPUT_PATH'], 'w')\n",
    "\n",
    "    nkq = input().split()\n",
    "\n",
    "    n = int(nkq[0])\n",
    "\n",
    "    k = int(nkq[1])\n",
    "\n",
    "    q = int(nkq[2])\n",
    "\n",
    "    a = list(map(int, input().rstrip().split()))\n",
    "\n",
    "    queries = []\n",
    "\n",
    "    for _ in range(q):\n",
    "        queries_item = int(input())\n",
    "        queries.append(queries_item)\n",
    "\n",
    "    result = circularArrayRotation(a, k, queries)\n",
    "    print(result)\n",
    "    #fptr.write('\\n'.join(map(str, result)))\n",
    "    #fptr.write('\\n')\n",
    "\n",
    "    #fptr.close()\n",
    "\n"
   ]
  },
  {
   "cell_type": "markdown",
   "metadata": {},
   "source": [
    "using above method , list slicing is done in o(n) time . and then running the queries is done is o(1) time."
   ]
  }
 ],
 "metadata": {
  "kernelspec": {
   "display_name": "Python 3",
   "language": "python",
   "name": "python3"
  },
  "language_info": {
   "codemirror_mode": {
    "name": "ipython",
    "version": 3
   },
   "file_extension": ".py",
   "mimetype": "text/x-python",
   "name": "python",
   "nbconvert_exporter": "python",
   "pygments_lexer": "ipython3",
   "version": "3.6.5"
  }
 },
 "nbformat": 4,
 "nbformat_minor": 2
}
