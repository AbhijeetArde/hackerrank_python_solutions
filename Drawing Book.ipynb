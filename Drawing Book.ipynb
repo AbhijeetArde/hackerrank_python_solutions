{
 "cells": [
  {
   "cell_type": "markdown",
   "metadata": {},
   "source": [
    "# Drawing Book"
   ]
  },
  {
   "cell_type": "markdown",
   "metadata": {},
   "source": [
    "Brie’s Drawing teacher asks her class to open their books to a page number. Brie can either start turning pages from the front of the book or from the back of the book. She always turns pages one at a time. When she opens the book, page  is always on the right side:\n",
    "\n",
    "image\n",
    "\n",
    "When she flips page , she sees pages  and . Each page except the last page will always be printed on both sides. The last page may only be printed on the front, given the length of the book. If the book is  pages long, and she wants to turn to page , what is the minimum number of pages she will turn? She can start at the beginning or the end of the book.\n",
    "\n",
    "Given  and , find and print the minimum number of pages Brie must turn in order to arrive at page .\n",
    "\n",
    "Function Description\n",
    "\n",
    "Complete the pageCount function in the editor below. It should return the minimum number of pages Brie must turn.\n",
    "\n",
    "pageCount has the following parameter(s):\n",
    "\n",
    "n: the number of pages in the book\n",
    "p: the page number to turn to\n",
    "Input Format\n",
    "\n",
    "The first line contains an integer , the number of pages in the book. \n",
    "The second line contains an integer, , the page that Brie's teacher wants her to turn to.\n",
    "\n",
    "Constraints\n",
    "\n",
    "Output Format\n",
    "\n",
    "Print an integer denoting the minimum number of pages Brie must turn to get to page .\n",
    "\n",
    "Sample Input 0\n",
    "\n",
    "6\n",
    "2\n",
    "Sample Output 0\n",
    "\n",
    "1\n",
    "Explanation 0\n",
    "\n",
    "If Brie starts turning from page , she only needs to turn  page:\n",
    "\n",
    "Untitled Diagram(6).png\n",
    "\n",
    "If Brie starts turning from page , she needs to turn  pages:\n",
    "\n",
    "Untitled Diagram(3).png\n",
    "\n",
    "Because we want to print the minumum number of page turns, we print  as our answer.\n",
    "\n",
    "Sample Input 1\n",
    "\n",
    "5\n",
    "4\n",
    "Sample Output 1\n",
    "\n",
    "0\n",
    "Explanation 1\n",
    "\n",
    "If Brie starts turning from page , she needs to turn  pages:\n",
    "\n",
    "Untitled Diagram(4).png\n",
    "\n",
    "If Brie starts turning from page , she doesn't need to turn any pages:\n",
    "\n",
    "Untitled Diagram(5).png\n",
    "\n",
    "Because we want to print the minimum number of page turns, we print  as our answer."
   ]
  },
  {
   "cell_type": "code",
   "execution_count": 27,
   "metadata": {},
   "outputs": [
    {
     "name": "stdout",
     "output_type": "stream",
     "text": [
      "7\n",
      "4\n",
      "6\n",
      "4\n"
     ]
    }
   ],
   "source": [
    "import os\n",
    "import sys\n",
    "\n",
    "#\n",
    "# Complete the pageCount function below.\n",
    "#\n",
    "def pageCount(n, p):\n",
    "    step = 0\n",
    "    if n == p:\n",
    "        print(0)\n",
    "    elif p == 1:\n",
    "        print(0)\n",
    "    elif abs(p-1) < abs(n-p):\n",
    "        for i in range(2,n+1,2):\n",
    "            if i == p or i+1 == p:\n",
    "                step += 1\n",
    "        print(step)\n",
    "    else:\n",
    "        for i in range(n, p , -2):\n",
    "            if i == p or i-1 == p:\n",
    "                step +=1\n",
    "        if n%2 ==0:\n",
    "            return(step)\n",
    "        else:\n",
    "            return(step-1)\n",
    "\n",
    "if __name__ == '__main__':\n",
    "    #fptr = open(os.environ['OUTPUT_PATH'], 'w')\n",
    "\n",
    "    n = int(input())\n",
    "\n",
    "    p = int(input())\n",
    "\n",
    "    result = pageCount(n, p)\n",
    "\n",
    "    #fptr.write(str(result) + '\\n')\n",
    "\n",
    "    #fptr.close()"
   ]
  },
  {
   "cell_type": "markdown",
   "metadata": {},
   "source": [
    "Extremely simple soultion from discussion, i found"
   ]
  },
  {
   "cell_type": "code",
   "execution_count": 31,
   "metadata": {},
   "outputs": [
    {
     "name": "stdout",
     "output_type": "stream",
     "text": [
      "7\n",
      "4\n",
      "1\n"
     ]
    }
   ],
   "source": [
    "import os\n",
    "import sys\n",
    "\n",
    "#\n",
    "# Complete the pageCount function below.\n",
    "#\n",
    "def pageCount(n, p):\n",
    "    return(min(p//2, n//2 - p//2))\n",
    "\n",
    "if __name__ == '__main__':\n",
    "    #fptr = open(os.environ['OUTPUT_PATH'], 'w')\n",
    "\n",
    "    n = int(input())\n",
    "\n",
    "    p = int(input())\n",
    "\n",
    "    result = pageCount(n, p)\n",
    "    print(result)\n",
    "\n",
    "    #fptr.write(str(result) + '\\n')\n",
    "\n",
    "    #fptr.close()"
   ]
  },
  {
   "cell_type": "code",
   "execution_count": null,
   "metadata": {},
   "outputs": [],
   "source": []
  }
 ],
 "metadata": {
  "kernelspec": {
   "display_name": "Python 3",
   "language": "python",
   "name": "python3"
  },
  "language_info": {
   "codemirror_mode": {
    "name": "ipython",
    "version": 3
   },
   "file_extension": ".py",
   "mimetype": "text/x-python",
   "name": "python",
   "nbconvert_exporter": "python",
   "pygments_lexer": "ipython3",
   "version": "3.6.5"
  }
 },
 "nbformat": 4,
 "nbformat_minor": 2
}
