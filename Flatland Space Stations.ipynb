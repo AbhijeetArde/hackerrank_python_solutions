{
 "cells": [
  {
   "cell_type": "markdown",
   "metadata": {},
   "source": [
    "# Flatland Space Stations"
   ]
  },
  {
   "cell_type": "markdown",
   "metadata": {},
   "source": [
    "Flatland is a country with a number of cities, some of which have space stations. Cities are numbered consecutively and each has a road of  length connecting it to the next city. It is not a circular route, so the first city doesn't connect with the last city. Determine the maximum distance from any city to it's nearest space station.\n",
    "\n",
    "For example, there are  cities and  of them has a space station, city . They occur consecutively along a route. City  is  unit away and city  is  units away. City  is  units from its nearest space station as one is located there. The maximum distance is .\n",
    "\n",
    "Function Description\n",
    "\n",
    "Complete the flatlandSpaceStations function in the editor below. It should return an integer that represents the maximum distance any city is from a space station.\n",
    "\n",
    "flatlandSpaceStations has the following parameter(s):\n",
    "\n",
    "n: the number of cities\n",
    "c: an integer array that contains the indices of cities with a space station, -based indexing\n",
    "Input Format\n",
    "\n",
    "The first line consists of two space-separated integers,  and . \n",
    "The second line contains  space-separated integers, the indices of each city having a space-station. These values are unordered and unique.\n",
    "\n",
    "Constraints\n",
    "\n",
    "There will be at least  city with a space station.\n",
    "No city has more than one space station.\n",
    "Output Format\n",
    "\n",
    "Print an integer denoting the maximum distance that an astronaut in a Flatland city would need to travel to reach the nearest space station.\n",
    "\n",
    "Sample Input 0\n",
    "\n",
    "5 2\n",
    "0 4\n",
    "Sample Output 0\n",
    "\n",
    "2\n",
    "Explanation 0\n",
    "\n",
    "This sample corresponds to following graphic:\n",
    "\n",
    "hreasy(5).png\n",
    "The distance to the nearest space station for each city is listed below:\n",
    "\n",
    " has distance , as it contains a space station.\n",
    " has distance  to the space station in .\n",
    " has distance  to the space stations in  and .\n",
    " has distance  to the space station in .\n",
    " has distance , as it contains a space station.\n",
    "We then take .\n",
    "\n",
    "Sample Input 1\n",
    "\n",
    "6 6\n",
    "0 1 2 4 3 5\n",
    "Sample Output 1\n",
    "\n",
    "0\n",
    "Explanation 1\n",
    "\n",
    "In this sample,  so every city has space station and we print  as our answer."
   ]
  },
  {
   "cell_type": "code",
   "execution_count": 28,
   "metadata": {},
   "outputs": [
    {
     "name": "stdout",
     "output_type": "stream",
     "text": [
      "5 2\n",
      "0 4\n",
      "0\n",
      "val 1\n",
      "1\n",
      "3\n",
      "val 2\n",
      "2\n",
      "2\n",
      "val 3\n",
      "3\n",
      "1\n",
      "4\n",
      "[0, 1, 2, 1, 0]\n"
     ]
    }
   ],
   "source": [
    "import math\n",
    "import os\n",
    "import random\n",
    "import re\n",
    "import sys\n",
    "\n",
    "# Complete the flatlandSpaceStations function below.\n",
    "def flatlandSpaceStations(n, c):\n",
    "    distance = []\n",
    "    sht_distance = []\n",
    "    if n == m:\n",
    "        return 0\n",
    "    for val in range(n):\n",
    "        if val in c:\n",
    "            distance.append(0)\n",
    "        else:\n",
    "            sht_distance = []\n",
    "            for i in c:\n",
    "                sht_distance.append(abs(val - i))\n",
    "            distance.append(min(sht_distance))\n",
    "    return(max(distance))\n",
    "    \n",
    "if __name__ == '__main__':\n",
    "    #fptr = open(os.environ['OUTPUT_PATH'], 'w')\n",
    "\n",
    "    nm = input().split()\n",
    "\n",
    "    n = int(nm[0])\n",
    "\n",
    "    m = int(nm[1])\n",
    "\n",
    "    c = list(map(int, input().rstrip().split()))\n",
    "\n",
    "    result = flatlandSpaceStations(n, c)\n",
    "\n",
    "    #fptr.write(str(result) + '\\n')\n",
    "\n",
    "    #fptr.close()\n"
   ]
  },
  {
   "cell_type": "markdown",
   "metadata": {},
   "source": [
    "Above works, but getting timeout for last no of inputs"
   ]
  },
  {
   "cell_type": "code",
   "execution_count": 33,
   "metadata": {},
   "outputs": [
    {
     "name": "stdout",
     "output_type": "stream",
     "text": [
      "5 2\n",
      "0 4\n",
      "[0, 4]\n",
      "len(c)-1 1\n",
      "c[0] 0\n",
      " n-1-c[-1] 0\n"
     ]
    }
   ],
   "source": [
    "import math\n",
    "import os\n",
    "import random\n",
    "import re\n",
    "import sys\n",
    "\n",
    "# Complete the flatlandSpaceStations function below.\n",
    "def flatlandSpaceStations(n, c):\n",
    "    c.sort()\n",
    "    print(c)\n",
    "    print(\"len(c)-1\", len(c)-1)\n",
    "    print(\"c[0]\", c[0])\n",
    "    print(\" n-1-c[-1]\",  n-1-c[-1])\n",
    "    dist= max(c[0], n-1-c[-1], *[ int((c[i+1]-c[i])/2)  for i in range(len(c)-1)])\n",
    "    return dist\n",
    "        \n",
    "    \n",
    "if __name__ == '__main__':\n",
    "    #fptr = open(os.environ['OUTPUT_PATH'], 'w')\n",
    "\n",
    "    nm = input().split()\n",
    "\n",
    "    n = int(nm[0])\n",
    "\n",
    "    m = int(nm[1])\n",
    "\n",
    "    c = list(map(int, input().rstrip().split()))\n",
    "\n",
    "    result = flatlandSpaceStations(n, c)\n",
    "\n",
    "    #fptr.write(str(result) + '\\n')\n",
    "\n",
    "    #fptr.close()\n"
   ]
  },
  {
   "cell_type": "markdown",
   "metadata": {},
   "source": [
    "Simple O(nlogn) solution: Sort stations, max distance will be the max of: the distance of the first city from the first station,\n",
    "last city from last station, and the distance between any station pair divided by 2 rounded down."
   ]
  },
  {
   "cell_type": "code",
   "execution_count": null,
   "metadata": {},
   "outputs": [],
   "source": []
  }
 ],
 "metadata": {
  "kernelspec": {
   "display_name": "Python 3",
   "language": "python",
   "name": "python3"
  },
  "language_info": {
   "codemirror_mode": {
    "name": "ipython",
    "version": 3
   },
   "file_extension": ".py",
   "mimetype": "text/x-python",
   "name": "python",
   "nbconvert_exporter": "python",
   "pygments_lexer": "ipython3",
   "version": "3.6.5"
  }
 },
 "nbformat": 4,
 "nbformat_minor": 2
}
