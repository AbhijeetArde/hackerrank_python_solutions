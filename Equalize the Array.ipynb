{
 "cells": [
  {
   "cell_type": "markdown",
   "metadata": {},
   "source": [
    "# Equalize the Array"
   ]
  },
  {
   "cell_type": "markdown",
   "metadata": {},
   "source": [
    "Karl has an array of integers. He wants to reduce the array until all remaining elements are equal. Determine the minimum number of elements to delete to reach his goal.\n",
    "\n",
    "For example, if his array is , we see that he can delete the  elements  and  leaving . He could also delete both twos and either the  or the , but that would take  deletions. The minimum number of deletions is .\n",
    "\n",
    "Function Description\n",
    "\n",
    "Complete the equalizeArray function in the editor below. It must return an integer that denotes the minimum number of deletions required.\n",
    "\n",
    "equalizeArray has the following parameter(s):\n",
    "\n",
    "arr: an array of integers\n",
    "Input Format\n",
    "\n",
    "The first line contains an integer , the number of elements in . \n",
    "The next line contains  space-separated integers .\n",
    "\n",
    "Constraints\n",
    "\n",
    "Output Format\n",
    "\n",
    "Print a single integer that denotes the minimum number of elements Karl must delete for all elements in the array to be equal.\n",
    "\n",
    "Sample Input\n",
    "\n",
    "5\n",
    "3 3 2 1 3\n",
    "Sample Output\n",
    "\n",
    "2   \n",
    "Explanation\n",
    "\n",
    "Array . If we delete  and , all of the elements in the resulting array, , will be equal. Deleting these  elements is minimal. Our only other options would be to delete  elements to get an array of either  or ."
   ]
  },
  {
   "cell_type": "code",
   "execution_count": 13,
   "metadata": {},
   "outputs": [
    {
     "name": "stdout",
     "output_type": "stream",
     "text": [
      "4\n",
      "1 2 2 1\n",
      "2\n"
     ]
    }
   ],
   "source": [
    "import math\n",
    "import os\n",
    "import random\n",
    "import re\n",
    "import sys\n",
    "\n",
    "# Complete the equalizeArray function below.\n",
    "def equalizeArray(arr):\n",
    "    cnt_dict = {}\n",
    "    for i in arr:\n",
    "        if i not in cnt_dict:\n",
    "            cnt_dict[i] = 1\n",
    "        else:\n",
    "            cnt_dict[i] = cnt_dict[i]+1\n",
    "    return(len(arr) - max(cnt_dict.values()))\n",
    "\n",
    "if __name__ == '__main__':\n",
    "    #fptr = open(os.environ['OUTPUT_PATH'], 'w')\n",
    "\n",
    "    n = int(input())\n",
    "\n",
    "    arr = list(map(int, input().rstrip().split()))\n",
    "\n",
    "    result = equalizeArray(arr)\n",
    "\n",
    "    #fptr.write(str(result) + '\\n')\n",
    "\n",
    "    #fptr.close()"
   ]
  },
  {
   "cell_type": "code",
   "execution_count": null,
   "metadata": {},
   "outputs": [],
   "source": []
  }
 ],
 "metadata": {
  "kernelspec": {
   "display_name": "Python 3",
   "language": "python",
   "name": "python3"
  },
  "language_info": {
   "codemirror_mode": {
    "name": "ipython",
    "version": 3
   },
   "file_extension": ".py",
   "mimetype": "text/x-python",
   "name": "python",
   "nbconvert_exporter": "python",
   "pygments_lexer": "ipython3",
   "version": "3.6.5"
  }
 },
 "nbformat": 4,
 "nbformat_minor": 2
}
