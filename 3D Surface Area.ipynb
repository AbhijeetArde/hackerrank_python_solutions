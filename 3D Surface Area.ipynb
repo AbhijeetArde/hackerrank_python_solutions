{
 "cells": [
  {
   "cell_type": "markdown",
   "metadata": {},
   "source": [
    "### 3D Surface Area\n",
    "\n"
   ]
  },
  {
   "cell_type": "markdown",
   "metadata": {},
   "source": [
    "Madison, is a little girl who is fond of toys. Her friend Mason works in a toy manufacturing factory . Mason has a 2D board  of size  with  rows and  columns. The board is divided into cells of size  with each cell indicated by it's coordinate . The cell  has an integer  written on it. To create the toy Mason stacks  number of cubes of size  on the cell .\n",
    "\n",
    "Given the description of the board showing the values of  and that the price of the toy is equal to the 3d surface area find the price of the toy.\n",
    "\n",
    "image\n",
    "\n",
    "Input Format\n",
    "\n",
    "The first line contains two space-separated integers  and  the height and the width of the board respectively.\n",
    "\n",
    "The next  lines contains  space separated integers. The  integer in  line denotes .\n",
    "\n",
    "Constraints\n",
    "\n",
    "Output Format\n",
    "\n",
    "Print the required answer, i.e the price of the toy, in one line.\n",
    "\n",
    "Sample Input 0\n",
    "\n",
    "1 1\n",
    "1\n",
    "Sample Output 0\n",
    "\n",
    "6\n",
    "Explanation 0\n",
    "\n",
    "image The surface area of  cube is 6.\n",
    "\n",
    "Sample Input 1\n",
    "\n",
    "3 3\n",
    "1 3 4\n",
    "2 2 3\n",
    "1 2 4\n",
    "Sample Output 1\n",
    "\n",
    "60\n",
    "Explanation 1\n",
    "\n",
    "The sample input corresponds to the figure described in problem statement."
   ]
  },
  {
   "cell_type": "code",
   "execution_count": 5,
   "metadata": {},
   "outputs": [
    {
     "name": "stdout",
     "output_type": "stream",
     "text": [
      "3 3\n",
      "1 3 4\n",
      "2 2 3\n",
      "1 2 4\n",
      "18\n",
      "0\n",
      "0\n",
      "1\n",
      "2\n",
      "1\n",
      "0\n",
      "1\n",
      "2\n",
      "2\n",
      "0\n",
      "1\n",
      "2\n",
      "60\n"
     ]
    }
   ],
   "source": [
    "import random\n",
    "import re\n",
    "import sys\n",
    "\n",
    "# Complete the surfaceArea function below.\n",
    "def surfaceArea(A):\n",
    "    t = H*W * 2\n",
    "    for i in range(H):\n",
    "        for j in range(W):\n",
    "            if i == 0:\n",
    "                t += A[i][j]\n",
    "            if j == 0:\n",
    "                t += A[i][j]\n",
    "            if i == H-1:\n",
    "                t += A[i][j]\n",
    "            if j == W-1:\n",
    "                t += A[i][j]\n",
    "\n",
    "            if j != 0:\n",
    "                t += abs(A[i][j] - A[i][j-1])\n",
    "            if i != 0:\n",
    "                t += abs(A[i][j] - A[i-1][j])\n",
    "            \n",
    "    print(t)\n",
    "            \n",
    "\n",
    "if __name__ == '__main__':\n",
    "    #fptr = open(os.environ['OUTPUT_PATH'], 'w')\n",
    "\n",
    "    HW = input().split()\n",
    "\n",
    "    H = int(HW[0])\n",
    "\n",
    "    W = int(HW[1])\n",
    "\n",
    "    A = []\n",
    "\n",
    "    for _ in range(H):\n",
    "        A.append(list(map(int, input().rstrip().split())))\n",
    "\n",
    "    result = surfaceArea(A)\n",
    "\n",
    "    #fptr.write(str(result) + '\\n')\n",
    "\n",
    "    #fptr.close()\n"
   ]
  },
  {
   "cell_type": "code",
   "execution_count": null,
   "metadata": {},
   "outputs": [],
   "source": []
  }
 ],
 "metadata": {
  "kernelspec": {
   "display_name": "Python 3",
   "language": "python",
   "name": "python3"
  },
  "language_info": {
   "codemirror_mode": {
    "name": "ipython",
    "version": 3
   },
   "file_extension": ".py",
   "mimetype": "text/x-python",
   "name": "python",
   "nbconvert_exporter": "python",
   "pygments_lexer": "ipython3",
   "version": "3.6.5"
  }
 },
 "nbformat": 4,
 "nbformat_minor": 2
}
