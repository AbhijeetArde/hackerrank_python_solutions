{
 "cells": [
  {
   "cell_type": "markdown",
   "metadata": {},
   "source": [
    "# Encryption"
   ]
  },
  {
   "cell_type": "markdown",
   "metadata": {},
   "source": [
    "An English text needs to be encrypted using the following encryption scheme. \n",
    "First, the spaces are removed from the text. Let  be the length of this text. \n",
    "Then, characters are written into a grid, whose rows and columns have the following constraints:\n",
    "\n",
    "For example, the sentence , after removing spaces is  characters long.  is between  and , so it is written in the form of a grid with 7 rows and 8 columns.\n",
    "\n",
    "ifmanwas  \n",
    "meanttos          \n",
    "tayonthe  \n",
    "groundgo  \n",
    "dwouldha  \n",
    "vegivenu  \n",
    "sroots\n",
    "Ensure that \n",
    "If multiple grids satisfy the above conditions, choose the one with the minimum area, i.e. .\n",
    "The encoded message is obtained by displaying the characters in a column, inserting a space, and then displaying the next column and inserting a space, and so on. For example, the encoded message for the above rectangle is:\n",
    "\n",
    "imtgdvs fearwer mayoogo anouuio ntnnlvt wttddes aohghn sseoau\n",
    "\n",
    "You will be given a message to encode and print.\n",
    "\n",
    "Function Description\n",
    "\n",
    "Complete the encryption function in the editor below. It should return a single string composed as described.\n",
    "\n",
    "encryption has the following parameter(s):\n",
    "\n",
    "s: a string to encrypt\n",
    "Input Format\n",
    "\n",
    "One line of text, the string \n",
    "\n",
    "Constraints\n",
    "\n",
    " \n",
    " is comprised only of characters in the range ascii[a-z].\n",
    "\n",
    "Output Format\n",
    "\n",
    "Print the encoded message on one line as described.\n",
    "\n",
    "Sample Input\n",
    "\n",
    "haveaniceday\n",
    "Sample Output 0\n",
    "\n",
    "hae and via ecy\n",
    "Explanation 0\n",
    "\n",
    ",  is between  and . \n",
    "Rewritten with  rows and  columns:\n",
    "\n",
    "have\n",
    "anic\n",
    "eday\n",
    "Sample Input 1\n",
    "\n",
    "feedthedog    \n",
    "Sample Output 1\n",
    "\n",
    "fto ehg ee dd\n",
    "Explanation 1\n",
    "\n",
    ",  is between  and . \n",
    "Rewritten with  rows and  columns:\n",
    "\n",
    "feed\n",
    "thed\n",
    "og\n",
    "Sample Input 2\n",
    "\n",
    "chillout\n",
    "Sample Output 2\n",
    "\n",
    "clu hlt io\n",
    "Explanation 2\n",
    "\n",
    ",  is between  and . \n",
    "Rewritten with  columns and  rows ( so we have to use .)\n",
    "\n",
    "chi\n",
    "llo\n",
    "ut"
   ]
  },
  {
   "cell_type": "code",
   "execution_count": 26,
   "metadata": {},
   "outputs": [
    {
     "name": "stdout",
     "output_type": "stream",
     "text": [
      "haveaniceday\n",
      "['h', 'a', 'v', 'e']\n",
      "['a', 'n', 'i', 'c']\n",
      "['e', 'd', 'a', 'y']\n"
     ]
    }
   ],
   "source": [
    "import math\n",
    "import os\n",
    "import random\n",
    "import re\n",
    "import sys\n",
    "\n",
    "# Complete the encryption function below.\n",
    "def encryption(s):\n",
    "    tot_len = len(s)\n",
    "    row = math.floor(math.sqrt(tot_len))\n",
    "    col = math.ceil(math.sqrt(tot_len))\n",
    "    k = 0\n",
    "    \n",
    "    if row*col < 1:\n",
    "        row=col\n",
    "    \n",
    "    mat = [[0 for j in range(col)]for i in range(row)]\n",
    "\n",
    "    for i in range(row):\n",
    "        for j in range(col):\n",
    "            if k < tot_len:\n",
    "                mat[i][j] = s[k]\n",
    "            else:\n",
    "                mat[i][j] = \" \"\n",
    "            k += 1\n",
    "            \n",
    "\n",
    "            \n",
    "\n",
    "if __name__ == '__main__':\n",
    "    #fptr = open(os.environ['OUTPUT_PATH'], 'w')\n",
    "\n",
    "    s = input()\n",
    "\n",
    "    result = encryption(s)\n",
    "\n",
    "    #fptr.write(result + '\\n')\n",
    "\n",
    "    #fptr.close()"
   ]
  },
  {
   "cell_type": "code",
   "execution_count": 28,
   "metadata": {},
   "outputs": [
    {
     "name": "stdout",
     "output_type": "stream",
     "text": [
      "feedthedog\n",
      "fto ehg ee dd\n"
     ]
    }
   ],
   "source": [
    "import sys\n",
    "from math import ceil, sqrt\n",
    "\n",
    "\n",
    "s = input().strip()\n",
    "c = ceil(sqrt(len(s)))\n",
    "print(' '.join(map(lambda x: s[x::c], range(c))))"
   ]
  },
  {
   "cell_type": "code",
   "execution_count": 31,
   "metadata": {},
   "outputs": [
    {
     "name": "stdout",
     "output_type": "stream",
     "text": [
      "feedthegod\n",
      "<function <lambda> at 0x0000023E773A26A8> range(0, 4)\n"
     ]
    }
   ],
   "source": [
    "import sys\n",
    "from math import ceil, sqrt\n",
    "\n",
    "\n",
    "s = input().strip()\n",
    "c = ceil(sqrt(len(s)))\n",
    "print(lambda x: s[x::c], range(c))"
   ]
  },
  {
   "cell_type": "code",
   "execution_count": null,
   "metadata": {},
   "outputs": [],
   "source": []
  }
 ],
 "metadata": {
  "kernelspec": {
   "display_name": "Python 3",
   "language": "python",
   "name": "python3"
  },
  "language_info": {
   "codemirror_mode": {
    "name": "ipython",
    "version": 3
   },
   "file_extension": ".py",
   "mimetype": "text/x-python",
   "name": "python",
   "nbconvert_exporter": "python",
   "pygments_lexer": "ipython3",
   "version": "3.6.5"
  }
 },
 "nbformat": 4,
 "nbformat_minor": 2
}
