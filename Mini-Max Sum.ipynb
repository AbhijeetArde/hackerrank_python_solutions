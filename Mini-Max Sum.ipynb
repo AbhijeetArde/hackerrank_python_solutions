{
 "cells": [
  {
   "cell_type": "markdown",
   "metadata": {},
   "source": [
    "Given five positive integers, find the minimum and maximum values that can be calculated by summing exactly four of the five integers. Then print the respective minimum and maximum values as a single line of two space-separated long integers.\n",
    "\n",
    "For example, . Our minimum sum is  and our maximum sum is . We would print\n",
    "\n",
    "16 24\n"
   ]
  },
  {
   "cell_type": "markdown",
   "metadata": {},
   "source": [
    "Function Description\n",
    "\n",
    "Complete the miniMaxSum function in the editor below. It should print two space-separated integers on one line: the minimum sum and the maximum sum of  of  elements.\n",
    "\n",
    "miniMaxSum has the following parameter(s):\n",
    "\n",
    "arr: an array of  integers\n",
    "Input Format\n",
    "\n",
    "A single line of five space-separated integers.\n",
    "\n",
    "Constraints\n",
    "\n",
    "\n",
    "Output Format\n",
    "\n",
    "Print two space-separated long integers denoting the respective minimum and maximum values that can be calculated by summing exactly four of the five integers. (The output can be greater than a 32 bit integer.)\n",
    "\n",
    "Sample Input\n",
    "\n",
    "1 2 3 4 5\n",
    "Sample Output\n",
    "\n",
    "10 14"
   ]
  },
  {
   "cell_type": "markdown",
   "metadata": {},
   "source": [
    "Explanation\n",
    "\n",
    "Our initial numbers are , , , , and . We can calculate the following sums using four of the five integers:\n",
    "\n",
    "If we sum everything except , our sum is .\n",
    "If we sum everything except , our sum is .\n",
    "If we sum everything except , our sum is .\n",
    "If we sum everything except , our sum is .\n",
    "If we sum everything except , our sum is .\n",
    "Hints: Beware of integer overflow! Use 64-bit Integer."
   ]
  },
  {
   "cell_type": "code",
   "execution_count": 14,
   "metadata": {},
   "outputs": [
    {
     "name": "stdout",
     "output_type": "stream",
     "text": [
      "5 5 5 5 5\n",
      "0 0\n"
     ]
    }
   ],
   "source": [
    "import math\n",
    "import os\n",
    "import random\n",
    "import re\n",
    "import sys\n",
    "\n",
    "# Complete the miniMaxSum function below.\n",
    "def miniMaxSum(arr):\n",
    "    sum = 0\n",
    "    minmax = []\n",
    "    for val in arr:\n",
    "        sum = calcsum(val, arr)\n",
    "        minmax.append(sum)\n",
    "    results_list = sorted(minmax)\n",
    "    print(results_list[0], results_list[-1])\n",
    "def calcsum(val, arr):\n",
    "    sum1 = 0\n",
    "    for val1 in arr:\n",
    "        if val1 != val:\n",
    "            sum1 = sum1 + val1\n",
    "    return sum1\n",
    "if __name__ == '__main__':\n",
    "    arr = list(map(int, input().rstrip().split()))\n",
    "\n",
    "    miniMaxSum(arr)\n"
   ]
  },
  {
   "cell_type": "markdown",
   "metadata": {},
   "source": [
    "Above method works well if integers are different\n",
    "but fails if all the inputs are same integers"
   ]
  },
  {
   "cell_type": "code",
   "execution_count": 20,
   "metadata": {},
   "outputs": [
    {
     "name": "stdout",
     "output_type": "stream",
     "text": [
      "1 2 3 4 5\n",
      "[1, 2, 3, 4, 5]\n",
      "i 0\n",
      "arr[i] 1\n",
      "sum 1\n",
      "i 1\n",
      "arr[i] 2\n",
      "sum 3\n",
      "i 2\n",
      "arr[i] 3\n",
      "sum 6\n",
      "i 3\n",
      "arr[i] 4\n",
      "sum 10\n",
      "i 4\n",
      "arr[i] 5\n",
      "sum 15\n",
      "10 14\n"
     ]
    }
   ],
   "source": [
    "#Alternative approach with Simplified Solution\n",
    "import math\n",
    "import os\n",
    "import random\n",
    "import re\n",
    "import sys\n",
    "\n",
    "# Complete the miniMaxSum function below.\n",
    "def miniMaxSum(arr):\n",
    "    print(arr)\n",
    "    sum=0\n",
    "    for i in range(len(arr)):\n",
    "        print(\"i\", i)\n",
    "        print(\"arr[i]\", arr[i])\n",
    "        sum+=arr[i]\n",
    "        print(\"sum\", sum)\n",
    "    print (sum-max(arr), sum-min(arr))\n",
    "        \n",
    "\n",
    "if __name__ == '__main__':\n",
    "    arr = list(map(int, input().rstrip().split()))\n",
    "\n",
    "    miniMaxSum(arr)"
   ]
  },
  {
   "cell_type": "code",
   "execution_count": null,
   "metadata": {},
   "outputs": [],
   "source": []
  }
 ],
 "metadata": {
  "kernelspec": {
   "display_name": "Python 3",
   "language": "python",
   "name": "python3"
  },
  "language_info": {
   "codemirror_mode": {
    "name": "ipython",
    "version": 3
   },
   "file_extension": ".py",
   "mimetype": "text/x-python",
   "name": "python",
   "nbconvert_exporter": "python",
   "pygments_lexer": "ipython3",
   "version": "3.6.5"
  }
 },
 "nbformat": 4,
 "nbformat_minor": 2
}
