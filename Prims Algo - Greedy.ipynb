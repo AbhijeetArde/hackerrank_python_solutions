{
 "cells": [
  {
   "cell_type": "markdown",
   "metadata": {},
   "source": [
    "# Prims Algorithm - Greedy Approach"
   ]
  },
  {
   "cell_type": "code",
   "execution_count": 6,
   "metadata": {},
   "outputs": [],
   "source": [
    "def createAdjMatrix(V, G):\n",
    "  \n",
    "  adjMatrix = []\n",
    "  \n",
    "  # create N x N matrix filled with 0 edge weights between all vertices\n",
    "  for i in range(0, V):\n",
    "    adjMatrix.append([])\n",
    "    for j in range(0, V):\n",
    "      adjMatrix[i].append(0)\n",
    "  print(adjMatrix)\n",
    "  \n",
    "  # populate adjacency matrix with correct edge weights\n",
    "  for i in range(0, len(G)):\n",
    "    adjMatrix[G[i][0]][G[i][1]] = G[i][2]\n",
    "    adjMatrix[G[i][1]][G[i][0]] = G[i][2]\n",
    "  print(adjMatrix)"
   ]
  },
  {
   "cell_type": "code",
   "execution_count": 7,
   "metadata": {},
   "outputs": [
    {
     "name": "stdout",
     "output_type": "stream",
     "text": [
      "[[0, 0, 0, 0, 0, 0], [0, 0, 0, 0, 0, 0], [0, 0, 0, 0, 0, 0], [0, 0, 0, 0, 0, 0], [0, 0, 0, 0, 0, 0], [0, 0, 0, 0, 0, 0]]\n",
      "[[0, 2, 3, 0, 0, 0], [2, 0, 5, 3, 4, 0], [3, 5, 0, 0, 4, 0], [0, 3, 0, 0, 2, 3], [0, 4, 4, 2, 0, 5], [0, 0, 0, 3, 5, 0]]\n"
     ]
    }
   ],
   "source": [
    "a, b, c, d, e, f = 0, 1, 2, 3, 4, 5\n",
    "\n",
    "# graph edges with weights\n",
    "# diagram of graph is shown above\n",
    "graph = [\n",
    "  [a,b,2],\n",
    "  [a,c,3],\n",
    "  [b,d,3],\n",
    "  [b,c,5],\n",
    "  [b,e,4],\n",
    "  [c,e,4],\n",
    "  [d,e,2],\n",
    "  [d,f,3],\n",
    "  [e,f,5]\n",
    "]\n",
    "\n",
    "createAdjMatrix(6, graph)"
   ]
  },
  {
   "cell_type": "code",
   "execution_count": null,
   "metadata": {},
   "outputs": [],
   "source": []
  }
 ],
 "metadata": {
  "kernelspec": {
   "display_name": "Python 3",
   "language": "python",
   "name": "python3"
  },
  "language_info": {
   "codemirror_mode": {
    "name": "ipython",
    "version": 3
   },
   "file_extension": ".py",
   "mimetype": "text/x-python",
   "name": "python",
   "nbconvert_exporter": "python",
   "pygments_lexer": "ipython3",
   "version": "3.6.5"
  }
 },
 "nbformat": 4,
 "nbformat_minor": 2
}
