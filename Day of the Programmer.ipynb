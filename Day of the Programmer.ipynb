{
 "cells": [
  {
   "cell_type": "markdown",
   "metadata": {},
   "source": [
    "# Day of the Programmer"
   ]
  },
  {
   "cell_type": "markdown",
   "metadata": {},
   "source": [
    "Marie invented a Time Machine and wants to test it by time-traveling to visit Russia on the Day of the Programmer (the day of the year) during a year in the inclusive range from  to .\n",
    "\n",
    "From  to , Russia's official calendar was the Julian calendar; since  they used the Gregorian calendar system. The transition from the Julian to Gregorian calendar system occurred in , when the next day after January  was February . This means that in , February  was the  day of the year in Russia.\n",
    "\n",
    "In both calendar systems, February is the only month with a variable amount of days; it has  days during a leap year, and days during all other years. In the Julian calendar, leap years are divisible by ; in the Gregorian calendar, leap years are either of the following:\n",
    "\n",
    "Divisible by .\n",
    "Divisible by  and not divisible by .\n",
    "Given a year, , find the date of the  day of that year according to the official Russian calendar during that year. Then print it in the format dd.mm.yyyy, where dd is the two-digit day, mm is the two-digit month, and yyyy is .\n",
    "\n",
    "For example, the given .  is divisible by , so it is a leap year. The  day of a leap year after  is September 12, so the answer is .\n",
    "\n",
    "Function Description\n",
    "\n",
    "Complete the dayOfProgrammer function in the editor below. It should return a string representing the date of the  day of the year given.\n",
    "\n",
    "dayOfProgrammer has the following parameter(s):\n",
    "\n",
    "year: an integer\n",
    "Input Format\n",
    "\n",
    "A single integer denoting year .\n",
    "\n",
    "Constraints\n",
    "\n",
    "Output Format\n",
    "\n",
    "Print the full date of Day of the Programmer during year  in the format dd.mm.yyyy, where dd is the two-digit day, mm is the two-digit month, and yyyy is .\n",
    "\n",
    "Sample Input 0\n",
    "\n",
    "2017\n",
    "Sample Output 0\n",
    "\n",
    "13.09.2017\n",
    "Explanation 0\n",
    "\n",
    "In the year , January has  days, February has  days, March has  days, April has  days, May has  days, June has  days, July has  days, and August has  days. When we sum the total number of days in the first eight months, we get . Day of the Programmer is the  day, so then calculate  to determine that it falls on day  of the  month (September). We then print the full date in the specified format, which is 13.09.2017.\n",
    "\n",
    "Sample Input 1\n",
    "\n",
    "2016\n",
    "Sample Output 1\n",
    "\n",
    "12.09.2016\n",
    "Explanation 1\n",
    "\n",
    "Year  is a leap year, so February has  days but all the other months have the same number of days as in . When we sum the total number of days in the first eight months, we get . Day of the Programmer is the  day, so then calculate  to determine that it falls on day  of the month (September). We then print the full date in the specified format, which is 12.09.2016.\n",
    "\n",
    "Sample Input 2\n",
    "\n",
    "1800\n",
    "Sample Output 2\n",
    "\n",
    "12.09.1800\n",
    "Explanation 2\n",
    "\n",
    "Since 1800 is leap year. Day lies on 12 September."
   ]
  },
  {
   "cell_type": "code",
   "execution_count": 4,
   "metadata": {},
   "outputs": [
    {
     "name": "stdout",
     "output_type": "stream",
     "text": [
      "1800\n",
      "12.09.1800\n"
     ]
    }
   ],
   "source": [
    "import math\n",
    "import os\n",
    "import random\n",
    "import re\n",
    "import sys\n",
    "\n",
    "# Complete the dayOfProgrammer function below.\n",
    "def dayOfProgrammer(year):\n",
    "    if (year == 1918):\n",
    "        return '26.09.1918'\n",
    "    elif ((year <= 1917) & (year%4 == 0)) or ((year > 1918) & (year%400 == 0 or ((year%4 == 0) & (year%100 != 0)))):\n",
    "        return '12.09.%s' %year\n",
    "    else:\n",
    "        return '13.09.%s' %year\n",
    "\n",
    "if __name__ == '__main__':\n",
    "    #fptr = open(os.environ['OUTPUT_PATH'], 'w')\n",
    "\n",
    "    year = int(input().strip())\n",
    "\n",
    "    result = dayOfProgrammer(year)\n",
    "    print(result)\n",
    "\n",
    "    #fptr.write(result + '\\n')\n",
    "\n",
    "    #fptr.close()\n"
   ]
  },
  {
   "cell_type": "code",
   "execution_count": null,
   "metadata": {},
   "outputs": [],
   "source": []
  }
 ],
 "metadata": {
  "kernelspec": {
   "display_name": "Python 3",
   "language": "python",
   "name": "python3"
  },
  "language_info": {
   "codemirror_mode": {
    "name": "ipython",
    "version": 3
   },
   "file_extension": ".py",
   "mimetype": "text/x-python",
   "name": "python",
   "nbconvert_exporter": "python",
   "pygments_lexer": "ipython3",
   "version": "3.6.5"
  }
 },
 "nbformat": 4,
 "nbformat_minor": 2
}
