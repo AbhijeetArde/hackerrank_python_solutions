{
 "cells": [
  {
   "cell_type": "markdown",
   "metadata": {},
   "source": [
    "# Electronics Shop"
   ]
  },
  {
   "cell_type": "markdown",
   "metadata": {},
   "source": [
    "Monica wants to buy a keyboard and a USB drive from her favorite electronics store. The store has several models of each. Monica wants to spend as much as possible for the  items, given her budget.\n",
    "\n",
    "Given the price lists for the store's keyboards and USB drives, and Monica's budget, find and print the amount of money Monica will spend. If she doesn't have enough money to both a keyboard and a USB drive, print -1 instead. She will buy only the two required items.\n",
    "\n",
    "For example, suppose she has b=60 to spend. Three types of keyboards cost keybords = [40,50,60] . Two USB drives cost drives=[5,8,12]. She could purchase a 40 keboard+12 usb drive , or a 50 keboard +8 usb drive. She chooses the latter. She can't buy more than  items so she can't spend exactly .\n",
    "\n",
    "Function Description\n",
    "\n",
    "Complete the getMoneySpent function in the editor below. It should return the maximum total price for the two items within Monica's budget, or  if she cannot afford both items.\n",
    "\n",
    "getMoneySpent has the following parameter(s):\n",
    "\n",
    "keyboards: an array of integers representing keyboard prices\n",
    "drives: an array of integers representing drive prices\n",
    "b: the units of currency in Monica's budget\n",
    "Input Format\n",
    "\n",
    "The first line contains three space-separated integers , , and , her budget, the number of keyboard models and the number of USB drive models. \n",
    "The second line contains  space-separated integers , the prices of each keyboard model. \n",
    "The third line contains  space-separated integers , the prices of the USB drives.\n",
    "\n",
    "Constraints\n",
    "\n",
    "The price of each item is in the inclusive range .\n",
    "Output Format\n",
    "\n",
    "Print a single integer denoting the amount of money Monica will spend. If she doesn't have enough money to buy one keyboard and one USB drive, print -1 instead.\n",
    "\n",
    "Sample Input 0\n",
    "\n",
    "10 2 3\n",
    "3 1\n",
    "5 2 8\n",
    "Sample Output 0\n",
    "\n",
    "9\n",
    "Explanation 0\n",
    "\n",
    "She can buy the  keyboard and the  USB drive for a total cost of .\n",
    "\n",
    "Sample Input 1\n",
    "\n",
    "5 1 1\n",
    "4\n",
    "5\n",
    "Sample Output 1\n",
    "\n",
    "-1\n",
    "Explanation 1\n",
    "\n",
    "There is no way to buy one keyboard and one USB drive because , so we print .\n"
   ]
  },
  {
   "cell_type": "code",
   "execution_count": 5,
   "metadata": {},
   "outputs": [
    {
     "name": "stdout",
     "output_type": "stream",
     "text": [
      "5 1 1 \n",
      "4\n",
      "5\n",
      "-1\n"
     ]
    }
   ],
   "source": [
    "import os\n",
    "import sys\n",
    "\n",
    "#\n",
    "# Complete the getMoneySpent function below.\n",
    "#\n",
    "def getMoneySpent(keyboards, drives, b):\n",
    "    val = []\n",
    "    for i in keyboards:\n",
    "        for j in drives:\n",
    "            if i + j <= b:\n",
    "                val.append(i+j)\n",
    "    if len(val) == 0:\n",
    "        return(-1)\n",
    "    else:\n",
    "        return(max(val))\n",
    "    \n",
    "\n",
    "if __name__ == '__main__':\n",
    "    #fptr = open(os.environ['OUTPUT_PATH'], 'w')\n",
    "\n",
    "    bnm = input().split()\n",
    "\n",
    "    b = int(bnm[0])\n",
    "\n",
    "    n = int(bnm[1])\n",
    "\n",
    "    m = int(bnm[2])\n",
    "\n",
    "    keyboards = list(map(int, input().rstrip().split()))\n",
    "\n",
    "    drives = list(map(int, input().rstrip().split()))\n",
    "\n",
    "    #\n",
    "    # The maximum amount of money she can spend on a keyboard and USB drive, or -1 if she can't purchase both items\n",
    "    #\n",
    "\n",
    "    moneySpent = getMoneySpent(keyboards, drives, b)\n",
    "    print(moneySpent)\n",
    "\n",
    "    #fptr.write(str(moneySpent) + '\\n')\n",
    "\n",
    "    #fptr.close()\n"
   ]
  },
  {
   "cell_type": "code",
   "execution_count": 8,
   "metadata": {},
   "outputs": [
    {
     "name": "stdout",
     "output_type": "stream",
     "text": [
      "5 1 1\n",
      "4\n",
      "5\n",
      "-1\n"
     ]
    }
   ],
   "source": [
    "import os\n",
    "import sys\n",
    "\n",
    "def getMoneySpent(keyboards, drives, b):\n",
    "    return max([sum([x,y]) for x in keyboards for y in drives if sum([x,y]) <= b]+[-1])\n",
    "\n",
    "if __name__ == '__main__':\n",
    "    #fptr = open(os.environ['OUTPUT_PATH'], 'w')\n",
    "\n",
    "    bnm = input().split()\n",
    "\n",
    "    b = int(bnm[0])\n",
    "\n",
    "    n = int(bnm[1])\n",
    "\n",
    "    m = int(bnm[2])\n",
    "\n",
    "    keyboards = list(map(int, input().rstrip().split()))\n",
    "\n",
    "    drives = list(map(int, input().rstrip().split()))\n",
    "\n",
    "    moneySpent = getMoneySpent(keyboards, drives, b)\n",
    "    print(moneySpent)\n",
    "\n",
    "    #fptr.write(str(moneySpent) + '\\n')\n",
    "\n",
    "    #fptr.close()"
   ]
  },
  {
   "cell_type": "code",
   "execution_count": null,
   "metadata": {},
   "outputs": [],
   "source": []
  }
 ],
 "metadata": {
  "kernelspec": {
   "display_name": "Python 3",
   "language": "python",
   "name": "python3"
  },
  "language_info": {
   "codemirror_mode": {
    "name": "ipython",
    "version": 3
   },
   "file_extension": ".py",
   "mimetype": "text/x-python",
   "name": "python",
   "nbconvert_exporter": "python",
   "pygments_lexer": "ipython3",
   "version": "3.6.5"
  }
 },
 "nbformat": 4,
 "nbformat_minor": 2
}
