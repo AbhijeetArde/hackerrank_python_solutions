{
 "cells": [
  {
   "cell_type": "markdown",
   "metadata": {},
   "source": [
    "# Library Fine\n",
    "\n"
   ]
  },
  {
   "cell_type": "markdown",
   "metadata": {},
   "source": [
    "Your local library needs your help! Given the expected and actual return dates for a library book, create a program that calculates the fine (if any). The fee structure is as follows:\n",
    "\n",
    "If the book is returned on or before the expected return date, no fine will be charged (i.e.: .\n",
    "If the book is returned after the expected return day but still within the same calendar month and year as the expected return date, .\n",
    "If the book is returned after the expected return month but still within the same calendar year as the expected return date, the .\n",
    "If the book is returned after the calendar year in which it was expected, there is a fixed fine of .\n",
    "Charges are based only on the least precise measure of lateness. For example, whether a book is due January 1, 2017 or December 31, 2017, if it is returned January 1, 2018, that is a year late and the fine would be .\n",
    "\n",
    "Function Description\n",
    "\n",
    "Complete the libraryFine function in the editor below. It must return an integer representing the fine due.\n",
    "\n",
    "libraryFine has the following parameter(s):\n",
    "\n",
    "d1, m1, y1: returned date day, month and year\n",
    "d2, m2, y2: due date day, month and year\n",
    "Input Format\n",
    "\n",
    "The first line contains  space-separated integers, , denoting the respective , , and  on which the book was returned. \n",
    "The second line contains  space-separated integers, , denoting the respective , , and  on which the book was due to be returned.\n",
    "\n",
    "Constraints\n",
    "\n",
    "Output Format\n",
    "\n",
    "Print a single integer denoting the library fine for the book received as input.\n",
    "\n",
    "Sample Input\n",
    "\n",
    "9 6 2015\n",
    "6 6 2015\n",
    "Sample Output\n",
    "\n",
    "45\n",
    "Explanation\n",
    "\n",
    "Given the following dates: \n",
    "Returned:  \n",
    "Due: \n",
    "\n",
    "Because , we know it is less than a year late. \n",
    "Because , we know it's less than a month late. \n",
    "Because , we know that it was returned late (but still within the same month and year).\n",
    "\n",
    "Per the library's fee structure, we know that our fine will be . We then print the result of  as our output."
   ]
  },
  {
   "cell_type": "code",
   "execution_count": 5,
   "metadata": {},
   "outputs": [
    {
     "name": "stdout",
     "output_type": "stream",
     "text": [
      "9 6 2015\n",
      "6 6 2015\n",
      "45\n"
     ]
    }
   ],
   "source": [
    "import math\n",
    "import os\n",
    "import random\n",
    "import re\n",
    "import sys\n",
    "\n",
    "# Complete the libraryFine function below.\n",
    "def libraryFine(d1, m1, y1, d2, m2, y2):\n",
    "    fine = 0\n",
    "    if y1 < y2:\n",
    "        fine = 0\n",
    "    elif y1 == y2:\n",
    "        if m1 > m2:\n",
    "            fine = (m1 - m2) * 500\n",
    "        elif m1 == m2:\n",
    "            if d1 > d2:\n",
    "                fine = (d1 - d2) * 15\n",
    "            else:\n",
    "                fine = 0\n",
    "        else:\n",
    "            fine = 0  \n",
    "    else:\n",
    "        fine = 10000\n",
    "    print(fine)\n",
    "    \n",
    "if __name__ == '__main__':\n",
    "    #fptr = open(os.environ['OUTPUT_PATH'], 'w')\n",
    "\n",
    "    d1M1Y1 = input().split()\n",
    "\n",
    "    d1 = int(d1M1Y1[0])\n",
    "\n",
    "    m1 = int(d1M1Y1[1])\n",
    "\n",
    "    y1 = int(d1M1Y1[2])\n",
    "\n",
    "    d2M2Y2 = input().split()\n",
    "\n",
    "    d2 = int(d2M2Y2[0])\n",
    "\n",
    "    m2 = int(d2M2Y2[1])\n",
    "\n",
    "    y2 = int(d2M2Y2[2])\n",
    "\n",
    "    result = libraryFine(d1, m1, y1, d2, m2, y2)\n",
    "\n",
    "    #fptr.write(str(result) + '\\n')\n",
    "\n",
    "    #fptr.close()"
   ]
  },
  {
   "cell_type": "code",
   "execution_count": null,
   "metadata": {},
   "outputs": [],
   "source": []
  }
 ],
 "metadata": {
  "kernelspec": {
   "display_name": "Python 3",
   "language": "python",
   "name": "python3"
  },
  "language_info": {
   "codemirror_mode": {
    "name": "ipython",
    "version": 3
   },
   "file_extension": ".py",
   "mimetype": "text/x-python",
   "name": "python",
   "nbconvert_exporter": "python",
   "pygments_lexer": "ipython3",
   "version": "3.6.5"
  }
 },
 "nbformat": 4,
 "nbformat_minor": 2
}
