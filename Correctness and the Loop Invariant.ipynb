{
 "cells": [
  {
   "cell_type": "markdown",
   "metadata": {},
   "source": [
    "# Correctness and the Loop Invariant"
   ]
  },
  {
   "cell_type": "markdown",
   "metadata": {},
   "source": [
    "In the previous challenge, you wrote code to perform an Insertion Sort on an unsorted array. But how would you prove that the code is correct? I.e. how do you show that for any input your code will provide the right output?\n",
    "\n",
    "Loop Invariant\n",
    "In computer science, you could prove it formally with a loop invariant, where you state that a desired property is maintained in your loop. Such a proof is broken down into the following parts:\n",
    "\n",
    "Initialization: It is true (in a limited sense) before the loop runs.\n",
    "Maintenance: If it's true before an iteration of a loop, it remains true before the next iteration.\n",
    "Termination: It will terminate in a useful way once it is finished.\n",
    "Insertion Sort's Invariant\n",
    "Say, you have some InsertionSort code, where the outer loop goes through the whole array :\n",
    "\n",
    "for(int i = 1; i < A.length; i++){\n",
    "//insertion sort code\n",
    "You could then state the following loop invariant:\n",
    "\n",
    "At the start of every iteration of the outer loop (indexed with ), the subarray until  consists of the original elements that were there, but in sorted order.\n",
    "\n",
    "To prove Insertion Sort is correct, you will then demonstrate it for the three stages:\n",
    "\n",
    "Initialization - The subarray starts with the first element of the array, and it is (obviously) sorted to begin with.\n",
    "\n",
    "Maintenance - Each iteration of the loop expands the subarray, but keeps the sorted property. An element  gets inserted into the array only when it is greater than the element to its left. Since the elements to its left have already been sorted, it means  is greater than all the elements to its left, so the array remains sorted. (In Insertion Sort 2 we saw this by printing the array each time an element was properly inserted.)\n",
    "\n",
    "Termination - The code will terminate after  has reached the last element in the array, which means the sorted subarray has expanded to encompass the entire array. The array is now fully sorted.\n",
    "\n",
    "Loop Invariant Chart\n",
    "\n",
    "You can often use a similar process to demonstrate the correctness of many algorithms. You can see these notes for more information.\n",
    "\n",
    "Challenge\n",
    "\n",
    "In the InsertionSort code below, there is an error. Can you fix it? Print the array only once, when it is fully sorted.\n",
    "\n",
    "Input Format\n",
    "\n",
    "There will be two lines of input:\n",
    "\n",
    " - the size of the array\n",
    " - the list of numbers that makes up the array\n",
    "Constraints\n",
    "\n",
    "\n",
    "\n",
    "Output Format\n",
    "\n",
    "Output the numbers in order, space-separated on one line.\n",
    "\n",
    "Sample Input\n",
    "\n",
    "6\n",
    "7 4 3 5 6 2\n",
    "Sample Output\n",
    "\n",
    "2 3 4 5 6 7\n",
    "Explanation\n",
    "\n",
    "The corrected code returns the sorted array."
   ]
  },
  {
   "cell_type": "code",
   "execution_count": 9,
   "metadata": {
    "scrolled": false
   },
   "outputs": [
    {
     "name": "stdout",
     "output_type": "stream",
     "text": [
      "6\n",
      "7 6 5 4 3 2 \n",
      "2 3 4 5 6 7\n"
     ]
    }
   ],
   "source": [
    "def insertion_sort(l):\n",
    "    for i in range(1, len(l)):\n",
    "        j = i-1\n",
    "        key = l[i]\n",
    "        while (j >= 0) and (l[j] > key):\n",
    "           l[j+1] = l[j]\n",
    "           j -= 1\n",
    "        l[j+1] = key\n",
    "    return l\n",
    "\n",
    "m = int(input().strip())\n",
    "ar = [int(i) for i in input().strip().split()]\n",
    "insertion_sort(ar)\n",
    "print(\" \".join(map(str,ar)))"
   ]
  },
  {
   "cell_type": "code",
   "execution_count": null,
   "metadata": {},
   "outputs": [],
   "source": []
  }
 ],
 "metadata": {
  "kernelspec": {
   "display_name": "Python 3",
   "language": "python",
   "name": "python3"
  },
  "language_info": {
   "codemirror_mode": {
    "name": "ipython",
    "version": 3
   },
   "file_extension": ".py",
   "mimetype": "text/x-python",
   "name": "python",
   "nbconvert_exporter": "python",
   "pygments_lexer": "ipython3",
   "version": "3.6.5"
  }
 },
 "nbformat": 4,
 "nbformat_minor": 2
}
