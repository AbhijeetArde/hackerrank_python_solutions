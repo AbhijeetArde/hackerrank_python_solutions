{
 "cells": [
  {
   "cell_type": "markdown",
   "metadata": {},
   "source": [
    "# Between Two Sets"
   ]
  },
  {
   "cell_type": "markdown",
   "metadata": {},
   "source": [
    "You will be given two arrays of integers and asked to determine all integers that satisfy the following two conditions:\n",
    "\n",
    "The elements of the first array are all factors of the integer being considered\n",
    "The integer being considered is a factor of all elements of the second array\n",
    "These numbers are referred to as being between the two arrays. You must determine how many such numbers exist.\n",
    "\n",
    "For example, given the arrays  and , there are two numbers between them:  and . , ,  and  for the first value. Similarly, ,  and , .\n",
    "\n",
    "Function Description\n",
    "\n",
    "Complete the getTotalX function in the editor below. It should return the number of integers that are betwen the sets.\n",
    "\n",
    "getTotalX has the following parameter(s):\n",
    "\n",
    "a: an array of integers\n",
    "b: an array of integers\n",
    "Input Format\n",
    "\n",
    "The first line contains two space-separated integers,  and , the number of elements in array  and the number of elements in array . \n",
    "The second line contains  distinct space-separated integers describing  where . \n",
    "The third line contains  distinct space-separated integers describing  where .\n",
    "\n",
    "Constraints\n",
    "\n",
    "Output Format\n",
    "\n",
    "Print the number of integers that are considered to be between  and .\n",
    "\n",
    "Sample Input\n",
    "\n",
    "2 3\n",
    "2 4\n",
    "16 32 96\n",
    "Sample Output\n",
    "\n",
    "3\n",
    "Explanation\n",
    "\n",
    "2 and 4 divide evenly into 4, 8, 12 and 16. \n",
    "4, 8 and 16 divide evenly into 16, 32, 96.\n",
    "\n",
    "4, 8 and 16 are the only three numbers for which each element of a is a factor and each is a factor of all elements of b."
   ]
  },
  {
   "cell_type": "markdown",
   "metadata": {},
   "source": [
    "– x is divisible by all numbers of A if and only if it is divisible by their least common multiple. Denote it as l.\n",
    "– All numbers of B are divisible by x if and only if the greatest common divisor of all numbers of B is divisible by B. Denote it as r.\n",
    "– Now we have to find the number of x such that r is divisible by x and x is divisible by l. If r is not divisible by l, no such x exists. Otherwise, we can divide r, x, and l by l. Now it’s just the number of divisors of (r/l) which can be found in Sqrt(c) time or even faster, where C is the maximum number of the sets.\n",
    "\n",
    "In this solution, one needs to carefully calculate l as this number could be huge. If l becomes more than C, then we need to stop calculating and say that our answer is zero."
   ]
  },
  {
   "cell_type": "code",
   "execution_count": 4,
   "metadata": {},
   "outputs": [
    {
     "name": "stdout",
     "output_type": "stream",
     "text": [
      "2 3\n",
      "2 4\n",
      "16 32 96\n"
     ]
    },
    {
     "name": "stderr",
     "output_type": "stream",
     "text": [
      "C:\\Users\\hp\\Anaconda3\\lib\\site-packages\\ipykernel_launcher.py:13: DeprecationWarning: fractions.gcd() is deprecated. Use math.gcd() instead.\n",
      "  del sys.path[0]\n",
      "C:\\Users\\hp\\Anaconda3\\lib\\site-packages\\ipykernel_launcher.py:16: DeprecationWarning: fractions.gcd() is deprecated. Use math.gcd() instead.\n",
      "  app.launch_new_instance()\n"
     ]
    },
    {
     "ename": "TypeError",
     "evalue": "'float' object cannot be interpreted as an integer",
     "output_type": "error",
     "traceback": [
      "\u001b[1;31m---------------------------------------------------------------------------\u001b[0m",
      "\u001b[1;31mTypeError\u001b[0m                                 Traceback (most recent call last)",
      "\u001b[1;32m<ipython-input-4-5aa6fe11ae68>\u001b[0m in \u001b[0;36m<module>\u001b[1;34m()\u001b[0m\n\u001b[0;32m     34\u001b[0m     \u001b[0mb\u001b[0m \u001b[1;33m=\u001b[0m \u001b[0mlist\u001b[0m\u001b[1;33m(\u001b[0m\u001b[0mmap\u001b[0m\u001b[1;33m(\u001b[0m\u001b[0mint\u001b[0m\u001b[1;33m,\u001b[0m \u001b[0minput\u001b[0m\u001b[1;33m(\u001b[0m\u001b[1;33m)\u001b[0m\u001b[1;33m.\u001b[0m\u001b[0mrstrip\u001b[0m\u001b[1;33m(\u001b[0m\u001b[1;33m)\u001b[0m\u001b[1;33m.\u001b[0m\u001b[0msplit\u001b[0m\u001b[1;33m(\u001b[0m\u001b[1;33m)\u001b[0m\u001b[1;33m)\u001b[0m\u001b[1;33m)\u001b[0m\u001b[1;33m\u001b[0m\u001b[0m\n\u001b[0;32m     35\u001b[0m \u001b[1;33m\u001b[0m\u001b[0m\n\u001b[1;32m---> 36\u001b[1;33m     \u001b[0mtotal\u001b[0m \u001b[1;33m=\u001b[0m \u001b[0mgetTotalX\u001b[0m\u001b[1;33m(\u001b[0m\u001b[0ma\u001b[0m\u001b[1;33m,\u001b[0m \u001b[0mb\u001b[0m\u001b[1;33m)\u001b[0m\u001b[1;33m\u001b[0m\u001b[0m\n\u001b[0m\u001b[0;32m     37\u001b[0m     \u001b[0mprint\u001b[0m\u001b[1;33m(\u001b[0m\u001b[0mtotal\u001b[0m\u001b[1;33m)\u001b[0m\u001b[1;33m\u001b[0m\u001b[0m\n\u001b[0;32m     38\u001b[0m \u001b[1;33m\u001b[0m\u001b[0m\n",
      "\u001b[1;32m<ipython-input-4-5aa6fe11ae68>\u001b[0m in \u001b[0;36mgetTotalX\u001b[1;34m(a, b)\u001b[0m\n\u001b[0;32m     16\u001b[0m             \u001b[0mgcd_num\u001b[0m \u001b[1;33m=\u001b[0m \u001b[0mgcd\u001b[0m\u001b[1;33m(\u001b[0m\u001b[0mgcd_num\u001b[0m\u001b[1;33m,\u001b[0m\u001b[0mb\u001b[0m\u001b[1;33m[\u001b[0m\u001b[0mx\u001b[0m\u001b[1;33m]\u001b[0m\u001b[1;33m)\u001b[0m\u001b[1;33m\u001b[0m\u001b[0m\n\u001b[0;32m     17\u001b[0m     \u001b[0mcount\u001b[0m \u001b[1;33m=\u001b[0m \u001b[1;36m0\u001b[0m\u001b[1;33m\u001b[0m\u001b[0m\n\u001b[1;32m---> 18\u001b[1;33m     \u001b[1;32mfor\u001b[0m \u001b[0mx\u001b[0m \u001b[1;32min\u001b[0m \u001b[0mrange\u001b[0m\u001b[1;33m(\u001b[0m\u001b[0mlcm_num\u001b[0m\u001b[1;33m,\u001b[0m \u001b[0mgcd_num\u001b[0m\u001b[1;33m+\u001b[0m\u001b[1;36m1\u001b[0m\u001b[1;33m,\u001b[0m \u001b[0mlcm_num\u001b[0m\u001b[1;33m)\u001b[0m\u001b[1;33m:\u001b[0m\u001b[1;33m\u001b[0m\u001b[0m\n\u001b[0m\u001b[0;32m     19\u001b[0m         \u001b[1;32mif\u001b[0m \u001b[0mgcd\u001b[0m\u001b[1;33m(\u001b[0m\u001b[0mx\u001b[0m\u001b[1;33m,\u001b[0m \u001b[0mgcd_num\u001b[0m\u001b[1;33m)\u001b[0m \u001b[1;33m==\u001b[0m \u001b[0mx\u001b[0m\u001b[1;33m:\u001b[0m\u001b[1;33m\u001b[0m\u001b[0m\n\u001b[0;32m     20\u001b[0m             \u001b[0mcount\u001b[0m \u001b[1;33m+=\u001b[0m \u001b[1;36m1\u001b[0m\u001b[1;33m\u001b[0m\u001b[0m\n",
      "\u001b[1;31mTypeError\u001b[0m: 'float' object cannot be interpreted as an integer"
     ]
    }
   ],
   "source": [
    "import os\n",
    "import sys\n",
    "from fractions import gcd\n",
    "\n",
    "#\n",
    "# Complete the getTotalX function below.\n",
    "#\n",
    "def getTotalX(a, b):\n",
    "    lcm_num = a[0]\n",
    "    gcd_num = b[0]\n",
    "    if len(a) > 1:\n",
    "        for x in range(1,len(a)):\n",
    "            lcm_num =  (lcm_num * a[x])/gcd(lcm_num,a[x])\n",
    "    if len(b) > 1:\n",
    "        for x in range(1,len(b)):\n",
    "            gcd_num = gcd(gcd_num,b[x])\n",
    "    count = 0\n",
    "    for x in range(lcm_num, gcd_num+1, lcm_num):\n",
    "        if gcd(x, gcd_num) == x:\n",
    "            count += 1\n",
    "    return count\n",
    "\n",
    "if __name__ == '__main__':\n",
    "    #f = open(os.environ['OUTPUT_PATH'], 'w')\n",
    "\n",
    "    nm = input().split()\n",
    "\n",
    "    n = int(nm[0])\n",
    "\n",
    "    m = int(nm[1])\n",
    "\n",
    "    a = list(map(int, input().rstrip().split()))\n",
    "\n",
    "    b = list(map(int, input().rstrip().split()))\n",
    "\n",
    "    total = getTotalX(a, b)\n",
    "    print(total)\n",
    "\n",
    "    #f.write(str(total) + '\\n')\n",
    "\n",
    "    #f.close()\n"
   ]
  },
  {
   "cell_type": "code",
   "execution_count": null,
   "metadata": {},
   "outputs": [],
   "source": [
    "import os\n",
    "import sys\n",
    "from fractions import gcd\n",
    "from functools import reduce\n",
    "#\n",
    "# Complete the getTotalX function below.\n",
    "#\n",
    "def getTotalX(a, b):\n",
    "    min_gcd = reduce(gcd, b)\n",
    "    max_lcm = reduce(lcm, a)\n",
    "    count = sum([1 for x in range(max_lcm, min_gcd+1, max_lcm) if min_gcd % x == 0])\n",
    "    return count\n",
    "    \n",
    "def gcd(a, b):\n",
    "    while a % b != 0:\n",
    "        a, b = b, (a % b)\n",
    "    return b\n",
    "\n",
    "def lcm(a, b):\n",
    "    return a * b // gcd(a, b)\n",
    "\n",
    "if __name__ == '__main__':\n",
    "    f = open(os.environ['OUTPUT_PATH'], 'w')\n",
    "\n",
    "    nm = input().split()\n",
    "\n",
    "    n = int(nm[0])\n",
    "\n",
    "    m = int(nm[1])\n",
    "\n",
    "    a = list(map(int, input().rstrip().split()))\n",
    "\n",
    "    b = list(map(int, input().rstrip().split()))\n",
    "\n",
    "    total = getTotalX(a, b)\n",
    "    print(total)\n",
    "    f.write(str(total) + '\\n')\n",
    "\n",
    "    f.close()\n"
   ]
  }
 ],
 "metadata": {
  "kernelspec": {
   "display_name": "Python 3",
   "language": "python",
   "name": "python3"
  },
  "language_info": {
   "codemirror_mode": {
    "name": "ipython",
    "version": 3
   },
   "file_extension": ".py",
   "mimetype": "text/x-python",
   "name": "python",
   "nbconvert_exporter": "python",
   "pygments_lexer": "ipython3",
   "version": "3.6.5"
  }
 },
 "nbformat": 4,
 "nbformat_minor": 2
}
