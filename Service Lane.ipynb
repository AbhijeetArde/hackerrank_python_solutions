{
 "cells": [
  {
   "cell_type": "markdown",
   "metadata": {},
   "source": [
    "# Service Lane\n",
    "\n"
   ]
  },
  {
   "cell_type": "markdown",
   "metadata": {},
   "source": [
    "Calvin is driving his favorite vehicle on the 101 freeway. He notices that the check engine light of his vehicle is on, and he wants to service it immediately to avoid any risks. Luckily, a service lane runs parallel to the highway. The service lane varies in width along its length.\n",
    "\n",
    "Paradise Highway\n",
    "\n",
    "You will be given an array of widths at points along the road (indices), then a list of the indices of entry and exit points. Considering each entry and exit point pair, calculate the maximum size vehicle that can travel that segment of the service lane safely.\n",
    "\n",
    "For example, there are  measurements yielding . If our entry index,  and our exit, , there are two segment widths of  and  respectively. The widest vehicle that can fit through both is . If  and , our widths are  which limits vehicle width to .\n",
    "\n",
    "Function Description\n",
    "\n",
    "Complete the serviceLane function in the editor below. It should return an array of integers representing the maximum width vehicle that can pass through each segment of the highway described.\n",
    "\n",
    "serviceLane has the following parameter(s):\n",
    "\n",
    "n: an integer denoting the size of the  array\n",
    "cases: a two dimensional array of integers where each element is an array of two integers representing starting and ending indices for a segment to consider .\n",
    "Input Format\n",
    "\n",
    "The first line of input contains two integers,  and , where  denotes the number of width measurements you will receive and  the number of test cases. The next line has  space-separated integers which represent the array .\n",
    "\n",
    "The next  lines contain two integers,  and , where  is the start index and  is the end index of the segment being considered.\n",
    "\n",
    "Constraints\n",
    "\n",
    "Output Format\n",
    "\n",
    "For each test case, print the number that represents the largest vehicle type that can pass through the entire segment of the service lane between indexes  and  inclusive.\n",
    "\n",
    "Sample Input\n",
    "\n",
    "8 5\n",
    "2 3 1 2 3 2 3 3\n",
    "0 3\n",
    "4 6\n",
    "6 7\n",
    "3 5\n",
    "0 7\n",
    "Sample Output\n",
    "\n",
    "1\n",
    "2\n",
    "3\n",
    "2\n",
    "1\n",
    "Explanation\n",
    "\n",
    "Below is the representation of the lane:\n",
    "\n",
    "   |HIGHWAY|Lane|    ->    Width\n",
    "\n",
    "0: |       |--|            2\n",
    "1: |       |---|           3\n",
    "2: |       |-|             1\n",
    "3: |       |--|            2\n",
    "4: |       |---|           3\n",
    "5: |       |--|            2\n",
    "6: |       |---|           3\n",
    "7: |       |---|           3\n",
    ": From index  through  we have widths  and . Nothing wider than  can pass all segments.\n",
    ": From index  through  we have widht  and . Nothing wider than  can pass all segments.\n",
    ":  .\n",
    ": \n",
    ": ."
   ]
  },
  {
   "cell_type": "code",
   "execution_count": 6,
   "metadata": {},
   "outputs": [
    {
     "name": "stdout",
     "output_type": "stream",
     "text": [
      "8 5\n",
      "2 3 1 2 3 2 3 3\n",
      "0 3\n",
      "4 6\n",
      "6 7\n",
      "3 5\n",
      "0 7\n",
      "1\n",
      "2\n",
      "3\n",
      "2\n",
      "1\n"
     ]
    }
   ],
   "source": [
    "import math\n",
    "import os\n",
    "import random\n",
    "import re\n",
    "import sys\n",
    "\n",
    "# Complete the serviceLane function below.\n",
    "def serviceLane(n, cases):\n",
    "    for i in cases:\n",
    "        print(min(width[i[0]:i[1]+1]))\n",
    "\n",
    "if __name__ == '__main__':\n",
    "    #fptr = open(os.environ['OUTPUT_PATH'], 'w')\n",
    "\n",
    "    nt = input().split()\n",
    "\n",
    "    n = int(nt[0])\n",
    "\n",
    "    t = int(nt[1])\n",
    "\n",
    "    width = list(map(int, input().rstrip().split()))\n",
    "\n",
    "    cases = []\n",
    "\n",
    "    for _ in range(t):\n",
    "        cases.append(list(map(int, input().rstrip().split())))\n",
    "\n",
    "    result = serviceLane(n, cases)\n",
    "\n",
    "    #fptr.write('\\n'.join(map(str, result)))\n",
    "    #fptr.write('\\n')\n",
    "\n",
    "    #fptr.close()"
   ]
  },
  {
   "cell_type": "code",
   "execution_count": null,
   "metadata": {},
   "outputs": [],
   "source": []
  }
 ],
 "metadata": {
  "kernelspec": {
   "display_name": "Python 3",
   "language": "python",
   "name": "python3"
  },
  "language_info": {
   "codemirror_mode": {
    "name": "ipython",
    "version": 3
   },
   "file_extension": ".py",
   "mimetype": "text/x-python",
   "name": "python",
   "nbconvert_exporter": "python",
   "pygments_lexer": "ipython3",
   "version": "3.6.5"
  }
 },
 "nbformat": 4,
 "nbformat_minor": 2
}
