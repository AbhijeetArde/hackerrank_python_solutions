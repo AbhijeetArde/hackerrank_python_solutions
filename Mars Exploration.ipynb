{
 "cells": [
  {
   "cell_type": "markdown",
   "metadata": {},
   "source": [
    "# Mars Exploration"
   ]
  },
  {
   "cell_type": "markdown",
   "metadata": {},
   "source": [
    "ami's spaceship crashed on Mars! She sends a series of SOS messages to Earth for help.\n",
    "\n",
    "NASA_Mars_Rover.jpg\n",
    "\n",
    "Letters in some of the SOS messages are altered by cosmic radiation during transmission. Given the signal received by Earth as a string, , determine how many letters of Sami's SOS have been changed by radiation.\n",
    "\n",
    "For example, Earth receives SOSTOT. Sami's original message was SOSSOS. Two of the message characters were changed in transit.\n",
    "\n",
    "Function Description\n",
    "\n",
    "Complete the marsExploration function in the editor below. It should return an integer representing the number of letters changed during transmission.\n",
    "\n",
    "marsExploration has the following parameter(s):\n",
    "\n",
    "s: the string as received on Earth\n",
    "Input Format\n",
    "\n",
    "There is one line of input: a single string, .\n",
    "\n",
    "Note: As the original message is just SOS repeated  times, 's length will be a multiple of .\n",
    "\n",
    "Constraints\n",
    "\n",
    " will contain only uppercase English letters, ascii[A-Z].\n",
    "Output Format\n",
    "\n",
    "Print the number of letters in Sami's message that were altered by cosmic radiation.\n",
    "\n",
    "Sample Input 0\n",
    "\n",
    "SOSSPSSQSSOR\n",
    "Sample Output 0\n",
    "\n",
    "3\n",
    "Explanation 0\n",
    "\n",
    " = SOSSPSSQSSOR, and signal length . Sami sent  SOS messages (i.e.: ).\n",
    "\n",
    "Expected signal: SOSSOSSOSSOS\n",
    "Recieved signal: SOSSPSSQSSOR\n",
    "Difference:          X  X   X\n",
    "We print the number of changed letters.\n",
    "\n",
    "Sample Input 1\n",
    "\n",
    "SOSSOT\n",
    "Sample Output 1\n",
    "\n",
    "1\n",
    "Explanation 1\n",
    "\n",
    " = SOSSOT, and signal length . Sami sent  SOS messages (i.e.: ).\n",
    "\n",
    "Expected Signal: SOSSOS     \n",
    "Received Signal: SOSSOT\n",
    "Difference:           X\n",
    "We print the number of changed letters, which is .\n",
    "\n",
    "Sample Input 2\n",
    "\n",
    "SOSSOSSOS\n",
    "Sample Output 2\n",
    "\n",
    "0\n",
    "Explanation 2\n",
    "\n",
    "Since no character is altered, we print 0"
   ]
  },
  {
   "cell_type": "code",
   "execution_count": 7,
   "metadata": {},
   "outputs": [
    {
     "name": "stdout",
     "output_type": "stream",
     "text": [
      "SOSSOSSOS\n",
      "9\n",
      "3\n",
      "SOSSOSSOS\n",
      "0\n"
     ]
    }
   ],
   "source": [
    "import math\n",
    "import os\n",
    "import random\n",
    "import re\n",
    "import sys\n",
    "\n",
    "# Complete the marsExploration function below.\n",
    "def marsExploration(s):\n",
    "    str_len = len(s)\n",
    "    tot_sos = int(abs(str_len / 3))\n",
    "    org_msg = 'SOS'*tot_sos\n",
    "    cnt = 0\n",
    "    for i in range(str_len):\n",
    "        if s[i] != org_msg[i]:\n",
    "            cnt+=1\n",
    "    print(cnt)\n",
    "\n",
    "if __name__ == '__main__':\n",
    "    #fptr = open(os.environ['OUTPUT_PATH'], 'w')\n",
    "\n",
    "    s = input()\n",
    "\n",
    "    result = marsExploration(s)\n",
    "\n",
    "    #fptr.write(str(result) + '\\n')\n",
    "\n",
    "    #fptr.close()"
   ]
  },
  {
   "cell_type": "code",
   "execution_count": null,
   "metadata": {},
   "outputs": [],
   "source": []
  }
 ],
 "metadata": {
  "kernelspec": {
   "display_name": "Python 3",
   "language": "python",
   "name": "python3"
  },
  "language_info": {
   "codemirror_mode": {
    "name": "ipython",
    "version": 3
   },
   "file_extension": ".py",
   "mimetype": "text/x-python",
   "name": "python",
   "nbconvert_exporter": "python",
   "pygments_lexer": "ipython3",
   "version": "3.6.5"
  }
 },
 "nbformat": 4,
 "nbformat_minor": 2
}
