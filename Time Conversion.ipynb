{
 "cells": [
  {
   "cell_type": "markdown",
   "metadata": {},
   "source": [
    "# Time Conversion\n",
    "\n"
   ]
  },
  {
   "cell_type": "markdown",
   "metadata": {},
   "source": [
    "Given a time in -hour AM/PM format, convert it to military (24-hour) time.\n",
    "\n",
    "Note: Midnight is 12:00:00AM on a 12-hour clock, and 00:00:00 on a 24-hour clock. Noon is 12:00:00PM on a 12-hour clock, and 12:00:00 on a 24-hour clock.\n",
    "\n",
    "Function Description\n",
    "\n",
    "Complete the timeConversion function in the editor below. It should return a new string representing the input time in 24 hour format.\n",
    "\n",
    "timeConversion has the following parameter(s):\n",
    "\n",
    "s: a string representing time in  hour format\n",
    "Input Format\n",
    "\n",
    "A single string  containing a time in -hour clock format (i.e.:  or ), where  and .\n",
    "\n",
    "Constraints\n",
    "\n",
    "All input times are valid\n",
    "Output Format\n",
    "\n",
    "Convert and print the given time in -hour format, where .\n",
    "\n",
    "Sample Input 0\n",
    "\n",
    "07:05:45PM\n",
    "Sample Output 0\n",
    "\n",
    "19:05:45"
   ]
  },
  {
   "cell_type": "code",
   "execution_count": 8,
   "metadata": {},
   "outputs": [
    {
     "name": "stdout",
     "output_type": "stream",
     "text": [
      "07:05:45PM\n",
      "19:05:45\n"
     ]
    }
   ],
   "source": [
    "import os\n",
    "import sys\n",
    "\n",
    "def timeConversion(str1):\n",
    "    #Checking if last two elements of time \n",
    "    # is AM and first two elements are 12 \n",
    "    if str1[-2:] == \"AM\" and str1[:2] == \"12\": \n",
    "        return \"00\" + str1[2:-2]\n",
    "          \n",
    "    # remove the AM     \n",
    "    elif str1[-2:] == \"AM\": \n",
    "        return str1[:-2] \n",
    "      \n",
    "    # Checking if last two elements of time \n",
    "    # is PM and first two elements are 12    \n",
    "    elif str1[-2:] == \"PM\" and str1[:2] == \"12\": \n",
    "        return str1[:-2] \n",
    "          \n",
    "    else: \n",
    "          \n",
    "        # add 12 to hours and remove PM \n",
    "        return str(int(str1[:2]) + 12) + str1[2:8]\n",
    "\n",
    "if __name__ == '__main__':\n",
    "    s = input()\n",
    "    result = timeConversion(s)\n",
    "    print(result)"
   ]
  },
  {
   "cell_type": "code",
   "execution_count": null,
   "metadata": {},
   "outputs": [],
   "source": []
  }
 ],
 "metadata": {
  "kernelspec": {
   "display_name": "Python 3",
   "language": "python",
   "name": "python3"
  },
  "language_info": {
   "codemirror_mode": {
    "name": "ipython",
    "version": 3
   },
   "file_extension": ".py",
   "mimetype": "text/x-python",
   "name": "python",
   "nbconvert_exporter": "python",
   "pygments_lexer": "ipython3",
   "version": "3.6.5"
  }
 },
 "nbformat": 4,
 "nbformat_minor": 2
}
