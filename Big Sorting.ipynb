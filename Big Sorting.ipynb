{
 "cells": [
  {
   "cell_type": "markdown",
   "metadata": {},
   "source": [
    "# Big Sorting"
   ]
  },
  {
   "cell_type": "markdown",
   "metadata": {},
   "source": [
    "Consider an array of numeric strings where each string is a positive number with anywhere from  to  digits. Sort the array's elements in non-decreasing, or ascending order of their integer values and print each element of the sorted array on a new line.\n",
    "\n",
    "Function Description\n",
    "\n",
    "Complete the bigSorting function in the editor below. It should return the sorted string array.\n",
    "\n",
    "bigSorting has the following parameter(s):\n",
    "\n",
    "unsorted: an unsorted array of integers as strings\n",
    "Input Format\n",
    "\n",
    "The first line contains an integer, , denoting the number of strings in .\n",
    "Each of the  subsequent lines contains an integer string .\n",
    "\n",
    "Constraints\n",
    "\n",
    "Each string is guaranteed to represent a positive integer without leading zeros.\n",
    "The total number of digits across all strings in  is between  and  (inclusive).\n",
    "Output Format\n",
    "\n",
    "Print each element of the sorted array on a new line.\n",
    "\n",
    "Sample Input 0\n",
    "\n",
    "6\n",
    "31415926535897932384626433832795\n",
    "1\n",
    "3\n",
    "10\n",
    "3\n",
    "5\n",
    "Sample Output 0\n",
    "\n",
    "1\n",
    "3\n",
    "3\n",
    "5\n",
    "10\n",
    "31415926535897932384626433832795\n",
    "Explanation 0\n",
    "\n",
    "The initial array of strings is . When we order each string by the real-world integer value it represents, we get:\n",
    "\n",
    "We then print each value on a new line, from smallest to largest.\n",
    "\n",
    "Sample Input 1\n",
    "\n",
    "8\n",
    "1\n",
    "2\n",
    "100\n",
    "12303479849857341718340192371\n",
    "3084193741082937\n",
    "3084193741082938\n",
    "111\n",
    "200\n",
    "Sample Output 1\n",
    "\n",
    "1\n",
    "2\n",
    "100\n",
    "111\n",
    "200\n",
    "3084193741082937\n",
    "3084193741082938\n",
    "12303479849857341718340192371"
   ]
  },
  {
   "cell_type": "code",
   "execution_count": 2,
   "metadata": {},
   "outputs": [
    {
     "name": "stdout",
     "output_type": "stream",
     "text": [
      "3\n",
      "1\n",
      "2\n",
      "3\n"
     ]
    }
   ],
   "source": [
    "import math\n",
    "import os\n",
    "import random\n",
    "import re\n",
    "import sys\n",
    "\n",
    "# Complete the bigSorting function below.\n",
    "def bigSorting(unsorted):\n",
    "    return sorted(unsorted, key=int)\n",
    "\n",
    "if __name__ == '__main__':\n",
    "    #fptr = open(os.environ['OUTPUT_PATH'], 'w')\n",
    "\n",
    "    n = int(input())\n",
    "\n",
    "    unsorted = []\n",
    "\n",
    "    for _ in range(n):\n",
    "        unsorted_item = input()\n",
    "        unsorted.append(unsorted_item)\n",
    "\n",
    "    result = bigSorting(unsorted)\n",
    "\n",
    "    #fptr.write('\\n'.join(result))\n",
    "    #fptr.write('\\n')\n",
    "\n",
    "    #fptr.close()"
   ]
  },
  {
   "cell_type": "code",
   "execution_count": null,
   "metadata": {},
   "outputs": [],
   "source": []
  }
 ],
 "metadata": {
  "kernelspec": {
   "display_name": "Python 3",
   "language": "python",
   "name": "python3"
  },
  "language_info": {
   "codemirror_mode": {
    "name": "ipython",
    "version": 3
   },
   "file_extension": ".py",
   "mimetype": "text/x-python",
   "name": "python",
   "nbconvert_exporter": "python",
   "pygments_lexer": "ipython3",
   "version": "3.6.5"
  }
 },
 "nbformat": 4,
 "nbformat_minor": 2
}
