{
 "cells": [
  {
   "cell_type": "markdown",
   "metadata": {},
   "source": [
    "# Migratory Birds"
   ]
  },
  {
   "cell_type": "markdown",
   "metadata": {},
   "source": [
    "You have been asked to help study the population of birds migrating across the continent. Each type of bird you are interested in will be identified by an integer value. Each time a particular kind of bird is spotted, its id number will be added to your array of sightings. You would like to be able to find out which type of bird is most common given a list of sightings. Your task is to print the type number of that bird and if two or more types of birds are equally common, choose the type with the smallest ID number.\n",
    "\n",
    "For example, assume your bird sightings are of types arr= [1,1,2,2,3]. There are two each of types 1 and 2, and one sighting of type 3. Pick the lower of the two types seen twice: type 1.\n",
    "\n",
    "Function Description\n",
    "\n",
    "Complete the migratoryBirds function in the editor below. It should return the lowest type number of the most frequently sighted bird.\n",
    "\n",
    "migratoryBirds has the following parameter(s):\n",
    "\n",
    "arr: an array of integers representing types of birds sighted\n",
    "Input Format\n",
    "\n",
    "The first line contains an integer denoting , the number of birds sighted and reported in the array . \n",
    "The second line describes  as  space-separated integers representing the type numbers of each bird sighted.\n",
    "\n",
    "Constraints\n",
    "\n",
    "It is guaranteed that each type is , , , , or .\n",
    "Output Format\n",
    "\n",
    "Print the type number of the most common bird; if two or more types of birds are equally common, choose the type with the smallest ID number.\n",
    "\n",
    "Sample Input 0\n",
    "\n",
    "6\n",
    "1 4 4 4 5 3\n",
    "Sample Output 0\n",
    "\n",
    "4\n",
    "Explanation 0\n",
    "\n",
    "The different types of birds occur in the following frequencies:\n",
    "\n",
    "Type :  bird\n",
    "Type :  birds\n",
    "Type :  bird\n",
    "Type :  birds\n",
    "Type :  bird\n",
    "The type number that occurs at the highest frequency is type , so we print  as our answer.\n",
    "\n",
    "Sample Input 1\n",
    "\n",
    "11\n",
    "1 2 3 4 5 4 3 2 1 3 4\n",
    "Sample Output 1\n",
    "\n",
    "3\n",
    "Explanation 1\n",
    "\n",
    "The different types of birds occur in the following frequencies:\n",
    "\n",
    "Type : \n",
    "Type : \n",
    "Type : \n",
    "Type : \n",
    "Type : \n",
    "Two types have a frequency of , and the lower of those is type ."
   ]
  },
  {
   "cell_type": "code",
   "execution_count": 13,
   "metadata": {},
   "outputs": [
    {
     "name": "stdout",
     "output_type": "stream",
     "text": [
      "6\n",
      "1 4 4 4 5 3\n",
      "4\n"
     ]
    }
   ],
   "source": [
    "import math\n",
    "import os\n",
    "import random\n",
    "import re\n",
    "import sys\n",
    "import numpy as np\n",
    "\n",
    "# Complete the migratoryBirds function below.\n",
    "def migratoryBirds(arr):\n",
    "    mydict = {}\n",
    "    for i in arr:\n",
    "        if i in mydict:\n",
    "            mydict[i] = mydict[i] + 1\n",
    "        else:\n",
    "            mydict[i] = 1\n",
    "    print(max(mydict.items(), key=operator.itemgetter(1))[0])\n",
    "    #print(list(mydict.keys())[list(mydict.values()).index(max(mydict.values()))])\n",
    "    #print(max(mydict.values()))\n",
    "\n",
    "if __name__ == '__main__':\n",
    "    #fptr = open(os.environ['OUTPUT_PATH'], 'w')\n",
    "\n",
    "    arr_count = int(input().strip())\n",
    "\n",
    "    arr = list(map(int, input().rstrip().split()))\n",
    "\n",
    "    result = migratoryBirds(arr)\n",
    "\n",
    "    #fptr.write(str(result) + '\\n')\n",
    "\n",
    "    #fptr.close()\n"
   ]
  },
  {
   "cell_type": "markdown",
   "metadata": {},
   "source": [
    "Simple Solution obtained from HackerRank Discussion:\n",
    "\n",
    "Solution uses List for achieving"
   ]
  },
  {
   "cell_type": "code",
   "execution_count": null,
   "metadata": {},
   "outputs": [],
   "source": [
    "def migratoryBirds(arr):\n",
    "    bird_freq = [0, 0, 0, 0, 0, 0]\n",
    "    for i in range(len(arr)):\n",
    "        bird_freq[arr[i]] += 1\n",
    "    return bird_freq.index(max(bird_freq))\n",
    "\n",
    "if __name__ == '__main__':\n",
    "    fptr = open(os.environ['OUTPUT_PATH'], 'w')\n",
    "\n",
    "    arr_count = int(input().strip())\n",
    "\n",
    "    arr = list(map(int, input().rstrip().split()))\n",
    "\n",
    "    result = migratoryBirds(arr)\n",
    "\n",
    "    fptr.write(str(result) + '\\n')\n",
    "\n",
    "    fptr.close()\n"
   ]
  }
 ],
 "metadata": {
  "kernelspec": {
   "display_name": "Python 3",
   "language": "python",
   "name": "python3"
  },
  "language_info": {
   "codemirror_mode": {
    "name": "ipython",
    "version": 3
   },
   "file_extension": ".py",
   "mimetype": "text/x-python",
   "name": "python",
   "nbconvert_exporter": "python",
   "pygments_lexer": "ipython3",
   "version": "3.6.5"
  }
 },
 "nbformat": 4,
 "nbformat_minor": 2
}
