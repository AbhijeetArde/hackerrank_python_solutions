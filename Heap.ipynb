{
 "cells": [
  {
   "cell_type": "markdown",
   "metadata": {},
   "source": [
    "# Heap Implementation in Python"
   ]
  },
  {
   "cell_type": "code",
   "execution_count": 3,
   "metadata": {},
   "outputs": [],
   "source": [
    "class MaxHeap:\n",
    "\tdef __init__(self, items=[]):\n",
    "\t\tsuper().__init__()\n",
    "\t\tself.heap = [0]\n",
    "\t\tfor i in items:\n",
    "\t\t\tself.heap.append(i)\n",
    "\t\t\tself.__floatUp(len(self.heap) - 1)\n",
    "\n",
    "\tdef push(self, data):\n",
    "\t\tself.heap.append(data)\n",
    "\t\tself.__floatUp(len(self.heap) - 1)\n",
    "\n",
    "\tdef peek(self):\n",
    "\t\tif self.heap[1]:\n",
    "\t\t\treturn self.heap[1]\n",
    "\t\telse:\n",
    "\t\t\treturn False\n",
    "\t\t\t\n",
    "\tdef pop(self):\n",
    "\t\tif len(self.heap) > 2:\n",
    "\t\t\tself.__swap(1, len(self.heap) - 1)\n",
    "\t\t\tmax = self.heap.pop()\n",
    "\t\t\tself.__bubbleDown(1)\n",
    "\t\telif len(self.heap) == 2:\n",
    "\t\t\tmax = self.heap.pop()\n",
    "\t\telse: \n",
    "\t\t\tmax = False\n",
    "\t\treturn max\n",
    "\n",
    "\tdef __swap(self, i, j):\n",
    "\t\tself.heap[i], self.heap[j] = self.heap[j], self.heap[i]\n",
    "\n",
    "\tdef __floatUp(self, index):\n",
    "\t\tparent = index//2\n",
    "\t\tif index <= 1:\n",
    "\t\t\treturn\n",
    "\t\telif self.heap[index] > self.heap[parent]:\n",
    "\t\t\tself.__swap(index, parent)\n",
    "\t\t\tself.__floatUp(parent)\n",
    "\n",
    "\tdef __bubbleDown(self, index):\n",
    "\t\tleft = index * 2\n",
    "\t\tright = index * 2 + 1\n",
    "\t\tlargest = index\n",
    "\t\tif len(self.heap) > left and self.heap[largest] < self.heap[left]:\n",
    "\t\t\tlargest = left\n",
    "\t\tif len(self.heap) > right and self.heap[largest] < self.heap[right]:\n",
    "\t\t\tlargest = right\n",
    "\t\tif largest != index:\n",
    "\t\t\tself.__swap(index, largest)\n",
    "\t\t\tself.__bubbleDown(largest)"
   ]
  },
  {
   "cell_type": "code",
   "execution_count": 4,
   "metadata": {},
   "outputs": [
    {
     "name": "stdout",
     "output_type": "stream",
     "text": [
      "[0, 95, 10, 21, 3]\n",
      "95\n"
     ]
    }
   ],
   "source": [
    "m = MaxHeap([95, 3, 21])\n",
    "m.push(10)\n",
    "print(str(m.heap[0:len(m.heap)]))\n",
    "print(str(m.pop()))"
   ]
  },
  {
   "cell_type": "code",
   "execution_count": null,
   "metadata": {},
   "outputs": [],
   "source": []
  }
 ],
 "metadata": {
  "kernelspec": {
   "display_name": "Python 3",
   "language": "python",
   "name": "python3"
  },
  "language_info": {
   "codemirror_mode": {
    "name": "ipython",
    "version": 3
   },
   "file_extension": ".py",
   "mimetype": "text/x-python",
   "name": "python",
   "nbconvert_exporter": "python",
   "pygments_lexer": "ipython3",
   "version": "3.6.5"
  }
 },
 "nbformat": 4,
 "nbformat_minor": 2
}
