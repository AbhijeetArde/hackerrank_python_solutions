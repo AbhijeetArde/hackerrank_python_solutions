{
 "cells": [
  {
   "cell_type": "markdown",
   "metadata": {},
   "source": [
    "# Bon Appétit"
   ]
  },
  {
   "cell_type": "markdown",
   "metadata": {},
   "source": [
    "Anna and Brian are sharing a meal at a restuarant and they agree to split the bill equally. Brian wants to order something that Anna is allergic to though, and they agree that Anna won't pay for that item. Brian gets the check and calculates Anna's portion. You must determine if his calculation is correct.\n",
    "\n",
    "or example, assume the bill has the following prices: bill = [2,4,6]. Anna declines to eat item  which costs . If Brian calculates the bill correctly, Anna will pay . If he includes the cost of , he will calculate . In the second case, he should refund  to Anna.\n",
    "\n",
    "unction Description\n",
    "\n",
    "Complete the bonAppetit function in the editor below. It should print Bon Appetit if the bill is fairly split. Otherwise, it should print the integer amount of money that Brian owes Anna.\n",
    "\n",
    "bonAppetit has the following parameter(s):\n",
    "\n",
    "bill: an array of integers representing the cost of each item ordered\n",
    "k: an integer representing the zero-based index of the item Anna doesn't eat\n",
    "b: the amount of money that Anna contributed to the bill\n",
    "Input Format\n",
    "\n",
    "The first line contains two space-separated integers  and , the number of items ordered and the -based index of the item that Anna did not eat. \n",
    "The second line contains  space-separated integers  where . \n",
    "The third line contains an integer, , the amount of money that Brian charged Anna for her share of the bill.\n",
    "\n",
    "Constraints\n",
    "\n",
    "The amount of money due Anna will always be an integer\n",
    "Output Format\n",
    "\n",
    "If Brian did not overcharge Anna, print Bon Appetit on a new line; otherwise, print the difference (i.e., ) that Brian must refund to Anna. This will always be an integer.\n",
    "\n",
    "Sample Input 0\n",
    "\n",
    "4 1\n",
    "3 10 2 9\n",
    "12\n",
    "Sample Output 0\n",
    "\n",
    "5\n",
    "Explanation 0 \n",
    "Anna didn't eat item , but she shared the rest of the items with Brian. The total cost of the shared items is  and, split in half, the cost per person is . Brian charged her  for her portion of the bill. We print the amount Anna was overcharged, , on a new line.\n",
    "\n",
    "Sample Input 1\n",
    "\n",
    "4 1\n",
    "3 10 2 9\n",
    "7\n",
    "Sample Output 1\n",
    "\n",
    "Bon Appetit\n",
    "Explanation 1 \n",
    "Anna didn't eat item , but she shared the rest of the items with Brian. The total cost of the shared items is  and, split in half, the cost per person is . Because , we print Bon Appetit on a new line."
   ]
  },
  {
   "cell_type": "code",
   "execution_count": 5,
   "metadata": {},
   "outputs": [
    {
     "name": "stdout",
     "output_type": "stream",
     "text": [
      "4 1\n",
      "3 10 2 9\n",
      "12\n",
      "[3, 10, 2, 9]\n",
      "1\n",
      "12\n",
      "5\n"
     ]
    }
   ],
   "source": [
    "import math\n",
    "import os\n",
    "import random\n",
    "import re\n",
    "import sys\n",
    "\n",
    "# Complete the bonAppetit function below.\n",
    "def bonAppetit(bill, k, b):\n",
    "    sum = 0\n",
    "    for i in range(len(bill)):\n",
    "        if i != k:\n",
    "            sum = sum + bill[i]\n",
    "    if sum/2 == b:\n",
    "        print('Bon Appetit')\n",
    "    else:\n",
    "        print(int(b - (sum-(sum/2))))\n",
    "            \n",
    "if __name__ == '__main__':\n",
    "    nk = input().rstrip().split()\n",
    "\n",
    "    n = int(nk[0])\n",
    "\n",
    "    k = int(nk[1])\n",
    "\n",
    "    bill = list(map(int, input().rstrip().split()))\n",
    "\n",
    "    b = int(input().strip())\n",
    "\n",
    "    bonAppetit(bill, k, b)"
   ]
  },
  {
   "cell_type": "code",
   "execution_count": null,
   "metadata": {},
   "outputs": [],
   "source": []
  }
 ],
 "metadata": {
  "kernelspec": {
   "display_name": "Python 3",
   "language": "python",
   "name": "python3"
  },
  "language_info": {
   "codemirror_mode": {
    "name": "ipython",
    "version": 3
   },
   "file_extension": ".py",
   "mimetype": "text/x-python",
   "name": "python",
   "nbconvert_exporter": "python",
   "pygments_lexer": "ipython3",
   "version": "3.6.5"
  }
 },
 "nbformat": 4,
 "nbformat_minor": 2
}
