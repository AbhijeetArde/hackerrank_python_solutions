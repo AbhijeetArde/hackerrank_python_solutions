{
 "cells": [
  {
   "cell_type": "markdown",
   "metadata": {},
   "source": [
    "# Chocolate Feast"
   ]
  },
  {
   "cell_type": "markdown",
   "metadata": {},
   "source": [
    "Little Bobby loves chocolate. He frequently goes to his favorite  store, Penny Auntie, to buy them. They are having a promotion at Penny Auntie. If Bobby saves enough wrappers, he can turn them in for a free chocolate.\n",
    "\n",
    "For example, Bobby has  to spend on bars of chocolate that cost  each. He can turn in  wrappers to receive another bar. Initially, he buys  bars and has  wrappers after eating them. He turns in  of them, leaving him with , for more bars. After eating those two, he has  wrappers, turns in  leaving him with  wrapper and his new bar. Once he eats that one, he has  wrappers and turns them in for another bar. After eating that one, he only has  wrapper, and his feast ends. Overall, he has eaten  bars.\n",
    "\n",
    "Function Description\n",
    "\n",
    "Complete the chocolateFeast function in the editor below. It must return the number of chocolates Bobby can eat after taking full advantage of the promotion.\n",
    "\n",
    "chocolateFeast has the following parameter(s):\n",
    "\n",
    "n: an integer representing Bobby's initial amount of money\n",
    "c: an integer representing the cost of a chocolate bar\n",
    "m: an integer representing the number of wrappers he can turn in for a free bar\n",
    "Note: Little Bobby will always turn in his wrappers if he has enough to get a free chocolate.\n",
    "\n",
    "Input Format\n",
    "\n",
    "The first line contains an integer, , denoting the number of test cases to analyze. \n",
    "Each of the next  lines contains three space-separated integers: , , and . They represent money to spend, cost of a chocolate, and the number of wrappers he can turn in for a free chocolate.\n",
    "\n",
    "Constraints\n",
    "\n",
    "Output Format\n",
    "\n",
    "For each trip to Penny Auntie, print the total number of chocolates Bobby eats on a new line.\n",
    "\n",
    "Sample Input\n",
    "\n",
    "3\n",
    "10 2 5\n",
    "12 4 4\n",
    "6 2 2\n",
    "Sample Output\n",
    "\n",
    "6\n",
    "3\n",
    "5\n",
    "Explanation\n",
    "\n",
    "Bobby makes the following  trips to the store:\n",
    "\n",
    "He spends his  dollars on  chocolates at  dollars apiece. He then eats them and exchanges all  wrappers to get  more. He eats  chocolates.\n",
    "He spends his  dollars on  chocolates at  dollars apiece. He has  wrappers, but needs  to trade for his next chocolate. He eats  chocolates.\n",
    "He spends  dollars on  chocolates at  dollars apiece. He then exchanges  of the  wrappers for  additional piece. Next, he uses his third leftover chocolate wrapper from his initial purchase with the wrapper from his trade-in to do a second trade-in for  more piece. At this point he has  wrapper left, which is not enough to perform another trade-in. He eats chocolates."
   ]
  },
  {
   "cell_type": "code",
   "execution_count": 16,
   "metadata": {},
   "outputs": [
    {
     "name": "stdout",
     "output_type": "stream",
     "text": [
      "1\n",
      "15 3 2\n",
      "2\n",
      "1\n",
      "3\n",
      "7\n",
      "1\n",
      "1\n",
      "2\n",
      "8\n",
      "1\n",
      "0\n",
      "1\n",
      "9\n"
     ]
    }
   ],
   "source": [
    "import math\n",
    "import os\n",
    "import random\n",
    "import re\n",
    "import sys\n",
    "\n",
    "# Complete the chocolateFeast function below.\n",
    "def chocolateFeast(n, c, m):\n",
    "    chocolate = n // c #initial chocolates\n",
    "    wrapper = chocolate #initial wrappers\n",
    "    while wrapper // m > 0:\n",
    "        new_chocolate = wrapper // m #chocolate thats can be received after exchange\n",
    "        wrapper = wrapper  - new_chocolate*m #wrappers available after exchange\n",
    "        wrapper = wrapper + new_chocolate #wrappers available after consuming new chocolates\n",
    "        chocolate = chocolate + new_chocolate #total chocolates consumed\n",
    "    print(chocolate)\n",
    "\n",
    "if __name__ == '__main__':\n",
    "    #fptr = open(os.environ['OUTPUT_PATH'], 'w')\n",
    "\n",
    "    t = int(input())\n",
    "\n",
    "    for t_itr in range(t):\n",
    "        ncm = input().split()\n",
    "\n",
    "        n = int(ncm[0])\n",
    "\n",
    "        c = int(ncm[1])\n",
    "\n",
    "        m = int(ncm[2])\n",
    "\n",
    "        result = chocolateFeast(n, c, m)\n",
    "\n",
    "        #fptr.write(str(result) + '\\n')\n",
    "\n",
    "    #fptr.close()\n"
   ]
  },
  {
   "cell_type": "code",
   "execution_count": null,
   "metadata": {},
   "outputs": [],
   "source": []
  }
 ],
 "metadata": {
  "kernelspec": {
   "display_name": "Python 3",
   "language": "python",
   "name": "python3"
  },
  "language_info": {
   "codemirror_mode": {
    "name": "ipython",
    "version": 3
   },
   "file_extension": ".py",
   "mimetype": "text/x-python",
   "name": "python",
   "nbconvert_exporter": "python",
   "pygments_lexer": "ipython3",
   "version": "3.6.5"
  }
 },
 "nbformat": 4,
 "nbformat_minor": 2
}
