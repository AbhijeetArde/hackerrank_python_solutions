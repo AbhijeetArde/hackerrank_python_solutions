{
 "cells": [
  {
   "cell_type": "markdown",
   "metadata": {},
   "source": [
    "# Taum and B'day"
   ]
  },
  {
   "cell_type": "markdown",
   "metadata": {},
   "source": [
    "Taum is planning to celebrate the birthday of his friend, Diksha. There are two types of gifts that Diksha wants from Taum: one is black and the other is white. To make her happy, Taum has to buy  black gifts and  white gifts.\n",
    "\n",
    "The cost of each black gift is  units.\n",
    "The cost of every white gift is  units.\n",
    "The cost of converting each black gift into white gift or vice versa is  units.\n",
    "Help Taum by deducing the minimum amount he needs to spend on Diksha's gifts.\n",
    "\n",
    "For example, if Taum wants to buy  black gifts and  white gifts at a cost of  and conversion cost , we see that he can buy a black gift for  and convert it to a white gift for , making the total cost of each white gift . That matches the cost of a white gift, so he can do that or just buy black gifts and white gifts. Either way, the overall cost is .\n",
    "\n",
    "Function Description\n",
    "\n",
    "Complete the function taumBday in the editor below. It should return the minimal cost of obtaining the desired gifts.\n",
    "\n",
    "taumBday has the following parameter(s):\n",
    "\n",
    "b: the number of black gifts\n",
    "w: the number of white gifts\n",
    "bc: the cost of a black gift\n",
    "wc: the cost of a white gift\n",
    "z: the cost to convert one color gift to the other color\n",
    "Input Format\n",
    "\n",
    "The first line will contain an integer , the number of test cases.\n",
    "\n",
    "The next  pairs of lines are as follows: \n",
    "- The first line contains the values of integers  and . \n",
    "- The next line contains the values of integers , , and .\n",
    "\n",
    "Constraints\n",
    "\n",
    " \n",
    "\n",
    "Output Format\n",
    "\n",
    " lines, each containing an integer: the minimum amount of units Taum needs to spend on gifts.\n",
    "\n",
    "Sample Input\n",
    "\n",
    "5\n",
    "10 10\n",
    "1 1 1\n",
    "5 9\n",
    "2 3 4\n",
    "3 6\n",
    "9 1 1\n",
    "7 7\n",
    "4 2 1\n",
    "3 3\n",
    "1 9 2\n",
    "Sample Output\n",
    "\n",
    "20\n",
    "37\n",
    "12\n",
    "35\n",
    "12\n",
    "Explanation\n",
    "\n",
    "Test Case #01: \n",
    "Since black gifts cost the same as white, there is no benefit to converting the gifts. Taum will have to buy each gift for 1 unit. The cost of buying all gifts will be: .\n",
    "\n",
    "Test Case #02: \n",
    "Again, we can't decrease the cost of black or white gifts by converting colors.  is too high. We will buy gifts at their original prices, so the cost of buying all gifts will be: .\n",
    "\n",
    "Test Case #03: \n",
    "Since , we will buy  white gifts at their original price of .  of the gifts must be black, and the cost per conversion, . Total cost is .\n",
    "\n",
    "Test Case #04: \n",
    "Similarly, we will buy  white gifts at their original price, . For black gifts, we will first buy white ones and color them to black, so that their cost will be reduced to . So cost of buying all gifts will be: .\n",
    "\n",
    "Test Case #05: We will buy black gifts at their original price, . For white gifts, we will first black gifts worth  unit and color them to white for  units. The cost for white gifts is reduced to  units. The cost of buying all gifts will be: ."
   ]
  },
  {
   "cell_type": "code",
   "execution_count": 14,
   "metadata": {},
   "outputs": [
    {
     "name": "stdout",
     "output_type": "stream",
     "text": [
      "1\n",
      "212 369\n",
      "2568 6430 5783\n",
      "3\n",
      "3625935\n"
     ]
    }
   ],
   "source": [
    "def taumBday(b, w, bc, wc, z):\n",
    "    tot = 0\n",
    "    if bc == wc or (z > bc and z > wc):\n",
    "        print(1)\n",
    "        print(b*bc + w*wc)\n",
    "    elif (bc > (wc+z)):\n",
    "        print(2)\n",
    "        tot = b+w\n",
    "        print(tot*wc + b*z)\n",
    "    else:\n",
    "        print(3)\n",
    "        tot = b+w\n",
    "        print(tot*bc + w*z)\n",
    "        \n",
    "        \n",
    "    \n",
    "if __name__ == '__main__':\n",
    "    #fptr = open(os.environ['OUTPUT_PATH'], 'w')\n",
    "\n",
    "    t = int(input().strip())\n",
    "\n",
    "    for t_itr in range(t):\n",
    "        first_multiple_input = input().rstrip().split()\n",
    "\n",
    "        b = int(first_multiple_input[0])\n",
    "\n",
    "        w = int(first_multiple_input[1])\n",
    "\n",
    "        second_multiple_input = input().rstrip().split()\n",
    "\n",
    "        bc = int(second_multiple_input[0])\n",
    "\n",
    "        wc = int(second_multiple_input[1])\n",
    "\n",
    "        z = int(second_multiple_input[2])\n",
    "\n",
    "        result = taumBday(b, w, bc, wc, z)\n",
    "\n",
    "        #fptr.write(str(result) + '\\n')\n",
    "\n",
    "    #fptr.close()\n"
   ]
  },
  {
   "cell_type": "markdown",
   "metadata": {},
   "source": [
    "Above my soultion failed in most of test cases"
   ]
  },
  {
   "cell_type": "code",
   "execution_count": 15,
   "metadata": {},
   "outputs": [],
   "source": [
    "#Simple soultion from discussion\n",
    "\n",
    "def taumBday(b, w, bc, wc, z):\n",
    "    return b*min(bc, wc+z) + w*min(wc,bc+z)"
   ]
  },
  {
   "cell_type": "code",
   "execution_count": null,
   "metadata": {},
   "outputs": [],
   "source": []
  }
 ],
 "metadata": {
  "kernelspec": {
   "display_name": "Python 3",
   "language": "python",
   "name": "python3"
  },
  "language_info": {
   "codemirror_mode": {
    "name": "ipython",
    "version": 3
   },
   "file_extension": ".py",
   "mimetype": "text/x-python",
   "name": "python",
   "nbconvert_exporter": "python",
   "pygments_lexer": "ipython3",
   "version": "3.6.5"
  }
 },
 "nbformat": 4,
 "nbformat_minor": 2
}
