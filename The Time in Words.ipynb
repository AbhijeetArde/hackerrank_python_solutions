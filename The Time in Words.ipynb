{
 "cells": [
  {
   "cell_type": "markdown",
   "metadata": {},
   "source": [
    "# The Time in Words"
   ]
  },
  {
   "cell_type": "markdown",
   "metadata": {},
   "source": [
    "Given the time in numerals we may convert it into words, as shown below:\n",
    "\n",
    "At , use o' clock. For , use past, and for  use to. Note the space between the apostrophe and clock in o' clock. Write a program which prints the time in words for the input given in the format described.\n",
    "\n",
    "Function Description\n",
    "\n",
    "Complete the timeInWords function in the editor below. It should return a time string as described.\n",
    "\n",
    "timeInWords has the following parameter(s):\n",
    "\n",
    "h: an integer representing hour of the day\n",
    "m: an integer representing minutes after the hour\n",
    "Input Format\n",
    "\n",
    "The first line contains , the hours portion The second line contains , the minutes portion\n",
    "\n",
    "Constraints\n",
    "\n",
    "Output Format\n",
    "\n",
    "Print the time in words as described.\n",
    "\n",
    "Sample Input 0\n",
    "\n",
    "5\n",
    "47\n",
    "Sample Output 0\n",
    "\n",
    "thirteen minutes to six\n",
    "Sample Input 1\n",
    "\n",
    "3\n",
    "00\n",
    "Sample Output 1\n",
    "\n",
    "three o' clock\n",
    "Sample Input 2\n",
    "\n",
    "7\n",
    "15\n",
    "Sample Output 2\n",
    "\n",
    "quarter past seven"
   ]
  },
  {
   "cell_type": "code",
   "execution_count": 4,
   "metadata": {},
   "outputs": [
    {
     "name": "stdout",
     "output_type": "stream",
     "text": [
      "5\n",
      "23\n"
     ]
    }
   ],
   "source": [
    "import math\n",
    "import os\n",
    "import random\n",
    "import re\n",
    "import sys\n",
    "\n",
    "# Complete the timeInWords function below.\n",
    "def timeInWords(h, m):\n",
    "    hours = (\"one\", \"two\", \"three\", \"four\", \"five\", \"six\", \n",
    "                        \"seven\", \"eight\", \"nine\", \"ten\", \n",
    "                        \"eleven\", \"twelve\")\n",
    "    minutes = (\"one\", \"two\", \"three\", \"four\", \"five\", \"six\", \n",
    "                        \"seven\", \"eight\", \"nine\", \"ten\", \n",
    "                        \"eleven\", \"twelve\", \"thirteen\", \n",
    "                        \"fourteen\",\"fifteen\", \"sixteen\", \n",
    "                        \"seventeen\", \"eighteen\", \"ninteen\", \n",
    "                        \"twenty\", \"twenty one\", \"twenty two\", \n",
    "                        \"twenty three\", \"twenty four\", \n",
    "                        \"twenty five\", \"twenty six\", \n",
    "                        \"twenty seven\", \"twenty eight\", \n",
    "                        \"twenty nine\")\n",
    "\n",
    "    formats = {\n",
    "        0: \"%s o' clock\",\n",
    "        1: \"one minute past %s\",\n",
    "        10: \"ten minutes past %s\",\n",
    "        15: \"quarter past %s\",    \n",
    "        30: \"half past %s\",\n",
    "        40: \"twenty minutes to %s\",\n",
    "        45: \"quarter to %s\",\n",
    "    }\n",
    "    \n",
    "    time = \"\"\n",
    "    if m in (0,1,10,15,30,40,45):\n",
    "        k = 1 if m <= 30 else 0\n",
    "        time = formats[m] % hours[h - k]\n",
    "        \n",
    "    elif (m < 30):\n",
    "        hour = hours[h - 1]\n",
    "        time = \"{} minutes past {}\".format(minutes[m - 1], hour)\n",
    "\n",
    "    elif (m > 30):\n",
    "        hour = hours[h]\n",
    "        time = \"{} minutes to {}\".format(minutes[60 - m - 1], hour)\n",
    "\n",
    "    return time\n",
    "    \n",
    "    \n",
    "if __name__ == '__main__':\n",
    "    #fptr = open(os.environ['OUTPUT_PATH'], 'w')\n",
    "\n",
    "    h = int(input())\n",
    "\n",
    "    m = int(input())\n",
    "\n",
    "    result = timeInWords(h, m)\n",
    "\n",
    "    #fptr.write(result + '\\n')\n",
    "\n",
    "    #fptr.close()\n"
   ]
  },
  {
   "cell_type": "code",
   "execution_count": null,
   "metadata": {},
   "outputs": [],
   "source": []
  }
 ],
 "metadata": {
  "kernelspec": {
   "display_name": "Python 3",
   "language": "python",
   "name": "python3"
  },
  "language_info": {
   "codemirror_mode": {
    "name": "ipython",
    "version": 3
   },
   "file_extension": ".py",
   "mimetype": "text/x-python",
   "name": "python",
   "nbconvert_exporter": "python",
   "pygments_lexer": "ipython3",
   "version": "3.6.5"
  }
 },
 "nbformat": 4,
 "nbformat_minor": 2
}
